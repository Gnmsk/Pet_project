{
 "cells": [
  {
   "cell_type": "markdown",
   "id": "2f77c205-92b1-4477-8fcd-e21134586d99",
   "metadata": {},
   "source": [
    "# Проект поиска профитной торговой стратегии на криптобирже"
   ]
  },
  {
   "cell_type": "markdown",
   "id": "7c2d7ea3-b072-4c6a-9ea9-e028b3e537ee",
   "metadata": {},
   "source": [
    "## Задача"
   ]
  },
  {
   "cell_type": "markdown",
   "id": "c24c142e-4bf1-415d-ab11-4c4d9a66d041",
   "metadata": {},
   "source": [
    "* **Проанализировать 3 самые популярные торговые метрики по мнению Тинькофф инвестиций (https://www.tbank.ru/invest/help/educate/trading/) и влияние их сигналов на вероятность извлечения дохода из позиции**\n",
    "* **По возможности обучить модель, которую можно будет применить для торговли**"
   ]
  },
  {
   "cell_type": "markdown",
   "id": "c98ca79d-91c0-4235-893d-2eff50131036",
   "metadata": {},
   "source": [
    "## План работы"
   ]
  },
  {
   "cell_type": "markdown",
   "id": "8092ad09-1744-4466-92b4-d1bfc5864a9c",
   "metadata": {},
   "source": [
    "* **Загрузить данные** Это будут историчейские данные по ценам SOL загруженные с биржы Bybit за несколько месяцев (https://www.bybit.com/derivatives/en/history-data)\n",
    "* **Проверка данных на корректность загрузки**\n",
    "* **Предобработка данных**\n",
    "* **Исследовательский анализ**\n",
    "* **Подготовка данных для ML**\n",
    "* **Обучение моделей**\n",
    "* **Анализ результатов моделей**\n",
    "* **Вывод**"
   ]
  },
  {
   "cell_type": "markdown",
   "id": "0ff8db5a-91cc-4ad5-bfdb-aad75cab9745",
   "metadata": {},
   "source": [
    "### Импорты"
   ]
  },
  {
   "cell_type": "code",
   "execution_count": 8,
   "id": "3749e7d5-5d35-409d-bb2e-c52ffd8652a1",
   "metadata": {},
   "outputs": [],
   "source": [
    "import pandas as pd\n",
    "import sklearn\n",
    "import talib\n",
    "import torch\n",
    "import matplotlib.pyplot as plt\n",
    "import seaborn as sn\n",
    "import shap\n",
    "import numpy as np\n",
    "import phik\n",
    "\n",
    "from sklearn.model_selection import train_test_split, GridSearchCV, TimeSeriesSplit\n",
    "from sklearn.compose import ColumnTransformer\n",
    "from sklearn.preprocessing import (\n",
    "    StandardScaler,\n",
    "    MinMaxScaler,\n",
    "    RobustScaler,\n",
    "    OneHotEncoder,\n",
    "    OrdinalEncoder\n",
    ")\n",
    "\n",
    "from sklearn.linear_model import LogisticRegression\n",
    "from catboost import CatBoostClassifier\n",
    "import lightgbm as lgb\n",
    "\n",
    "from sklearn.metrics import mean_absolute_error, mean_squared_error, roc_auc_score, accuracy_score, confusion_matrix\n",
    "from sklearn.metrics import ConfusionMatrixDisplay\n",
    "from sklearn.pipeline import Pipeline\n",
    "from sklearn.impute import SimpleImputer"
   ]
  },
  {
   "cell_type": "code",
   "execution_count": 9,
   "id": "f1d101c4-1761-4dd5-bdf5-1d05f93e330c",
   "metadata": {},
   "outputs": [],
   "source": [
    "RANDOM_STATE = 42"
   ]
  },
  {
   "cell_type": "code",
   "execution_count": 10,
   "id": "f46c033b-200e-4a3e-836b-21c77071f69d",
   "metadata": {},
   "outputs": [],
   "source": [
    "pd.options.display.max_columns = 100"
   ]
  },
  {
   "cell_type": "markdown",
   "id": "660944b3-2538-4694-940f-cfe153efce91",
   "metadata": {},
   "source": [
    "## Загрузка данных"
   ]
  },
  {
   "cell_type": "code",
   "execution_count": 12,
   "id": "1b330286-d30a-4be5-931f-6f2d9f3dec8d",
   "metadata": {},
   "outputs": [],
   "source": [
    "col_names = ['date_time','open_price','high_price','low_price','close_price','trade_volume']"
   ]
  },
  {
   "cell_type": "code",
   "execution_count": 13,
   "id": "87bce4e5-c719-48c1-85ac-6eca9573a6db",
   "metadata": {},
   "outputs": [],
   "source": [
    "date_col = ['date_time']"
   ]
  },
  {
   "cell_type": "code",
   "execution_count": 14,
   "id": "acea3c14-2f83-43f5-a35e-7b41a850512f",
   "metadata": {},
   "outputs": [],
   "source": [
    "sol_data_01 = pd.read_csv(\"H:\\SOLUSDT_5_2024-01-01_2024-01-31.csv\", names=col_names, parse_dates=date_col)"
   ]
  },
  {
   "cell_type": "code",
   "execution_count": 15,
   "id": "3ccc7005-a6e5-46c8-b472-a5fc1a2ba334",
   "metadata": {},
   "outputs": [],
   "source": [
    "sol_data_02 = pd.read_csv(\"H:\\SOLUSDT_5_2024-02-01_2024-02-29.csv\", names=col_names, parse_dates=date_col)"
   ]
  },
  {
   "cell_type": "code",
   "execution_count": 16,
   "id": "ca1ed47c-6e31-4c01-97b1-df9057b91c74",
   "metadata": {},
   "outputs": [],
   "source": [
    "sol_data_03 = pd.read_csv(\"H:\\SOLUSDT_5_2024-03-01_2024-03-31.csv\", names=col_names, parse_dates=date_col)"
   ]
  },
  {
   "cell_type": "code",
   "execution_count": 17,
   "id": "db55c074-6ca9-4160-9857-af5ab0cca8ee",
   "metadata": {},
   "outputs": [],
   "source": [
    "sol_data_04 = pd.read_csv(\"H:\\SOLUSDT_5_2024-04-01_2024-04-30.csv\", names=col_names, parse_dates=date_col)"
   ]
  },
  {
   "cell_type": "code",
   "execution_count": 18,
   "id": "c9debfa7-e2bb-4531-9383-58f2065d7424",
   "metadata": {},
   "outputs": [],
   "source": [
    "sol_data_05 = pd.read_csv(\"H:\\SOLUSDT_5_2024-05-01_2024-05-31.csv\", names=col_names, parse_dates=date_col)"
   ]
  },
  {
   "cell_type": "code",
   "execution_count": 19,
   "id": "0e36606c-1de6-4e57-bc42-a71fd569c465",
   "metadata": {},
   "outputs": [],
   "source": [
    "sol_data_06 = pd.read_csv(\"H:\\SOLUSDT_5_2024-06-01_2024-06-30.csv\", names=col_names, parse_dates=date_col)"
   ]
  },
  {
   "cell_type": "code",
   "execution_count": 20,
   "id": "af8ada13-6c24-4ad8-88e1-cc930aff8501",
   "metadata": {},
   "outputs": [],
   "source": [
    "sol_data_07 = pd.read_csv(\"H:\\SOLUSDT_5_2024-07-01_2024-07-31.csv\", names=col_names, parse_dates=date_col)"
   ]
  },
  {
   "cell_type": "markdown",
   "id": "f23029de-e882-4420-93c4-3221687e86fb",
   "metadata": {},
   "source": [
    "## Проверка загруженных данных"
   ]
  },
  {
   "cell_type": "markdown",
   "id": "a0089905-a8cd-4ff6-af18-af0b9c334d0f",
   "metadata": {},
   "source": [
    "### Sol_data_01"
   ]
  },
  {
   "cell_type": "code",
   "execution_count": 23,
   "id": "fb989c9f-d106-431c-8077-0061fa9d7672",
   "metadata": {},
   "outputs": [
    {
     "data": {
      "text/html": [
       "<div>\n",
       "<style scoped>\n",
       "    .dataframe tbody tr th:only-of-type {\n",
       "        vertical-align: middle;\n",
       "    }\n",
       "\n",
       "    .dataframe tbody tr th {\n",
       "        vertical-align: top;\n",
       "    }\n",
       "\n",
       "    .dataframe thead th {\n",
       "        text-align: right;\n",
       "    }\n",
       "</style>\n",
       "<table border=\"1\" class=\"dataframe\">\n",
       "  <thead>\n",
       "    <tr style=\"text-align: right;\">\n",
       "      <th></th>\n",
       "      <th>date_time</th>\n",
       "      <th>open_price</th>\n",
       "      <th>high_price</th>\n",
       "      <th>low_price</th>\n",
       "      <th>close_price</th>\n",
       "      <th>trade_volume</th>\n",
       "    </tr>\n",
       "  </thead>\n",
       "  <tbody>\n",
       "    <tr>\n",
       "      <th>0</th>\n",
       "      <td>2024-01-01 00:00:00</td>\n",
       "      <td>104.967</td>\n",
       "      <td>105.072</td>\n",
       "      <td>104.610</td>\n",
       "      <td>104.699</td>\n",
       "      <td>13397.4</td>\n",
       "    </tr>\n",
       "    <tr>\n",
       "      <th>1</th>\n",
       "      <td>2024-01-01 00:05:00</td>\n",
       "      <td>104.699</td>\n",
       "      <td>104.900</td>\n",
       "      <td>104.636</td>\n",
       "      <td>104.707</td>\n",
       "      <td>8440.9</td>\n",
       "    </tr>\n",
       "    <tr>\n",
       "      <th>2</th>\n",
       "      <td>2024-01-01 00:10:00</td>\n",
       "      <td>104.707</td>\n",
       "      <td>104.795</td>\n",
       "      <td>104.610</td>\n",
       "      <td>104.770</td>\n",
       "      <td>3426.5</td>\n",
       "    </tr>\n",
       "    <tr>\n",
       "      <th>3</th>\n",
       "      <td>2024-01-01 00:15:00</td>\n",
       "      <td>104.770</td>\n",
       "      <td>105.270</td>\n",
       "      <td>104.769</td>\n",
       "      <td>105.105</td>\n",
       "      <td>20284.9</td>\n",
       "    </tr>\n",
       "    <tr>\n",
       "      <th>4</th>\n",
       "      <td>2024-01-01 00:20:00</td>\n",
       "      <td>105.105</td>\n",
       "      <td>105.147</td>\n",
       "      <td>104.713</td>\n",
       "      <td>104.859</td>\n",
       "      <td>9132.7</td>\n",
       "    </tr>\n",
       "  </tbody>\n",
       "</table>\n",
       "</div>"
      ],
      "text/plain": [
       "            date_time  open_price  high_price  low_price  close_price  \\\n",
       "0 2024-01-01 00:00:00     104.967     105.072    104.610      104.699   \n",
       "1 2024-01-01 00:05:00     104.699     104.900    104.636      104.707   \n",
       "2 2024-01-01 00:10:00     104.707     104.795    104.610      104.770   \n",
       "3 2024-01-01 00:15:00     104.770     105.270    104.769      105.105   \n",
       "4 2024-01-01 00:20:00     105.105     105.147    104.713      104.859   \n",
       "\n",
       "   trade_volume  \n",
       "0       13397.4  \n",
       "1        8440.9  \n",
       "2        3426.5  \n",
       "3       20284.9  \n",
       "4        9132.7  "
      ]
     },
     "execution_count": 23,
     "metadata": {},
     "output_type": "execute_result"
    }
   ],
   "source": [
    "sol_data_01.head()"
   ]
  },
  {
   "cell_type": "code",
   "execution_count": 24,
   "id": "91a9d483-fb6f-4eb4-b012-e9c4ccc2c0ef",
   "metadata": {},
   "outputs": [
    {
     "name": "stdout",
     "output_type": "stream",
     "text": [
      "<class 'pandas.core.frame.DataFrame'>\n",
      "RangeIndex: 600 entries, 0 to 599\n",
      "Data columns (total 6 columns):\n",
      " #   Column        Non-Null Count  Dtype         \n",
      "---  ------        --------------  -----         \n",
      " 0   date_time     600 non-null    datetime64[ns]\n",
      " 1   open_price    600 non-null    float64       \n",
      " 2   high_price    600 non-null    float64       \n",
      " 3   low_price     600 non-null    float64       \n",
      " 4   close_price   600 non-null    float64       \n",
      " 5   trade_volume  600 non-null    float64       \n",
      "dtypes: datetime64[ns](1), float64(5)\n",
      "memory usage: 28.3 KB\n"
     ]
    }
   ],
   "source": [
    "sol_data_01.info()"
   ]
  },
  {
   "cell_type": "code",
   "execution_count": 25,
   "id": "64f79522-1ccd-489d-bddc-35bdfc3f2ae4",
   "metadata": {},
   "outputs": [
    {
     "data": {
      "text/plain": [
       "(600, 6)"
      ]
     },
     "execution_count": 25,
     "metadata": {},
     "output_type": "execute_result"
    }
   ],
   "source": [
    "sol_data_01.shape"
   ]
  },
  {
   "cell_type": "markdown",
   "id": "53a7de5e-6013-4027-aa87-ee981bd59ef5",
   "metadata": {},
   "source": [
    "### Sol_data_02"
   ]
  },
  {
   "cell_type": "code",
   "execution_count": 27,
   "id": "a68562f7-64fe-483c-94e3-bc4963b3a136",
   "metadata": {},
   "outputs": [
    {
     "data": {
      "text/html": [
       "<div>\n",
       "<style scoped>\n",
       "    .dataframe tbody tr th:only-of-type {\n",
       "        vertical-align: middle;\n",
       "    }\n",
       "\n",
       "    .dataframe tbody tr th {\n",
       "        vertical-align: top;\n",
       "    }\n",
       "\n",
       "    .dataframe thead th {\n",
       "        text-align: right;\n",
       "    }\n",
       "</style>\n",
       "<table border=\"1\" class=\"dataframe\">\n",
       "  <thead>\n",
       "    <tr style=\"text-align: right;\">\n",
       "      <th></th>\n",
       "      <th>date_time</th>\n",
       "      <th>open_price</th>\n",
       "      <th>high_price</th>\n",
       "      <th>low_price</th>\n",
       "      <th>close_price</th>\n",
       "      <th>trade_volume</th>\n",
       "    </tr>\n",
       "  </thead>\n",
       "  <tbody>\n",
       "    <tr>\n",
       "      <th>0</th>\n",
       "      <td>2024-02-01 00:00:00</td>\n",
       "      <td>97.972</td>\n",
       "      <td>98.337</td>\n",
       "      <td>97.741</td>\n",
       "      <td>98.154</td>\n",
       "      <td>78913.8</td>\n",
       "    </tr>\n",
       "    <tr>\n",
       "      <th>1</th>\n",
       "      <td>2024-02-01 00:05:00</td>\n",
       "      <td>98.154</td>\n",
       "      <td>98.358</td>\n",
       "      <td>97.931</td>\n",
       "      <td>98.230</td>\n",
       "      <td>49701.0</td>\n",
       "    </tr>\n",
       "    <tr>\n",
       "      <th>2</th>\n",
       "      <td>2024-02-01 00:10:00</td>\n",
       "      <td>98.230</td>\n",
       "      <td>98.441</td>\n",
       "      <td>98.018</td>\n",
       "      <td>98.208</td>\n",
       "      <td>48445.5</td>\n",
       "    </tr>\n",
       "    <tr>\n",
       "      <th>3</th>\n",
       "      <td>2024-02-01 00:15:00</td>\n",
       "      <td>98.208</td>\n",
       "      <td>98.703</td>\n",
       "      <td>98.208</td>\n",
       "      <td>98.539</td>\n",
       "      <td>63167.8</td>\n",
       "    </tr>\n",
       "    <tr>\n",
       "      <th>4</th>\n",
       "      <td>2024-02-01 00:20:00</td>\n",
       "      <td>98.539</td>\n",
       "      <td>98.583</td>\n",
       "      <td>96.753</td>\n",
       "      <td>96.942</td>\n",
       "      <td>202825.0</td>\n",
       "    </tr>\n",
       "  </tbody>\n",
       "</table>\n",
       "</div>"
      ],
      "text/plain": [
       "            date_time  open_price  high_price  low_price  close_price  \\\n",
       "0 2024-02-01 00:00:00      97.972      98.337     97.741       98.154   \n",
       "1 2024-02-01 00:05:00      98.154      98.358     97.931       98.230   \n",
       "2 2024-02-01 00:10:00      98.230      98.441     98.018       98.208   \n",
       "3 2024-02-01 00:15:00      98.208      98.703     98.208       98.539   \n",
       "4 2024-02-01 00:20:00      98.539      98.583     96.753       96.942   \n",
       "\n",
       "   trade_volume  \n",
       "0       78913.8  \n",
       "1       49701.0  \n",
       "2       48445.5  \n",
       "3       63167.8  \n",
       "4      202825.0  "
      ]
     },
     "execution_count": 27,
     "metadata": {},
     "output_type": "execute_result"
    }
   ],
   "source": [
    "sol_data_02.head()"
   ]
  },
  {
   "cell_type": "code",
   "execution_count": 28,
   "id": "9dd9a18b-31b7-44b2-a6e8-8973d8152ea6",
   "metadata": {},
   "outputs": [
    {
     "name": "stdout",
     "output_type": "stream",
     "text": [
      "<class 'pandas.core.frame.DataFrame'>\n",
      "RangeIndex: 8353 entries, 0 to 8352\n",
      "Data columns (total 6 columns):\n",
      " #   Column        Non-Null Count  Dtype         \n",
      "---  ------        --------------  -----         \n",
      " 0   date_time     8353 non-null   datetime64[ns]\n",
      " 1   open_price    8353 non-null   float64       \n",
      " 2   high_price    8353 non-null   float64       \n",
      " 3   low_price     8353 non-null   float64       \n",
      " 4   close_price   8353 non-null   float64       \n",
      " 5   trade_volume  8353 non-null   float64       \n",
      "dtypes: datetime64[ns](1), float64(5)\n",
      "memory usage: 391.7 KB\n"
     ]
    }
   ],
   "source": [
    "sol_data_02.info()"
   ]
  },
  {
   "cell_type": "code",
   "execution_count": 29,
   "id": "8c5db6a8-5140-4de4-a19e-dd507f503259",
   "metadata": {},
   "outputs": [
    {
     "data": {
      "text/plain": [
       "(8353, 6)"
      ]
     },
     "execution_count": 29,
     "metadata": {},
     "output_type": "execute_result"
    }
   ],
   "source": [
    "sol_data_02.shape"
   ]
  },
  {
   "cell_type": "markdown",
   "id": "f5c6acb6-3023-429d-986d-3b851c477b86",
   "metadata": {},
   "source": [
    "### Sol_data_03"
   ]
  },
  {
   "cell_type": "code",
   "execution_count": 31,
   "id": "cce8c323-6e37-4897-8eb1-ea885ff549f8",
   "metadata": {},
   "outputs": [
    {
     "data": {
      "text/html": [
       "<div>\n",
       "<style scoped>\n",
       "    .dataframe tbody tr th:only-of-type {\n",
       "        vertical-align: middle;\n",
       "    }\n",
       "\n",
       "    .dataframe tbody tr th {\n",
       "        vertical-align: top;\n",
       "    }\n",
       "\n",
       "    .dataframe thead th {\n",
       "        text-align: right;\n",
       "    }\n",
       "</style>\n",
       "<table border=\"1\" class=\"dataframe\">\n",
       "  <thead>\n",
       "    <tr style=\"text-align: right;\">\n",
       "      <th></th>\n",
       "      <th>date_time</th>\n",
       "      <th>open_price</th>\n",
       "      <th>high_price</th>\n",
       "      <th>low_price</th>\n",
       "      <th>close_price</th>\n",
       "      <th>trade_volume</th>\n",
       "    </tr>\n",
       "  </thead>\n",
       "  <tbody>\n",
       "    <tr>\n",
       "      <th>0</th>\n",
       "      <td>2024-03-01 00:00:00</td>\n",
       "      <td>130.655</td>\n",
       "      <td>130.696</td>\n",
       "      <td>129.563</td>\n",
       "      <td>129.785</td>\n",
       "      <td>82267.6</td>\n",
       "    </tr>\n",
       "    <tr>\n",
       "      <th>1</th>\n",
       "      <td>2024-03-01 00:05:00</td>\n",
       "      <td>129.785</td>\n",
       "      <td>129.923</td>\n",
       "      <td>127.866</td>\n",
       "      <td>128.019</td>\n",
       "      <td>151424.8</td>\n",
       "    </tr>\n",
       "    <tr>\n",
       "      <th>2</th>\n",
       "      <td>2024-03-01 00:10:00</td>\n",
       "      <td>128.019</td>\n",
       "      <td>129.190</td>\n",
       "      <td>127.548</td>\n",
       "      <td>128.807</td>\n",
       "      <td>115069.5</td>\n",
       "    </tr>\n",
       "    <tr>\n",
       "      <th>3</th>\n",
       "      <td>2024-03-01 00:15:00</td>\n",
       "      <td>128.807</td>\n",
       "      <td>128.823</td>\n",
       "      <td>128.150</td>\n",
       "      <td>128.378</td>\n",
       "      <td>56665.1</td>\n",
       "    </tr>\n",
       "    <tr>\n",
       "      <th>4</th>\n",
       "      <td>2024-03-01 00:20:00</td>\n",
       "      <td>128.378</td>\n",
       "      <td>128.675</td>\n",
       "      <td>126.200</td>\n",
       "      <td>126.618</td>\n",
       "      <td>135527.5</td>\n",
       "    </tr>\n",
       "  </tbody>\n",
       "</table>\n",
       "</div>"
      ],
      "text/plain": [
       "            date_time  open_price  high_price  low_price  close_price  \\\n",
       "0 2024-03-01 00:00:00     130.655     130.696    129.563      129.785   \n",
       "1 2024-03-01 00:05:00     129.785     129.923    127.866      128.019   \n",
       "2 2024-03-01 00:10:00     128.019     129.190    127.548      128.807   \n",
       "3 2024-03-01 00:15:00     128.807     128.823    128.150      128.378   \n",
       "4 2024-03-01 00:20:00     128.378     128.675    126.200      126.618   \n",
       "\n",
       "   trade_volume  \n",
       "0       82267.6  \n",
       "1      151424.8  \n",
       "2      115069.5  \n",
       "3       56665.1  \n",
       "4      135527.5  "
      ]
     },
     "execution_count": 31,
     "metadata": {},
     "output_type": "execute_result"
    }
   ],
   "source": [
    "sol_data_03.head()"
   ]
  },
  {
   "cell_type": "code",
   "execution_count": 32,
   "id": "e504553b-8fe6-4e4a-9e81-035561f05907",
   "metadata": {},
   "outputs": [
    {
     "name": "stdout",
     "output_type": "stream",
     "text": [
      "<class 'pandas.core.frame.DataFrame'>\n",
      "RangeIndex: 8929 entries, 0 to 8928\n",
      "Data columns (total 6 columns):\n",
      " #   Column        Non-Null Count  Dtype         \n",
      "---  ------        --------------  -----         \n",
      " 0   date_time     8929 non-null   datetime64[ns]\n",
      " 1   open_price    8929 non-null   float64       \n",
      " 2   high_price    8929 non-null   float64       \n",
      " 3   low_price     8929 non-null   float64       \n",
      " 4   close_price   8929 non-null   float64       \n",
      " 5   trade_volume  8929 non-null   float64       \n",
      "dtypes: datetime64[ns](1), float64(5)\n",
      "memory usage: 418.7 KB\n"
     ]
    }
   ],
   "source": [
    "sol_data_03.info()"
   ]
  },
  {
   "cell_type": "code",
   "execution_count": 33,
   "id": "f07e8ce7-f93d-484b-ac5e-6d9508050dee",
   "metadata": {},
   "outputs": [
    {
     "data": {
      "text/plain": [
       "(8929, 6)"
      ]
     },
     "execution_count": 33,
     "metadata": {},
     "output_type": "execute_result"
    }
   ],
   "source": [
    "sol_data_03.shape"
   ]
  },
  {
   "cell_type": "markdown",
   "id": "96e787af-0ba0-4258-8883-dab96b8cac24",
   "metadata": {},
   "source": [
    "### Sol_data_04"
   ]
  },
  {
   "cell_type": "code",
   "execution_count": 35,
   "id": "8f674db2-aedd-4a9e-918f-9083cf02fc02",
   "metadata": {},
   "outputs": [
    {
     "data": {
      "text/html": [
       "<div>\n",
       "<style scoped>\n",
       "    .dataframe tbody tr th:only-of-type {\n",
       "        vertical-align: middle;\n",
       "    }\n",
       "\n",
       "    .dataframe tbody tr th {\n",
       "        vertical-align: top;\n",
       "    }\n",
       "\n",
       "    .dataframe thead th {\n",
       "        text-align: right;\n",
       "    }\n",
       "</style>\n",
       "<table border=\"1\" class=\"dataframe\">\n",
       "  <thead>\n",
       "    <tr style=\"text-align: right;\">\n",
       "      <th></th>\n",
       "      <th>date_time</th>\n",
       "      <th>open_price</th>\n",
       "      <th>high_price</th>\n",
       "      <th>low_price</th>\n",
       "      <th>close_price</th>\n",
       "      <th>trade_volume</th>\n",
       "    </tr>\n",
       "  </thead>\n",
       "  <tbody>\n",
       "    <tr>\n",
       "      <th>0</th>\n",
       "      <td>2024-04-01 00:00:00</td>\n",
       "      <td>199.650</td>\n",
       "      <td>199.733</td>\n",
       "      <td>199.427</td>\n",
       "      <td>199.591</td>\n",
       "      <td>9009.1</td>\n",
       "    </tr>\n",
       "    <tr>\n",
       "      <th>1</th>\n",
       "      <td>2024-04-01 00:05:00</td>\n",
       "      <td>199.591</td>\n",
       "      <td>199.704</td>\n",
       "      <td>199.249</td>\n",
       "      <td>199.590</td>\n",
       "      <td>13162.2</td>\n",
       "    </tr>\n",
       "    <tr>\n",
       "      <th>2</th>\n",
       "      <td>2024-04-01 00:10:00</td>\n",
       "      <td>199.590</td>\n",
       "      <td>199.877</td>\n",
       "      <td>199.352</td>\n",
       "      <td>199.358</td>\n",
       "      <td>17536.0</td>\n",
       "    </tr>\n",
       "    <tr>\n",
       "      <th>3</th>\n",
       "      <td>2024-04-01 00:15:00</td>\n",
       "      <td>199.358</td>\n",
       "      <td>199.400</td>\n",
       "      <td>199.008</td>\n",
       "      <td>199.021</td>\n",
       "      <td>10926.9</td>\n",
       "    </tr>\n",
       "    <tr>\n",
       "      <th>4</th>\n",
       "      <td>2024-04-01 00:20:00</td>\n",
       "      <td>199.021</td>\n",
       "      <td>199.327</td>\n",
       "      <td>198.703</td>\n",
       "      <td>198.970</td>\n",
       "      <td>17711.8</td>\n",
       "    </tr>\n",
       "  </tbody>\n",
       "</table>\n",
       "</div>"
      ],
      "text/plain": [
       "            date_time  open_price  high_price  low_price  close_price  \\\n",
       "0 2024-04-01 00:00:00     199.650     199.733    199.427      199.591   \n",
       "1 2024-04-01 00:05:00     199.591     199.704    199.249      199.590   \n",
       "2 2024-04-01 00:10:00     199.590     199.877    199.352      199.358   \n",
       "3 2024-04-01 00:15:00     199.358     199.400    199.008      199.021   \n",
       "4 2024-04-01 00:20:00     199.021     199.327    198.703      198.970   \n",
       "\n",
       "   trade_volume  \n",
       "0        9009.1  \n",
       "1       13162.2  \n",
       "2       17536.0  \n",
       "3       10926.9  \n",
       "4       17711.8  "
      ]
     },
     "execution_count": 35,
     "metadata": {},
     "output_type": "execute_result"
    }
   ],
   "source": [
    "sol_data_04.head()"
   ]
  },
  {
   "cell_type": "code",
   "execution_count": 36,
   "id": "c914bda9-580b-4ad8-997c-23bde5b425f4",
   "metadata": {},
   "outputs": [
    {
     "name": "stdout",
     "output_type": "stream",
     "text": [
      "<class 'pandas.core.frame.DataFrame'>\n",
      "RangeIndex: 8641 entries, 0 to 8640\n",
      "Data columns (total 6 columns):\n",
      " #   Column        Non-Null Count  Dtype         \n",
      "---  ------        --------------  -----         \n",
      " 0   date_time     8641 non-null   datetime64[ns]\n",
      " 1   open_price    8641 non-null   float64       \n",
      " 2   high_price    8641 non-null   float64       \n",
      " 3   low_price     8641 non-null   float64       \n",
      " 4   close_price   8641 non-null   float64       \n",
      " 5   trade_volume  8641 non-null   float64       \n",
      "dtypes: datetime64[ns](1), float64(5)\n",
      "memory usage: 405.2 KB\n"
     ]
    }
   ],
   "source": [
    "sol_data_04.info()"
   ]
  },
  {
   "cell_type": "code",
   "execution_count": 37,
   "id": "bd1c976b-aa19-49d0-b843-6c9b9a9afabc",
   "metadata": {},
   "outputs": [
    {
     "data": {
      "text/plain": [
       "(8641, 6)"
      ]
     },
     "execution_count": 37,
     "metadata": {},
     "output_type": "execute_result"
    }
   ],
   "source": [
    "sol_data_04.shape"
   ]
  },
  {
   "cell_type": "markdown",
   "id": "50f68d1b-70e0-4de0-b507-3122e4f32e87",
   "metadata": {},
   "source": [
    "### Sol_data_05"
   ]
  },
  {
   "cell_type": "code",
   "execution_count": 39,
   "id": "f812cc0c-b96d-431d-8968-578d19d5d7dd",
   "metadata": {},
   "outputs": [
    {
     "data": {
      "text/html": [
       "<div>\n",
       "<style scoped>\n",
       "    .dataframe tbody tr th:only-of-type {\n",
       "        vertical-align: middle;\n",
       "    }\n",
       "\n",
       "    .dataframe tbody tr th {\n",
       "        vertical-align: top;\n",
       "    }\n",
       "\n",
       "    .dataframe thead th {\n",
       "        text-align: right;\n",
       "    }\n",
       "</style>\n",
       "<table border=\"1\" class=\"dataframe\">\n",
       "  <thead>\n",
       "    <tr style=\"text-align: right;\">\n",
       "      <th></th>\n",
       "      <th>date_time</th>\n",
       "      <th>open_price</th>\n",
       "      <th>high_price</th>\n",
       "      <th>low_price</th>\n",
       "      <th>close_price</th>\n",
       "      <th>trade_volume</th>\n",
       "    </tr>\n",
       "  </thead>\n",
       "  <tbody>\n",
       "    <tr>\n",
       "      <th>0</th>\n",
       "      <td>2024-05-01 00:00:00</td>\n",
       "      <td>124.83</td>\n",
       "      <td>125.77</td>\n",
       "      <td>124.80</td>\n",
       "      <td>125.56</td>\n",
       "      <td>36685.3</td>\n",
       "    </tr>\n",
       "    <tr>\n",
       "      <th>1</th>\n",
       "      <td>2024-05-01 00:05:00</td>\n",
       "      <td>125.56</td>\n",
       "      <td>125.78</td>\n",
       "      <td>125.38</td>\n",
       "      <td>125.66</td>\n",
       "      <td>37645.9</td>\n",
       "    </tr>\n",
       "    <tr>\n",
       "      <th>2</th>\n",
       "      <td>2024-05-01 00:10:00</td>\n",
       "      <td>125.66</td>\n",
       "      <td>125.83</td>\n",
       "      <td>125.33</td>\n",
       "      <td>125.49</td>\n",
       "      <td>23338.6</td>\n",
       "    </tr>\n",
       "    <tr>\n",
       "      <th>3</th>\n",
       "      <td>2024-05-01 00:15:00</td>\n",
       "      <td>125.49</td>\n",
       "      <td>125.82</td>\n",
       "      <td>125.16</td>\n",
       "      <td>125.58</td>\n",
       "      <td>18435.7</td>\n",
       "    </tr>\n",
       "    <tr>\n",
       "      <th>4</th>\n",
       "      <td>2024-05-01 00:20:00</td>\n",
       "      <td>125.58</td>\n",
       "      <td>125.68</td>\n",
       "      <td>125.03</td>\n",
       "      <td>125.22</td>\n",
       "      <td>13761.7</td>\n",
       "    </tr>\n",
       "  </tbody>\n",
       "</table>\n",
       "</div>"
      ],
      "text/plain": [
       "            date_time  open_price  high_price  low_price  close_price  \\\n",
       "0 2024-05-01 00:00:00      124.83      125.77     124.80       125.56   \n",
       "1 2024-05-01 00:05:00      125.56      125.78     125.38       125.66   \n",
       "2 2024-05-01 00:10:00      125.66      125.83     125.33       125.49   \n",
       "3 2024-05-01 00:15:00      125.49      125.82     125.16       125.58   \n",
       "4 2024-05-01 00:20:00      125.58      125.68     125.03       125.22   \n",
       "\n",
       "   trade_volume  \n",
       "0       36685.3  \n",
       "1       37645.9  \n",
       "2       23338.6  \n",
       "3       18435.7  \n",
       "4       13761.7  "
      ]
     },
     "execution_count": 39,
     "metadata": {},
     "output_type": "execute_result"
    }
   ],
   "source": [
    "sol_data_05.head()"
   ]
  },
  {
   "cell_type": "code",
   "execution_count": 40,
   "id": "15f08637-3d62-43b9-9f6f-bb190c816ab6",
   "metadata": {},
   "outputs": [
    {
     "name": "stdout",
     "output_type": "stream",
     "text": [
      "<class 'pandas.core.frame.DataFrame'>\n",
      "RangeIndex: 8929 entries, 0 to 8928\n",
      "Data columns (total 6 columns):\n",
      " #   Column        Non-Null Count  Dtype         \n",
      "---  ------        --------------  -----         \n",
      " 0   date_time     8929 non-null   datetime64[ns]\n",
      " 1   open_price    8929 non-null   float64       \n",
      " 2   high_price    8929 non-null   float64       \n",
      " 3   low_price     8929 non-null   float64       \n",
      " 4   close_price   8929 non-null   float64       \n",
      " 5   trade_volume  8929 non-null   float64       \n",
      "dtypes: datetime64[ns](1), float64(5)\n",
      "memory usage: 418.7 KB\n"
     ]
    }
   ],
   "source": [
    "sol_data_05.info()"
   ]
  },
  {
   "cell_type": "code",
   "execution_count": 41,
   "id": "b00f184f-5449-4738-9371-a795c113119f",
   "metadata": {},
   "outputs": [
    {
     "data": {
      "text/plain": [
       "(8929, 6)"
      ]
     },
     "execution_count": 41,
     "metadata": {},
     "output_type": "execute_result"
    }
   ],
   "source": [
    "sol_data_05.shape"
   ]
  },
  {
   "cell_type": "markdown",
   "id": "c16930a2-bc49-4547-a4f2-6c3d691480c9",
   "metadata": {},
   "source": [
    "### Sol_data_06"
   ]
  },
  {
   "cell_type": "code",
   "execution_count": 43,
   "id": "bf294802-e206-47ab-bedf-b2a89a94779f",
   "metadata": {},
   "outputs": [
    {
     "data": {
      "text/html": [
       "<div>\n",
       "<style scoped>\n",
       "    .dataframe tbody tr th:only-of-type {\n",
       "        vertical-align: middle;\n",
       "    }\n",
       "\n",
       "    .dataframe tbody tr th {\n",
       "        vertical-align: top;\n",
       "    }\n",
       "\n",
       "    .dataframe thead th {\n",
       "        text-align: right;\n",
       "    }\n",
       "</style>\n",
       "<table border=\"1\" class=\"dataframe\">\n",
       "  <thead>\n",
       "    <tr style=\"text-align: right;\">\n",
       "      <th></th>\n",
       "      <th>date_time</th>\n",
       "      <th>open_price</th>\n",
       "      <th>high_price</th>\n",
       "      <th>low_price</th>\n",
       "      <th>close_price</th>\n",
       "      <th>trade_volume</th>\n",
       "    </tr>\n",
       "  </thead>\n",
       "  <tbody>\n",
       "    <tr>\n",
       "      <th>0</th>\n",
       "      <td>2024-06-01 00:00:00</td>\n",
       "      <td>166.72</td>\n",
       "      <td>166.87</td>\n",
       "      <td>166.59</td>\n",
       "      <td>166.67</td>\n",
       "      <td>6085.2</td>\n",
       "    </tr>\n",
       "    <tr>\n",
       "      <th>1</th>\n",
       "      <td>2024-06-01 00:05:00</td>\n",
       "      <td>166.67</td>\n",
       "      <td>166.74</td>\n",
       "      <td>166.53</td>\n",
       "      <td>166.68</td>\n",
       "      <td>7843.9</td>\n",
       "    </tr>\n",
       "    <tr>\n",
       "      <th>2</th>\n",
       "      <td>2024-06-01 00:10:00</td>\n",
       "      <td>166.68</td>\n",
       "      <td>166.98</td>\n",
       "      <td>166.67</td>\n",
       "      <td>166.92</td>\n",
       "      <td>4688.6</td>\n",
       "    </tr>\n",
       "    <tr>\n",
       "      <th>3</th>\n",
       "      <td>2024-06-01 00:15:00</td>\n",
       "      <td>166.92</td>\n",
       "      <td>167.19</td>\n",
       "      <td>166.66</td>\n",
       "      <td>167.11</td>\n",
       "      <td>13173.5</td>\n",
       "    </tr>\n",
       "    <tr>\n",
       "      <th>4</th>\n",
       "      <td>2024-06-01 00:20:00</td>\n",
       "      <td>167.11</td>\n",
       "      <td>167.17</td>\n",
       "      <td>166.76</td>\n",
       "      <td>166.77</td>\n",
       "      <td>7087.7</td>\n",
       "    </tr>\n",
       "  </tbody>\n",
       "</table>\n",
       "</div>"
      ],
      "text/plain": [
       "            date_time  open_price  high_price  low_price  close_price  \\\n",
       "0 2024-06-01 00:00:00      166.72      166.87     166.59       166.67   \n",
       "1 2024-06-01 00:05:00      166.67      166.74     166.53       166.68   \n",
       "2 2024-06-01 00:10:00      166.68      166.98     166.67       166.92   \n",
       "3 2024-06-01 00:15:00      166.92      167.19     166.66       167.11   \n",
       "4 2024-06-01 00:20:00      167.11      167.17     166.76       166.77   \n",
       "\n",
       "   trade_volume  \n",
       "0        6085.2  \n",
       "1        7843.9  \n",
       "2        4688.6  \n",
       "3       13173.5  \n",
       "4        7087.7  "
      ]
     },
     "execution_count": 43,
     "metadata": {},
     "output_type": "execute_result"
    }
   ],
   "source": [
    "sol_data_06.head()"
   ]
  },
  {
   "cell_type": "code",
   "execution_count": 44,
   "id": "023b671d-a5ae-492a-85df-e8d1ca13dfe8",
   "metadata": {},
   "outputs": [
    {
     "name": "stdout",
     "output_type": "stream",
     "text": [
      "<class 'pandas.core.frame.DataFrame'>\n",
      "RangeIndex: 8641 entries, 0 to 8640\n",
      "Data columns (total 6 columns):\n",
      " #   Column        Non-Null Count  Dtype         \n",
      "---  ------        --------------  -----         \n",
      " 0   date_time     8641 non-null   datetime64[ns]\n",
      " 1   open_price    8641 non-null   float64       \n",
      " 2   high_price    8641 non-null   float64       \n",
      " 3   low_price     8641 non-null   float64       \n",
      " 4   close_price   8641 non-null   float64       \n",
      " 5   trade_volume  8641 non-null   float64       \n",
      "dtypes: datetime64[ns](1), float64(5)\n",
      "memory usage: 405.2 KB\n"
     ]
    }
   ],
   "source": [
    "sol_data_06.info()"
   ]
  },
  {
   "cell_type": "code",
   "execution_count": 45,
   "id": "e1d8bae4-94ef-4d66-809c-6cb358b63b79",
   "metadata": {},
   "outputs": [
    {
     "data": {
      "text/plain": [
       "(8641, 6)"
      ]
     },
     "execution_count": 45,
     "metadata": {},
     "output_type": "execute_result"
    }
   ],
   "source": [
    "sol_data_06.shape"
   ]
  },
  {
   "cell_type": "markdown",
   "id": "baf740a5-3727-4e6e-9401-059158ac258f",
   "metadata": {},
   "source": [
    "### Sol_data_07"
   ]
  },
  {
   "cell_type": "code",
   "execution_count": 47,
   "id": "dd55dd8c-8879-438a-af34-d005eba223b1",
   "metadata": {},
   "outputs": [
    {
     "data": {
      "text/html": [
       "<div>\n",
       "<style scoped>\n",
       "    .dataframe tbody tr th:only-of-type {\n",
       "        vertical-align: middle;\n",
       "    }\n",
       "\n",
       "    .dataframe tbody tr th {\n",
       "        vertical-align: top;\n",
       "    }\n",
       "\n",
       "    .dataframe thead th {\n",
       "        text-align: right;\n",
       "    }\n",
       "</style>\n",
       "<table border=\"1\" class=\"dataframe\">\n",
       "  <thead>\n",
       "    <tr style=\"text-align: right;\">\n",
       "      <th></th>\n",
       "      <th>date_time</th>\n",
       "      <th>open_price</th>\n",
       "      <th>high_price</th>\n",
       "      <th>low_price</th>\n",
       "      <th>close_price</th>\n",
       "      <th>trade_volume</th>\n",
       "    </tr>\n",
       "  </thead>\n",
       "  <tbody>\n",
       "    <tr>\n",
       "      <th>0</th>\n",
       "      <td>2024-07-01 00:00:00</td>\n",
       "      <td>144.29</td>\n",
       "      <td>144.58</td>\n",
       "      <td>143.97</td>\n",
       "      <td>144.10</td>\n",
       "      <td>39948.2</td>\n",
       "    </tr>\n",
       "    <tr>\n",
       "      <th>1</th>\n",
       "      <td>2024-07-01 00:05:00</td>\n",
       "      <td>144.10</td>\n",
       "      <td>144.31</td>\n",
       "      <td>144.05</td>\n",
       "      <td>144.21</td>\n",
       "      <td>9858.4</td>\n",
       "    </tr>\n",
       "    <tr>\n",
       "      <th>2</th>\n",
       "      <td>2024-07-01 00:10:00</td>\n",
       "      <td>144.21</td>\n",
       "      <td>144.28</td>\n",
       "      <td>144.04</td>\n",
       "      <td>144.23</td>\n",
       "      <td>21809.2</td>\n",
       "    </tr>\n",
       "    <tr>\n",
       "      <th>3</th>\n",
       "      <td>2024-07-01 00:15:00</td>\n",
       "      <td>144.23</td>\n",
       "      <td>144.53</td>\n",
       "      <td>143.77</td>\n",
       "      <td>144.15</td>\n",
       "      <td>61639.2</td>\n",
       "    </tr>\n",
       "    <tr>\n",
       "      <th>4</th>\n",
       "      <td>2024-07-01 00:20:00</td>\n",
       "      <td>144.15</td>\n",
       "      <td>144.63</td>\n",
       "      <td>144.03</td>\n",
       "      <td>144.39</td>\n",
       "      <td>17151.3</td>\n",
       "    </tr>\n",
       "  </tbody>\n",
       "</table>\n",
       "</div>"
      ],
      "text/plain": [
       "            date_time  open_price  high_price  low_price  close_price  \\\n",
       "0 2024-07-01 00:00:00      144.29      144.58     143.97       144.10   \n",
       "1 2024-07-01 00:05:00      144.10      144.31     144.05       144.21   \n",
       "2 2024-07-01 00:10:00      144.21      144.28     144.04       144.23   \n",
       "3 2024-07-01 00:15:00      144.23      144.53     143.77       144.15   \n",
       "4 2024-07-01 00:20:00      144.15      144.63     144.03       144.39   \n",
       "\n",
       "   trade_volume  \n",
       "0       39948.2  \n",
       "1        9858.4  \n",
       "2       21809.2  \n",
       "3       61639.2  \n",
       "4       17151.3  "
      ]
     },
     "execution_count": 47,
     "metadata": {},
     "output_type": "execute_result"
    }
   ],
   "source": [
    "sol_data_07.head()"
   ]
  },
  {
   "cell_type": "code",
   "execution_count": 48,
   "id": "16bc18d3-b472-42aa-b9c7-6fc12ec3b3af",
   "metadata": {},
   "outputs": [
    {
     "name": "stdout",
     "output_type": "stream",
     "text": [
      "<class 'pandas.core.frame.DataFrame'>\n",
      "RangeIndex: 6102 entries, 0 to 6101\n",
      "Data columns (total 6 columns):\n",
      " #   Column        Non-Null Count  Dtype         \n",
      "---  ------        --------------  -----         \n",
      " 0   date_time     6102 non-null   datetime64[ns]\n",
      " 1   open_price    6102 non-null   float64       \n",
      " 2   high_price    6102 non-null   float64       \n",
      " 3   low_price     6102 non-null   float64       \n",
      " 4   close_price   6102 non-null   float64       \n",
      " 5   trade_volume  6102 non-null   float64       \n",
      "dtypes: datetime64[ns](1), float64(5)\n",
      "memory usage: 286.2 KB\n"
     ]
    }
   ],
   "source": [
    "sol_data_07.info()"
   ]
  },
  {
   "cell_type": "code",
   "execution_count": 49,
   "id": "2f571d07-2eb7-4d61-8698-a4a777db5b04",
   "metadata": {},
   "outputs": [
    {
     "data": {
      "text/plain": [
       "(6102, 6)"
      ]
     },
     "execution_count": 49,
     "metadata": {},
     "output_type": "execute_result"
    }
   ],
   "source": [
    "sol_data_07.shape"
   ]
  },
  {
   "cell_type": "markdown",
   "id": "7d211037-e871-4e6a-a4f3-27d1df12e5ff",
   "metadata": {},
   "source": [
    "## Обьединяем датасеты"
   ]
  },
  {
   "cell_type": "code",
   "execution_count": 51,
   "id": "375b605d-f36f-4e88-abed-f20fc29dae07",
   "metadata": {},
   "outputs": [],
   "source": [
    "sol_data = pd.concat([sol_data_01, sol_data_02, sol_data_03, sol_data_04, sol_data_05, sol_data_06, sol_data_07], axis=0)"
   ]
  },
  {
   "cell_type": "markdown",
   "id": "3859768a-cde9-4610-b382-1c99606c0a6e",
   "metadata": {},
   "source": [
    "После обьединения дублируются головы и хвосты соседних датасетов"
   ]
  },
  {
   "cell_type": "code",
   "execution_count": 53,
   "id": "0c509408-af0f-4bdc-a7b9-ca2f32815020",
   "metadata": {},
   "outputs": [
    {
     "data": {
      "text/plain": [
       "5"
      ]
     },
     "execution_count": 53,
     "metadata": {},
     "output_type": "execute_result"
    }
   ],
   "source": [
    "sol_data.duplicated().sum()"
   ]
  },
  {
   "cell_type": "code",
   "execution_count": 54,
   "id": "dd494866-3e27-499d-b696-19d958544b21",
   "metadata": {},
   "outputs": [],
   "source": [
    "sol_data = sol_data.drop_duplicates()"
   ]
  },
  {
   "cell_type": "markdown",
   "id": "21e3a3b2-6040-40c2-8acf-99d2ee4c39cb",
   "metadata": {},
   "source": [
    "## Предобработка данных"
   ]
  },
  {
   "cell_type": "markdown",
   "id": "09d24507-4843-4d22-86c5-87db69d2a165",
   "metadata": {},
   "source": [
    "**Добавляем target как движение цены вверх-вниз от текущего значения**\n",
    "\n",
    "* **1 - вверх**\n",
    "* **0 - вниз**"
   ]
  },
  {
   "cell_type": "code",
   "execution_count": 57,
   "id": "ea063671-ec32-4b13-8c50-299e04368446",
   "metadata": {},
   "outputs": [],
   "source": [
    "def target_maker(row, char):\n",
    "    if char == 'c':\n",
    "        if row['next_close_price'] > row['close_price']:\n",
    "            return(1)\n",
    "        else:\n",
    "            return(0)\n",
    "    if char == 'h':\n",
    "        if row['next_high_price'] > row['close_price']:\n",
    "            return(1)\n",
    "        else:\n",
    "            return(0)"
   ]
  },
  {
   "cell_type": "code",
   "execution_count": 58,
   "id": "27400650-c991-48c0-9e0d-ac0801b5abd8",
   "metadata": {},
   "outputs": [],
   "source": [
    "sol_data['next_close_price'] = sol_data['close_price'].shift(-1)"
   ]
  },
  {
   "cell_type": "code",
   "execution_count": 59,
   "id": "282cf520-ac0d-4287-9e6a-5807b428f99c",
   "metadata": {},
   "outputs": [],
   "source": [
    "sol_data['next_high_price'] = sol_data['high_price'].shift(-1)"
   ]
  },
  {
   "cell_type": "code",
   "execution_count": 60,
   "id": "9d551fcf-95b7-4ad1-a6ea-8e120a613dd1",
   "metadata": {},
   "outputs": [],
   "source": [
    "sol_data['target'] = sol_data.apply(lambda row: target_maker(row, 'c'), axis=1)"
   ]
  },
  {
   "cell_type": "code",
   "execution_count": 61,
   "id": "7d996a22-e228-477a-b718-4b544f65cfec",
   "metadata": {},
   "outputs": [
    {
     "data": {
      "text/html": [
       "<div>\n",
       "<style scoped>\n",
       "    .dataframe tbody tr th:only-of-type {\n",
       "        vertical-align: middle;\n",
       "    }\n",
       "\n",
       "    .dataframe tbody tr th {\n",
       "        vertical-align: top;\n",
       "    }\n",
       "\n",
       "    .dataframe thead th {\n",
       "        text-align: right;\n",
       "    }\n",
       "</style>\n",
       "<table border=\"1\" class=\"dataframe\">\n",
       "  <thead>\n",
       "    <tr style=\"text-align: right;\">\n",
       "      <th></th>\n",
       "      <th>date_time</th>\n",
       "      <th>open_price</th>\n",
       "      <th>high_price</th>\n",
       "      <th>low_price</th>\n",
       "      <th>close_price</th>\n",
       "      <th>trade_volume</th>\n",
       "      <th>next_close_price</th>\n",
       "      <th>next_high_price</th>\n",
       "      <th>target</th>\n",
       "    </tr>\n",
       "  </thead>\n",
       "  <tbody>\n",
       "    <tr>\n",
       "      <th>0</th>\n",
       "      <td>2024-01-01 00:00:00</td>\n",
       "      <td>104.967</td>\n",
       "      <td>105.072</td>\n",
       "      <td>104.610</td>\n",
       "      <td>104.699</td>\n",
       "      <td>13397.4</td>\n",
       "      <td>104.707</td>\n",
       "      <td>104.900</td>\n",
       "      <td>1</td>\n",
       "    </tr>\n",
       "    <tr>\n",
       "      <th>1</th>\n",
       "      <td>2024-01-01 00:05:00</td>\n",
       "      <td>104.699</td>\n",
       "      <td>104.900</td>\n",
       "      <td>104.636</td>\n",
       "      <td>104.707</td>\n",
       "      <td>8440.9</td>\n",
       "      <td>104.770</td>\n",
       "      <td>104.795</td>\n",
       "      <td>1</td>\n",
       "    </tr>\n",
       "    <tr>\n",
       "      <th>2</th>\n",
       "      <td>2024-01-01 00:10:00</td>\n",
       "      <td>104.707</td>\n",
       "      <td>104.795</td>\n",
       "      <td>104.610</td>\n",
       "      <td>104.770</td>\n",
       "      <td>3426.5</td>\n",
       "      <td>105.105</td>\n",
       "      <td>105.270</td>\n",
       "      <td>1</td>\n",
       "    </tr>\n",
       "    <tr>\n",
       "      <th>3</th>\n",
       "      <td>2024-01-01 00:15:00</td>\n",
       "      <td>104.770</td>\n",
       "      <td>105.270</td>\n",
       "      <td>104.769</td>\n",
       "      <td>105.105</td>\n",
       "      <td>20284.9</td>\n",
       "      <td>104.859</td>\n",
       "      <td>105.147</td>\n",
       "      <td>0</td>\n",
       "    </tr>\n",
       "    <tr>\n",
       "      <th>4</th>\n",
       "      <td>2024-01-01 00:20:00</td>\n",
       "      <td>105.105</td>\n",
       "      <td>105.147</td>\n",
       "      <td>104.713</td>\n",
       "      <td>104.859</td>\n",
       "      <td>9132.7</td>\n",
       "      <td>104.697</td>\n",
       "      <td>104.880</td>\n",
       "      <td>0</td>\n",
       "    </tr>\n",
       "  </tbody>\n",
       "</table>\n",
       "</div>"
      ],
      "text/plain": [
       "            date_time  open_price  high_price  low_price  close_price  \\\n",
       "0 2024-01-01 00:00:00     104.967     105.072    104.610      104.699   \n",
       "1 2024-01-01 00:05:00     104.699     104.900    104.636      104.707   \n",
       "2 2024-01-01 00:10:00     104.707     104.795    104.610      104.770   \n",
       "3 2024-01-01 00:15:00     104.770     105.270    104.769      105.105   \n",
       "4 2024-01-01 00:20:00     105.105     105.147    104.713      104.859   \n",
       "\n",
       "   trade_volume  next_close_price  next_high_price  target  \n",
       "0       13397.4           104.707          104.900       1  \n",
       "1        8440.9           104.770          104.795       1  \n",
       "2        3426.5           105.105          105.270       1  \n",
       "3       20284.9           104.859          105.147       0  \n",
       "4        9132.7           104.697          104.880       0  "
      ]
     },
     "execution_count": 61,
     "metadata": {},
     "output_type": "execute_result"
    }
   ],
   "source": [
    "sol_data.head()"
   ]
  },
  {
   "cell_type": "code",
   "execution_count": 62,
   "id": "ee7899f1-63b5-41b7-b03f-5c25424a2669",
   "metadata": {},
   "outputs": [
    {
     "data": {
      "text/plain": [
       "target\n",
       "0    25131\n",
       "1    25059\n",
       "Name: count, dtype: int64"
      ]
     },
     "execution_count": 62,
     "metadata": {},
     "output_type": "execute_result"
    }
   ],
   "source": [
    "sol_data['target'].value_counts()"
   ]
  },
  {
   "cell_type": "markdown",
   "id": "e4f39b1d-bd4a-47f3-adcc-a6663a74900d",
   "metadata": {},
   "source": [
    "**Дисбаланса признаков нет))**"
   ]
  },
  {
   "cell_type": "code",
   "execution_count": 64,
   "id": "d7aadc95-6b34-40df-abce-097802c2ed20",
   "metadata": {},
   "outputs": [
    {
     "data": {
      "text/plain": [
       "date_time           0\n",
       "open_price          0\n",
       "high_price          0\n",
       "low_price           0\n",
       "close_price         0\n",
       "trade_volume        0\n",
       "next_close_price    1\n",
       "next_high_price     1\n",
       "target              0\n",
       "dtype: int64"
      ]
     },
     "execution_count": 64,
     "metadata": {},
     "output_type": "execute_result"
    }
   ],
   "source": [
    "sol_data.isna().sum()"
   ]
  },
  {
   "cell_type": "markdown",
   "id": "5e26be30-02b8-4930-a1dd-0124e470adde",
   "metadata": {},
   "source": [
    "**Появился прпоуск в последней строке в столбце 'next_close_price', т.к в эту строку неоткуда было шифтить-1 данные**"
   ]
  },
  {
   "cell_type": "markdown",
   "id": "ba7b781f-5d29-48b8-89dc-66c6ad3b737c",
   "metadata": {},
   "source": [
    "Удалим последнюю строку для чистоты датасета"
   ]
  },
  {
   "cell_type": "code",
   "execution_count": 67,
   "id": "33491ae8-72d4-47c1-b3b7-98692bb0c012",
   "metadata": {},
   "outputs": [],
   "source": [
    "sol_data = sol_data.drop(sol_data.index[-1])"
   ]
  },
  {
   "cell_type": "code",
   "execution_count": 68,
   "id": "d49058d2-26e5-48ff-a743-f00f94eafb04",
   "metadata": {},
   "outputs": [],
   "source": [
    "sol_data = sol_data.set_index('date_time')"
   ]
  },
  {
   "cell_type": "markdown",
   "id": "5fc18a42-0162-4106-a8ba-8bc7d18780d2",
   "metadata": {},
   "source": [
    "## Добавление признаков"
   ]
  },
  {
   "cell_type": "markdown",
   "id": "6e2a4ce4-8b9f-45ea-8b38-85a3477e0f7a",
   "metadata": {},
   "source": [
    "**Добавляем метрики ЕМА**"
   ]
  },
  {
   "cell_type": "markdown",
   "id": "6c7df974-9608-4a41-adff-ac746eb33a1c",
   "metadata": {},
   "source": [
    "Возможно EMA как абсолютная метрика будет мешать универсальности модели, так как при обучении ЕМА может быть в райне 150, при боковике, а в работе цена SOL может быть 200-300-400 юзд и следовательно текущая ЕМА будет сильно отличаться от обучающей. Возможно будет более целесообразно внести такой признак как delta текущей цены от EMA и следовательно модель будет учитывать не абсолютное значение ЕМА и цены, а факт пересечения цены скользящей и ее удаленность от скользящей снизу или сверху"
   ]
  },
  {
   "cell_type": "code",
   "execution_count": 72,
   "id": "784df70e-9bb6-4f6a-abca-714936bc6892",
   "metadata": {},
   "outputs": [],
   "source": [
    "sol_data['ema_50'] = talib.EMA(sol_data['close_price'], timeperiod=50)"
   ]
  },
  {
   "cell_type": "code",
   "execution_count": 73,
   "id": "63af21db-d760-4f1d-87e8-2c88c069e73d",
   "metadata": {},
   "outputs": [],
   "source": [
    "sol_data['ema_100'] = talib.EMA(sol_data['close_price'], timeperiod=100)"
   ]
  },
  {
   "cell_type": "code",
   "execution_count": 74,
   "id": "688d717e-9cb0-493f-a8e3-be87ea2a0bf1",
   "metadata": {},
   "outputs": [],
   "source": [
    "sol_data['ema_200'] = talib.EMA(sol_data['close_price'], timeperiod=200)"
   ]
  },
  {
   "cell_type": "markdown",
   "id": "6a92e5fc-8538-453b-a7d1-fdbf14ae29df",
   "metadata": {},
   "source": [
    "**Добавим такие признаки как отклонение текущей цены (цены открытия) от разных EMA**"
   ]
  },
  {
   "cell_type": "code",
   "execution_count": 76,
   "id": "15478b93-5ae2-4a11-8b9a-e4a74a3a23f8",
   "metadata": {},
   "outputs": [],
   "source": [
    "def delta_ema_50(row):\n",
    "    delta = row['close_price'] - row['ema_50']\n",
    "    return delta"
   ]
  },
  {
   "cell_type": "code",
   "execution_count": 77,
   "id": "3910a675-c232-4842-b04c-84405c1d2122",
   "metadata": {},
   "outputs": [],
   "source": [
    "def delta_ema_100(row):\n",
    "    delta = row['close_price'] - row['ema_100']\n",
    "    return delta"
   ]
  },
  {
   "cell_type": "code",
   "execution_count": 78,
   "id": "ab12bca9-18a7-4209-aa73-4f51acb1fa0e",
   "metadata": {},
   "outputs": [],
   "source": [
    "def delta_ema_200(row):\n",
    "    delta = row['close_price'] - row['ema_200']\n",
    "    return delta"
   ]
  },
  {
   "cell_type": "code",
   "execution_count": 79,
   "id": "747fda43-a2f2-4716-bdb7-5fc184e6c72f",
   "metadata": {},
   "outputs": [],
   "source": [
    "sol_data['delta_ema_50'] = sol_data.apply(lambda row: delta_ema_50(row), axis=1)"
   ]
  },
  {
   "cell_type": "code",
   "execution_count": 80,
   "id": "9ef352c7-4b11-4ace-9a4e-9da2b250da5f",
   "metadata": {},
   "outputs": [],
   "source": [
    "sol_data['delta_ema_100'] = sol_data.apply(lambda row: delta_ema_100(row), axis=1)"
   ]
  },
  {
   "cell_type": "code",
   "execution_count": 81,
   "id": "7949ba44-8f66-468b-a46c-d9c7c96823dc",
   "metadata": {},
   "outputs": [],
   "source": [
    "sol_data['delta_ema_200'] = sol_data.apply(lambda row: delta_ema_200(row), axis=1)"
   ]
  },
  {
   "cell_type": "markdown",
   "id": "7b5a150f-58c1-431d-938b-078d8fb6165d",
   "metadata": {},
   "source": [
    "**Добавляем RSI**"
   ]
  },
  {
   "cell_type": "code",
   "execution_count": 83,
   "id": "ea2de433-46c7-48c1-8a4e-19adf21e90db",
   "metadata": {},
   "outputs": [],
   "source": [
    "sol_data['rsi'] = talib.RSI(sol_data['close_price'], timeperiod=14)"
   ]
  },
  {
   "cell_type": "markdown",
   "id": "cabd136a-f363-42d1-bce3-f6a8e01394c7",
   "metadata": {},
   "source": [
    "**Добавляем MACD**"
   ]
  },
  {
   "cell_type": "code",
   "execution_count": 85,
   "id": "a0a8a6d4-7322-4270-8cd6-a4398b01e0a3",
   "metadata": {},
   "outputs": [],
   "source": [
    "sol_data['macd_line'], sol_data['signal_line'], sol_data['macd_hist'] = talib.MACD(sol_data['close_price'], fastperiod=8, slowperiod=17, signalperiod=9)"
   ]
  },
  {
   "cell_type": "markdown",
   "id": "21a7fcfa-c1d3-4a04-bb7d-ce6e279cab42",
   "metadata": {},
   "source": [
    "**Добавляем стохастик**"
   ]
  },
  {
   "cell_type": "code",
   "execution_count": 87,
   "id": "75778890-9bad-4560-abb1-32019450349d",
   "metadata": {},
   "outputs": [],
   "source": [
    "sol_data['stoch_k'], sol_data['stoch_d'] = talib.STOCH(high=sol_data['high_price'], low=sol_data['low_price'], close=sol_data['close_price'], fastk_period=14, slowk_period=1, slowk_matype=0, slowd_period=3, slowd_matype=0)"
   ]
  },
  {
   "cell_type": "code",
   "execution_count": 88,
   "id": "e9bdf7fa-af8c-4635-83c2-3413077641ee",
   "metadata": {},
   "outputs": [
    {
     "data": {
      "text/html": [
       "<div>\n",
       "<style scoped>\n",
       "    .dataframe tbody tr th:only-of-type {\n",
       "        vertical-align: middle;\n",
       "    }\n",
       "\n",
       "    .dataframe tbody tr th {\n",
       "        vertical-align: top;\n",
       "    }\n",
       "\n",
       "    .dataframe thead th {\n",
       "        text-align: right;\n",
       "    }\n",
       "</style>\n",
       "<table border=\"1\" class=\"dataframe\">\n",
       "  <thead>\n",
       "    <tr style=\"text-align: right;\">\n",
       "      <th></th>\n",
       "      <th>open_price</th>\n",
       "      <th>high_price</th>\n",
       "      <th>low_price</th>\n",
       "      <th>close_price</th>\n",
       "      <th>trade_volume</th>\n",
       "      <th>next_close_price</th>\n",
       "      <th>next_high_price</th>\n",
       "      <th>target</th>\n",
       "      <th>ema_50</th>\n",
       "      <th>ema_100</th>\n",
       "      <th>ema_200</th>\n",
       "      <th>delta_ema_50</th>\n",
       "      <th>delta_ema_100</th>\n",
       "      <th>delta_ema_200</th>\n",
       "      <th>rsi</th>\n",
       "      <th>macd_line</th>\n",
       "      <th>signal_line</th>\n",
       "      <th>macd_hist</th>\n",
       "      <th>stoch_k</th>\n",
       "      <th>stoch_d</th>\n",
       "    </tr>\n",
       "    <tr>\n",
       "      <th>date_time</th>\n",
       "      <th></th>\n",
       "      <th></th>\n",
       "      <th></th>\n",
       "      <th></th>\n",
       "      <th></th>\n",
       "      <th></th>\n",
       "      <th></th>\n",
       "      <th></th>\n",
       "      <th></th>\n",
       "      <th></th>\n",
       "      <th></th>\n",
       "      <th></th>\n",
       "      <th></th>\n",
       "      <th></th>\n",
       "      <th></th>\n",
       "      <th></th>\n",
       "      <th></th>\n",
       "      <th></th>\n",
       "      <th></th>\n",
       "      <th></th>\n",
       "    </tr>\n",
       "  </thead>\n",
       "  <tbody>\n",
       "    <tr>\n",
       "      <th>2024-01-01 00:00:00</th>\n",
       "      <td>104.967</td>\n",
       "      <td>105.072</td>\n",
       "      <td>104.610</td>\n",
       "      <td>104.699</td>\n",
       "      <td>13397.4</td>\n",
       "      <td>104.707</td>\n",
       "      <td>104.900</td>\n",
       "      <td>1</td>\n",
       "      <td>NaN</td>\n",
       "      <td>NaN</td>\n",
       "      <td>NaN</td>\n",
       "      <td>NaN</td>\n",
       "      <td>NaN</td>\n",
       "      <td>NaN</td>\n",
       "      <td>NaN</td>\n",
       "      <td>NaN</td>\n",
       "      <td>NaN</td>\n",
       "      <td>NaN</td>\n",
       "      <td>NaN</td>\n",
       "      <td>NaN</td>\n",
       "    </tr>\n",
       "    <tr>\n",
       "      <th>2024-01-01 00:05:00</th>\n",
       "      <td>104.699</td>\n",
       "      <td>104.900</td>\n",
       "      <td>104.636</td>\n",
       "      <td>104.707</td>\n",
       "      <td>8440.9</td>\n",
       "      <td>104.770</td>\n",
       "      <td>104.795</td>\n",
       "      <td>1</td>\n",
       "      <td>NaN</td>\n",
       "      <td>NaN</td>\n",
       "      <td>NaN</td>\n",
       "      <td>NaN</td>\n",
       "      <td>NaN</td>\n",
       "      <td>NaN</td>\n",
       "      <td>NaN</td>\n",
       "      <td>NaN</td>\n",
       "      <td>NaN</td>\n",
       "      <td>NaN</td>\n",
       "      <td>NaN</td>\n",
       "      <td>NaN</td>\n",
       "    </tr>\n",
       "    <tr>\n",
       "      <th>2024-01-01 00:10:00</th>\n",
       "      <td>104.707</td>\n",
       "      <td>104.795</td>\n",
       "      <td>104.610</td>\n",
       "      <td>104.770</td>\n",
       "      <td>3426.5</td>\n",
       "      <td>105.105</td>\n",
       "      <td>105.270</td>\n",
       "      <td>1</td>\n",
       "      <td>NaN</td>\n",
       "      <td>NaN</td>\n",
       "      <td>NaN</td>\n",
       "      <td>NaN</td>\n",
       "      <td>NaN</td>\n",
       "      <td>NaN</td>\n",
       "      <td>NaN</td>\n",
       "      <td>NaN</td>\n",
       "      <td>NaN</td>\n",
       "      <td>NaN</td>\n",
       "      <td>NaN</td>\n",
       "      <td>NaN</td>\n",
       "    </tr>\n",
       "    <tr>\n",
       "      <th>2024-01-01 00:15:00</th>\n",
       "      <td>104.770</td>\n",
       "      <td>105.270</td>\n",
       "      <td>104.769</td>\n",
       "      <td>105.105</td>\n",
       "      <td>20284.9</td>\n",
       "      <td>104.859</td>\n",
       "      <td>105.147</td>\n",
       "      <td>0</td>\n",
       "      <td>NaN</td>\n",
       "      <td>NaN</td>\n",
       "      <td>NaN</td>\n",
       "      <td>NaN</td>\n",
       "      <td>NaN</td>\n",
       "      <td>NaN</td>\n",
       "      <td>NaN</td>\n",
       "      <td>NaN</td>\n",
       "      <td>NaN</td>\n",
       "      <td>NaN</td>\n",
       "      <td>NaN</td>\n",
       "      <td>NaN</td>\n",
       "    </tr>\n",
       "    <tr>\n",
       "      <th>2024-01-01 00:20:00</th>\n",
       "      <td>105.105</td>\n",
       "      <td>105.147</td>\n",
       "      <td>104.713</td>\n",
       "      <td>104.859</td>\n",
       "      <td>9132.7</td>\n",
       "      <td>104.697</td>\n",
       "      <td>104.880</td>\n",
       "      <td>0</td>\n",
       "      <td>NaN</td>\n",
       "      <td>NaN</td>\n",
       "      <td>NaN</td>\n",
       "      <td>NaN</td>\n",
       "      <td>NaN</td>\n",
       "      <td>NaN</td>\n",
       "      <td>NaN</td>\n",
       "      <td>NaN</td>\n",
       "      <td>NaN</td>\n",
       "      <td>NaN</td>\n",
       "      <td>NaN</td>\n",
       "      <td>NaN</td>\n",
       "    </tr>\n",
       "  </tbody>\n",
       "</table>\n",
       "</div>"
      ],
      "text/plain": [
       "                     open_price  high_price  low_price  close_price  \\\n",
       "date_time                                                             \n",
       "2024-01-01 00:00:00     104.967     105.072    104.610      104.699   \n",
       "2024-01-01 00:05:00     104.699     104.900    104.636      104.707   \n",
       "2024-01-01 00:10:00     104.707     104.795    104.610      104.770   \n",
       "2024-01-01 00:15:00     104.770     105.270    104.769      105.105   \n",
       "2024-01-01 00:20:00     105.105     105.147    104.713      104.859   \n",
       "\n",
       "                     trade_volume  next_close_price  next_high_price  target  \\\n",
       "date_time                                                                      \n",
       "2024-01-01 00:00:00       13397.4           104.707          104.900       1   \n",
       "2024-01-01 00:05:00        8440.9           104.770          104.795       1   \n",
       "2024-01-01 00:10:00        3426.5           105.105          105.270       1   \n",
       "2024-01-01 00:15:00       20284.9           104.859          105.147       0   \n",
       "2024-01-01 00:20:00        9132.7           104.697          104.880       0   \n",
       "\n",
       "                     ema_50  ema_100  ema_200  delta_ema_50  delta_ema_100  \\\n",
       "date_time                                                                    \n",
       "2024-01-01 00:00:00     NaN      NaN      NaN           NaN            NaN   \n",
       "2024-01-01 00:05:00     NaN      NaN      NaN           NaN            NaN   \n",
       "2024-01-01 00:10:00     NaN      NaN      NaN           NaN            NaN   \n",
       "2024-01-01 00:15:00     NaN      NaN      NaN           NaN            NaN   \n",
       "2024-01-01 00:20:00     NaN      NaN      NaN           NaN            NaN   \n",
       "\n",
       "                     delta_ema_200  rsi  macd_line  signal_line  macd_hist  \\\n",
       "date_time                                                                    \n",
       "2024-01-01 00:00:00            NaN  NaN        NaN          NaN        NaN   \n",
       "2024-01-01 00:05:00            NaN  NaN        NaN          NaN        NaN   \n",
       "2024-01-01 00:10:00            NaN  NaN        NaN          NaN        NaN   \n",
       "2024-01-01 00:15:00            NaN  NaN        NaN          NaN        NaN   \n",
       "2024-01-01 00:20:00            NaN  NaN        NaN          NaN        NaN   \n",
       "\n",
       "                     stoch_k  stoch_d  \n",
       "date_time                              \n",
       "2024-01-01 00:00:00      NaN      NaN  \n",
       "2024-01-01 00:05:00      NaN      NaN  \n",
       "2024-01-01 00:10:00      NaN      NaN  \n",
       "2024-01-01 00:15:00      NaN      NaN  \n",
       "2024-01-01 00:20:00      NaN      NaN  "
      ]
     },
     "execution_count": 88,
     "metadata": {},
     "output_type": "execute_result"
    }
   ],
   "source": [
    "sol_data.head()"
   ]
  },
  {
   "cell_type": "markdown",
   "id": "2f196b4a-5abe-45e9-ac20-7945860879a2",
   "metadata": {},
   "source": [
    "**Мы видим много пропусков, которые связаны с тем, что для многих метрик теханализа необходима сборная информация по окну определенного размера, и следовательно они не могут предоставить инфу до закрытия первого окна**"
   ]
  },
  {
   "cell_type": "code",
   "execution_count": 90,
   "id": "086ae3b0-983e-4443-9637-fc79a5c9c8bf",
   "metadata": {},
   "outputs": [
    {
     "data": {
      "text/plain": [
       "open_price            0\n",
       "high_price            0\n",
       "low_price             0\n",
       "close_price           0\n",
       "trade_volume          0\n",
       "next_close_price      0\n",
       "next_high_price       0\n",
       "target                0\n",
       "ema_50               49\n",
       "ema_100              99\n",
       "ema_200             199\n",
       "delta_ema_50         49\n",
       "delta_ema_100        99\n",
       "delta_ema_200       199\n",
       "rsi                  14\n",
       "macd_line            24\n",
       "signal_line          24\n",
       "macd_hist            24\n",
       "stoch_k              15\n",
       "stoch_d              15\n",
       "dtype: int64"
      ]
     },
     "execution_count": 90,
     "metadata": {},
     "output_type": "execute_result"
    }
   ],
   "source": [
    "sol_data.isna().sum()"
   ]
  },
  {
   "cell_type": "markdown",
   "id": "94a2099d-ced2-4028-a890-c01dfa225abc",
   "metadata": {},
   "source": [
    "**Видим, что как и было очевидно больше всего пропусков в столбцах связанных с EMA_200. Удалим первые 200 строк датасета, чтобы убрать пропущенные данные**"
   ]
  },
  {
   "cell_type": "code",
   "execution_count": 92,
   "id": "617c8589-a4ee-493c-9b8b-d4dd00bf2209",
   "metadata": {},
   "outputs": [],
   "source": [
    "sol_data = sol_data.drop(sol_data.index[:199])"
   ]
  },
  {
   "cell_type": "code",
   "execution_count": 93,
   "id": "b8a82eaf-4da1-41ec-b410-f260ae49e68a",
   "metadata": {},
   "outputs": [
    {
     "data": {
      "text/plain": [
       "open_price          0\n",
       "high_price          0\n",
       "low_price           0\n",
       "close_price         0\n",
       "trade_volume        0\n",
       "next_close_price    0\n",
       "next_high_price     0\n",
       "target              0\n",
       "ema_50              0\n",
       "ema_100             0\n",
       "ema_200             0\n",
       "delta_ema_50        0\n",
       "delta_ema_100       0\n",
       "delta_ema_200       0\n",
       "rsi                 0\n",
       "macd_line           0\n",
       "signal_line         0\n",
       "macd_hist           0\n",
       "stoch_k             0\n",
       "stoch_d             0\n",
       "dtype: int64"
      ]
     },
     "execution_count": 93,
     "metadata": {},
     "output_type": "execute_result"
    }
   ],
   "source": [
    "sol_data.isna().sum()"
   ]
  },
  {
   "cell_type": "markdown",
   "id": "ec009bac-f6e1-49c3-80ca-5712cf8ed0fa",
   "metadata": {},
   "source": [
    "**Пропусков больше нет**"
   ]
  },
  {
   "cell_type": "markdown",
   "id": "b6ff6505-58cb-4355-98b8-a98c1b153540",
   "metadata": {},
   "source": [
    "## Анализ данных для создания торговой стратегии"
   ]
  },
  {
   "cell_type": "markdown",
   "id": "4c877079-0c7d-40a7-a962-fd296a4872bf",
   "metadata": {},
   "source": [
    "**Также добавим признаки не с абсолютными значениями метрик теханализа, а с фактом наступления значительных событий, которые мониторятся метриками теханализа.**\n",
    "\n",
    "**Таких как:**\n",
    "* Пересечение RSI уровня перекупленности или перепроданности\n",
    "* Пересечение сигнальной линии MACD снизу или сверху\n",
    "* Пересечение медленной и быстрой линии стохастика"
   ]
  },
  {
   "cell_type": "code",
   "execution_count": 97,
   "id": "fedd4cf1-e6ba-4407-9fe6-5efaeb95e8e5",
   "metadata": {},
   "outputs": [
    {
     "data": {
      "text/html": [
       "<div>\n",
       "<style scoped>\n",
       "    .dataframe tbody tr th:only-of-type {\n",
       "        vertical-align: middle;\n",
       "    }\n",
       "\n",
       "    .dataframe tbody tr th {\n",
       "        vertical-align: top;\n",
       "    }\n",
       "\n",
       "    .dataframe thead th {\n",
       "        text-align: right;\n",
       "    }\n",
       "</style>\n",
       "<table border=\"1\" class=\"dataframe\">\n",
       "  <thead>\n",
       "    <tr style=\"text-align: right;\">\n",
       "      <th></th>\n",
       "      <th>open_price</th>\n",
       "      <th>high_price</th>\n",
       "      <th>low_price</th>\n",
       "      <th>close_price</th>\n",
       "      <th>trade_volume</th>\n",
       "      <th>next_close_price</th>\n",
       "      <th>next_high_price</th>\n",
       "      <th>target</th>\n",
       "      <th>ema_50</th>\n",
       "      <th>ema_100</th>\n",
       "      <th>ema_200</th>\n",
       "      <th>delta_ema_50</th>\n",
       "      <th>delta_ema_100</th>\n",
       "      <th>delta_ema_200</th>\n",
       "      <th>rsi</th>\n",
       "      <th>macd_line</th>\n",
       "      <th>signal_line</th>\n",
       "      <th>macd_hist</th>\n",
       "      <th>stoch_k</th>\n",
       "      <th>stoch_d</th>\n",
       "    </tr>\n",
       "    <tr>\n",
       "      <th>date_time</th>\n",
       "      <th></th>\n",
       "      <th></th>\n",
       "      <th></th>\n",
       "      <th></th>\n",
       "      <th></th>\n",
       "      <th></th>\n",
       "      <th></th>\n",
       "      <th></th>\n",
       "      <th></th>\n",
       "      <th></th>\n",
       "      <th></th>\n",
       "      <th></th>\n",
       "      <th></th>\n",
       "      <th></th>\n",
       "      <th></th>\n",
       "      <th></th>\n",
       "      <th></th>\n",
       "      <th></th>\n",
       "      <th></th>\n",
       "      <th></th>\n",
       "    </tr>\n",
       "  </thead>\n",
       "  <tbody>\n",
       "    <tr>\n",
       "      <th>2024-01-01 16:35:00</th>\n",
       "      <td>105.924</td>\n",
       "      <td>105.941</td>\n",
       "      <td>105.382</td>\n",
       "      <td>105.466</td>\n",
       "      <td>20102.4</td>\n",
       "      <td>105.806</td>\n",
       "      <td>105.859</td>\n",
       "      <td>1</td>\n",
       "      <td>104.525660</td>\n",
       "      <td>103.956305</td>\n",
       "      <td>103.248935</td>\n",
       "      <td>0.940340</td>\n",
       "      <td>1.509695</td>\n",
       "      <td>2.217065</td>\n",
       "      <td>57.250350</td>\n",
       "      <td>0.261742</td>\n",
       "      <td>0.239885</td>\n",
       "      <td>0.021857</td>\n",
       "      <td>59.250474</td>\n",
       "      <td>70.192916</td>\n",
       "    </tr>\n",
       "    <tr>\n",
       "      <th>2024-01-01 16:40:00</th>\n",
       "      <td>105.466</td>\n",
       "      <td>105.859</td>\n",
       "      <td>105.350</td>\n",
       "      <td>105.806</td>\n",
       "      <td>10822.2</td>\n",
       "      <td>105.724</td>\n",
       "      <td>105.833</td>\n",
       "      <td>0</td>\n",
       "      <td>104.575869</td>\n",
       "      <td>103.992933</td>\n",
       "      <td>103.274378</td>\n",
       "      <td>1.230131</td>\n",
       "      <td>1.813067</td>\n",
       "      <td>2.531622</td>\n",
       "      <td>61.038870</td>\n",
       "      <td>0.271645</td>\n",
       "      <td>0.246237</td>\n",
       "      <td>0.025408</td>\n",
       "      <td>75.379507</td>\n",
       "      <td>71.869070</td>\n",
       "    </tr>\n",
       "    <tr>\n",
       "      <th>2024-01-01 16:45:00</th>\n",
       "      <td>105.806</td>\n",
       "      <td>105.833</td>\n",
       "      <td>105.619</td>\n",
       "      <td>105.724</td>\n",
       "      <td>13272.1</td>\n",
       "      <td>105.732</td>\n",
       "      <td>105.759</td>\n",
       "      <td>1</td>\n",
       "      <td>104.620894</td>\n",
       "      <td>104.027212</td>\n",
       "      <td>103.298753</td>\n",
       "      <td>1.103106</td>\n",
       "      <td>1.696788</td>\n",
       "      <td>2.425247</td>\n",
       "      <td>59.665524</td>\n",
       "      <td>0.262673</td>\n",
       "      <td>0.249524</td>\n",
       "      <td>0.013149</td>\n",
       "      <td>67.247956</td>\n",
       "      <td>67.292646</td>\n",
       "    </tr>\n",
       "    <tr>\n",
       "      <th>2024-01-01 16:50:00</th>\n",
       "      <td>105.724</td>\n",
       "      <td>105.759</td>\n",
       "      <td>105.517</td>\n",
       "      <td>105.732</td>\n",
       "      <td>8156.6</td>\n",
       "      <td>105.445</td>\n",
       "      <td>105.795</td>\n",
       "      <td>0</td>\n",
       "      <td>104.664467</td>\n",
       "      <td>104.060970</td>\n",
       "      <td>103.322964</td>\n",
       "      <td>1.067533</td>\n",
       "      <td>1.671030</td>\n",
       "      <td>2.409036</td>\n",
       "      <td>59.760647</td>\n",
       "      <td>0.250873</td>\n",
       "      <td>0.249794</td>\n",
       "      <td>0.001079</td>\n",
       "      <td>67.683924</td>\n",
       "      <td>70.103796</td>\n",
       "    </tr>\n",
       "    <tr>\n",
       "      <th>2024-01-01 16:55:00</th>\n",
       "      <td>105.732</td>\n",
       "      <td>105.795</td>\n",
       "      <td>105.445</td>\n",
       "      <td>105.445</td>\n",
       "      <td>11218.1</td>\n",
       "      <td>104.756</td>\n",
       "      <td>105.482</td>\n",
       "      <td>0</td>\n",
       "      <td>104.695076</td>\n",
       "      <td>104.088376</td>\n",
       "      <td>103.344079</td>\n",
       "      <td>0.749924</td>\n",
       "      <td>1.356624</td>\n",
       "      <td>2.100921</td>\n",
       "      <td>54.770300</td>\n",
       "      <td>0.204632</td>\n",
       "      <td>0.240762</td>\n",
       "      <td>-0.036129</td>\n",
       "      <td>52.043597</td>\n",
       "      <td>62.325159</td>\n",
       "    </tr>\n",
       "  </tbody>\n",
       "</table>\n",
       "</div>"
      ],
      "text/plain": [
       "                     open_price  high_price  low_price  close_price  \\\n",
       "date_time                                                             \n",
       "2024-01-01 16:35:00     105.924     105.941    105.382      105.466   \n",
       "2024-01-01 16:40:00     105.466     105.859    105.350      105.806   \n",
       "2024-01-01 16:45:00     105.806     105.833    105.619      105.724   \n",
       "2024-01-01 16:50:00     105.724     105.759    105.517      105.732   \n",
       "2024-01-01 16:55:00     105.732     105.795    105.445      105.445   \n",
       "\n",
       "                     trade_volume  next_close_price  next_high_price  target  \\\n",
       "date_time                                                                      \n",
       "2024-01-01 16:35:00       20102.4           105.806          105.859       1   \n",
       "2024-01-01 16:40:00       10822.2           105.724          105.833       0   \n",
       "2024-01-01 16:45:00       13272.1           105.732          105.759       1   \n",
       "2024-01-01 16:50:00        8156.6           105.445          105.795       0   \n",
       "2024-01-01 16:55:00       11218.1           104.756          105.482       0   \n",
       "\n",
       "                         ema_50     ema_100     ema_200  delta_ema_50  \\\n",
       "date_time                                                               \n",
       "2024-01-01 16:35:00  104.525660  103.956305  103.248935      0.940340   \n",
       "2024-01-01 16:40:00  104.575869  103.992933  103.274378      1.230131   \n",
       "2024-01-01 16:45:00  104.620894  104.027212  103.298753      1.103106   \n",
       "2024-01-01 16:50:00  104.664467  104.060970  103.322964      1.067533   \n",
       "2024-01-01 16:55:00  104.695076  104.088376  103.344079      0.749924   \n",
       "\n",
       "                     delta_ema_100  delta_ema_200        rsi  macd_line  \\\n",
       "date_time                                                                 \n",
       "2024-01-01 16:35:00       1.509695       2.217065  57.250350   0.261742   \n",
       "2024-01-01 16:40:00       1.813067       2.531622  61.038870   0.271645   \n",
       "2024-01-01 16:45:00       1.696788       2.425247  59.665524   0.262673   \n",
       "2024-01-01 16:50:00       1.671030       2.409036  59.760647   0.250873   \n",
       "2024-01-01 16:55:00       1.356624       2.100921  54.770300   0.204632   \n",
       "\n",
       "                     signal_line  macd_hist    stoch_k    stoch_d  \n",
       "date_time                                                          \n",
       "2024-01-01 16:35:00     0.239885   0.021857  59.250474  70.192916  \n",
       "2024-01-01 16:40:00     0.246237   0.025408  75.379507  71.869070  \n",
       "2024-01-01 16:45:00     0.249524   0.013149  67.247956  67.292646  \n",
       "2024-01-01 16:50:00     0.249794   0.001079  67.683924  70.103796  \n",
       "2024-01-01 16:55:00     0.240762  -0.036129  52.043597  62.325159  "
      ]
     },
     "execution_count": 97,
     "metadata": {},
     "output_type": "execute_result"
    }
   ],
   "source": [
    "sol_data.head()"
   ]
  },
  {
   "cell_type": "markdown",
   "id": "c1d35b44-695a-48e3-a1a2-a38244ded548",
   "metadata": {},
   "source": [
    "### Уровни RSI"
   ]
  },
  {
   "cell_type": "markdown",
   "id": "cc989ae2-b357-496e-bbd1-c135831def17",
   "metadata": {},
   "source": [
    "**Добавим категоральный признак уровня RSI**\n",
    "\n",
    "* Перекупленность (RSI > 70)\n",
    "* Нормальный уровень 30 < RSI < 70\n",
    "* Перепроданность RSI < 30"
   ]
  },
  {
   "cell_type": "code",
   "execution_count": 100,
   "id": "86cc3a23-950c-4bb7-bfc8-892c12ae3af6",
   "metadata": {},
   "outputs": [],
   "source": [
    "def rsi_lvl(data):\n",
    "    if data >= 0 and data <= 15:\n",
    "        return('перепроданность_15')\n",
    "    if  data > 15 and data <= 30:\n",
    "        return('перепроданнсть_30')\n",
    "    if  data >=70 and data < 85:\n",
    "        return('перекупленность_70')\n",
    "    if  data >= 85 and data <= 100:\n",
    "        return('перекупленность_85')\n",
    "    else:\n",
    "        return('средние значения')"
   ]
  },
  {
   "cell_type": "code",
   "execution_count": 101,
   "id": "3bb7c73a-b5ef-457f-9003-78c813596186",
   "metadata": {},
   "outputs": [],
   "source": [
    "sol_data['rsi_lvl'] = sol_data['rsi'].apply(rsi_lvl)"
   ]
  },
  {
   "cell_type": "code",
   "execution_count": 102,
   "id": "69d22552-ae3c-4ea5-8aed-cea7be227e7e",
   "metadata": {},
   "outputs": [
    {
     "data": {
      "text/html": [
       "<div>\n",
       "<style scoped>\n",
       "    .dataframe tbody tr th:only-of-type {\n",
       "        vertical-align: middle;\n",
       "    }\n",
       "\n",
       "    .dataframe tbody tr th {\n",
       "        vertical-align: top;\n",
       "    }\n",
       "\n",
       "    .dataframe thead th {\n",
       "        text-align: right;\n",
       "    }\n",
       "</style>\n",
       "<table border=\"1\" class=\"dataframe\">\n",
       "  <thead>\n",
       "    <tr style=\"text-align: right;\">\n",
       "      <th></th>\n",
       "      <th>open_price</th>\n",
       "      <th>high_price</th>\n",
       "      <th>low_price</th>\n",
       "      <th>close_price</th>\n",
       "      <th>trade_volume</th>\n",
       "      <th>next_close_price</th>\n",
       "      <th>next_high_price</th>\n",
       "      <th>target</th>\n",
       "      <th>ema_50</th>\n",
       "      <th>ema_100</th>\n",
       "      <th>ema_200</th>\n",
       "      <th>delta_ema_50</th>\n",
       "      <th>delta_ema_100</th>\n",
       "      <th>delta_ema_200</th>\n",
       "      <th>rsi</th>\n",
       "      <th>macd_line</th>\n",
       "      <th>signal_line</th>\n",
       "      <th>macd_hist</th>\n",
       "      <th>stoch_k</th>\n",
       "      <th>stoch_d</th>\n",
       "      <th>rsi_lvl</th>\n",
       "    </tr>\n",
       "    <tr>\n",
       "      <th>date_time</th>\n",
       "      <th></th>\n",
       "      <th></th>\n",
       "      <th></th>\n",
       "      <th></th>\n",
       "      <th></th>\n",
       "      <th></th>\n",
       "      <th></th>\n",
       "      <th></th>\n",
       "      <th></th>\n",
       "      <th></th>\n",
       "      <th></th>\n",
       "      <th></th>\n",
       "      <th></th>\n",
       "      <th></th>\n",
       "      <th></th>\n",
       "      <th></th>\n",
       "      <th></th>\n",
       "      <th></th>\n",
       "      <th></th>\n",
       "      <th></th>\n",
       "      <th></th>\n",
       "    </tr>\n",
       "  </thead>\n",
       "  <tbody>\n",
       "    <tr>\n",
       "      <th>2024-01-01 16:35:00</th>\n",
       "      <td>105.924</td>\n",
       "      <td>105.941</td>\n",
       "      <td>105.382</td>\n",
       "      <td>105.466</td>\n",
       "      <td>20102.4</td>\n",
       "      <td>105.806</td>\n",
       "      <td>105.859</td>\n",
       "      <td>1</td>\n",
       "      <td>104.525660</td>\n",
       "      <td>103.956305</td>\n",
       "      <td>103.248935</td>\n",
       "      <td>0.940340</td>\n",
       "      <td>1.509695</td>\n",
       "      <td>2.217065</td>\n",
       "      <td>57.250350</td>\n",
       "      <td>0.261742</td>\n",
       "      <td>0.239885</td>\n",
       "      <td>0.021857</td>\n",
       "      <td>59.250474</td>\n",
       "      <td>70.192916</td>\n",
       "      <td>средние значения</td>\n",
       "    </tr>\n",
       "    <tr>\n",
       "      <th>2024-01-01 16:40:00</th>\n",
       "      <td>105.466</td>\n",
       "      <td>105.859</td>\n",
       "      <td>105.350</td>\n",
       "      <td>105.806</td>\n",
       "      <td>10822.2</td>\n",
       "      <td>105.724</td>\n",
       "      <td>105.833</td>\n",
       "      <td>0</td>\n",
       "      <td>104.575869</td>\n",
       "      <td>103.992933</td>\n",
       "      <td>103.274378</td>\n",
       "      <td>1.230131</td>\n",
       "      <td>1.813067</td>\n",
       "      <td>2.531622</td>\n",
       "      <td>61.038870</td>\n",
       "      <td>0.271645</td>\n",
       "      <td>0.246237</td>\n",
       "      <td>0.025408</td>\n",
       "      <td>75.379507</td>\n",
       "      <td>71.869070</td>\n",
       "      <td>средние значения</td>\n",
       "    </tr>\n",
       "    <tr>\n",
       "      <th>2024-01-01 16:45:00</th>\n",
       "      <td>105.806</td>\n",
       "      <td>105.833</td>\n",
       "      <td>105.619</td>\n",
       "      <td>105.724</td>\n",
       "      <td>13272.1</td>\n",
       "      <td>105.732</td>\n",
       "      <td>105.759</td>\n",
       "      <td>1</td>\n",
       "      <td>104.620894</td>\n",
       "      <td>104.027212</td>\n",
       "      <td>103.298753</td>\n",
       "      <td>1.103106</td>\n",
       "      <td>1.696788</td>\n",
       "      <td>2.425247</td>\n",
       "      <td>59.665524</td>\n",
       "      <td>0.262673</td>\n",
       "      <td>0.249524</td>\n",
       "      <td>0.013149</td>\n",
       "      <td>67.247956</td>\n",
       "      <td>67.292646</td>\n",
       "      <td>средние значения</td>\n",
       "    </tr>\n",
       "    <tr>\n",
       "      <th>2024-01-01 16:50:00</th>\n",
       "      <td>105.724</td>\n",
       "      <td>105.759</td>\n",
       "      <td>105.517</td>\n",
       "      <td>105.732</td>\n",
       "      <td>8156.6</td>\n",
       "      <td>105.445</td>\n",
       "      <td>105.795</td>\n",
       "      <td>0</td>\n",
       "      <td>104.664467</td>\n",
       "      <td>104.060970</td>\n",
       "      <td>103.322964</td>\n",
       "      <td>1.067533</td>\n",
       "      <td>1.671030</td>\n",
       "      <td>2.409036</td>\n",
       "      <td>59.760647</td>\n",
       "      <td>0.250873</td>\n",
       "      <td>0.249794</td>\n",
       "      <td>0.001079</td>\n",
       "      <td>67.683924</td>\n",
       "      <td>70.103796</td>\n",
       "      <td>средние значения</td>\n",
       "    </tr>\n",
       "    <tr>\n",
       "      <th>2024-01-01 16:55:00</th>\n",
       "      <td>105.732</td>\n",
       "      <td>105.795</td>\n",
       "      <td>105.445</td>\n",
       "      <td>105.445</td>\n",
       "      <td>11218.1</td>\n",
       "      <td>104.756</td>\n",
       "      <td>105.482</td>\n",
       "      <td>0</td>\n",
       "      <td>104.695076</td>\n",
       "      <td>104.088376</td>\n",
       "      <td>103.344079</td>\n",
       "      <td>0.749924</td>\n",
       "      <td>1.356624</td>\n",
       "      <td>2.100921</td>\n",
       "      <td>54.770300</td>\n",
       "      <td>0.204632</td>\n",
       "      <td>0.240762</td>\n",
       "      <td>-0.036129</td>\n",
       "      <td>52.043597</td>\n",
       "      <td>62.325159</td>\n",
       "      <td>средние значения</td>\n",
       "    </tr>\n",
       "  </tbody>\n",
       "</table>\n",
       "</div>"
      ],
      "text/plain": [
       "                     open_price  high_price  low_price  close_price  \\\n",
       "date_time                                                             \n",
       "2024-01-01 16:35:00     105.924     105.941    105.382      105.466   \n",
       "2024-01-01 16:40:00     105.466     105.859    105.350      105.806   \n",
       "2024-01-01 16:45:00     105.806     105.833    105.619      105.724   \n",
       "2024-01-01 16:50:00     105.724     105.759    105.517      105.732   \n",
       "2024-01-01 16:55:00     105.732     105.795    105.445      105.445   \n",
       "\n",
       "                     trade_volume  next_close_price  next_high_price  target  \\\n",
       "date_time                                                                      \n",
       "2024-01-01 16:35:00       20102.4           105.806          105.859       1   \n",
       "2024-01-01 16:40:00       10822.2           105.724          105.833       0   \n",
       "2024-01-01 16:45:00       13272.1           105.732          105.759       1   \n",
       "2024-01-01 16:50:00        8156.6           105.445          105.795       0   \n",
       "2024-01-01 16:55:00       11218.1           104.756          105.482       0   \n",
       "\n",
       "                         ema_50     ema_100     ema_200  delta_ema_50  \\\n",
       "date_time                                                               \n",
       "2024-01-01 16:35:00  104.525660  103.956305  103.248935      0.940340   \n",
       "2024-01-01 16:40:00  104.575869  103.992933  103.274378      1.230131   \n",
       "2024-01-01 16:45:00  104.620894  104.027212  103.298753      1.103106   \n",
       "2024-01-01 16:50:00  104.664467  104.060970  103.322964      1.067533   \n",
       "2024-01-01 16:55:00  104.695076  104.088376  103.344079      0.749924   \n",
       "\n",
       "                     delta_ema_100  delta_ema_200        rsi  macd_line  \\\n",
       "date_time                                                                 \n",
       "2024-01-01 16:35:00       1.509695       2.217065  57.250350   0.261742   \n",
       "2024-01-01 16:40:00       1.813067       2.531622  61.038870   0.271645   \n",
       "2024-01-01 16:45:00       1.696788       2.425247  59.665524   0.262673   \n",
       "2024-01-01 16:50:00       1.671030       2.409036  59.760647   0.250873   \n",
       "2024-01-01 16:55:00       1.356624       2.100921  54.770300   0.204632   \n",
       "\n",
       "                     signal_line  macd_hist    stoch_k    stoch_d  \\\n",
       "date_time                                                           \n",
       "2024-01-01 16:35:00     0.239885   0.021857  59.250474  70.192916   \n",
       "2024-01-01 16:40:00     0.246237   0.025408  75.379507  71.869070   \n",
       "2024-01-01 16:45:00     0.249524   0.013149  67.247956  67.292646   \n",
       "2024-01-01 16:50:00     0.249794   0.001079  67.683924  70.103796   \n",
       "2024-01-01 16:55:00     0.240762  -0.036129  52.043597  62.325159   \n",
       "\n",
       "                              rsi_lvl  \n",
       "date_time                              \n",
       "2024-01-01 16:35:00  средние значения  \n",
       "2024-01-01 16:40:00  средние значения  \n",
       "2024-01-01 16:45:00  средние значения  \n",
       "2024-01-01 16:50:00  средние значения  \n",
       "2024-01-01 16:55:00  средние значения  "
      ]
     },
     "execution_count": 102,
     "metadata": {},
     "output_type": "execute_result"
    }
   ],
   "source": [
    "sol_data.head()"
   ]
  },
  {
   "cell_type": "code",
   "execution_count": 103,
   "id": "2a5ae900-a128-4441-ad82-030367a37071",
   "metadata": {},
   "outputs": [
    {
     "data": {
      "image/png": "[encoded data removed]",
      "text/plain": [
       "<Figure size 2000x600 with 1 Axes>"
      ]
     },
     "metadata": {},
     "output_type": "display_data"
    }
   ],
   "source": [
    "plt.subplots(figsize=(20,6));\n",
    "sn.histplot(data=sol_data, x='rsi', hue='target', multiple='stack', alpha=0.9);\n",
    "sn.despine(top=True, right=True)\n",
    "plt.title('Распределение направления движение цены при разном RSI\\n 0-цена начнет падать\\n 1-цена начнет увеличиваться');"
   ]
  },
  {
   "cell_type": "code",
   "execution_count": 104,
   "id": "37628eee-2547-44de-bcf5-53ac09339234",
   "metadata": {},
   "outputs": [
    {
     "data": {
      "image/png": "[encoded data removed]",
      "text/plain": [
       "<Figure size 2200x600 with 2 Axes>"
      ]
     },
     "metadata": {},
     "output_type": "display_data"
    }
   ],
   "source": [
    "plt.figure(figsize=(22,6))\n",
    "plt.subplot(121);\n",
    "sn.histplot(data=sol_data[sol_data['rsi'] < 30], x='rsi', hue='target', multiple='stack', alpha=0.9);\n",
    "plt.title('Распределение направления движение цены при RSI ниже 30');\n",
    "\n",
    "plt.subplot(122);\n",
    "sn.histplot(data=sol_data[sol_data['rsi'] > 70], x='rsi', hue='target', multiple='stack', alpha=0.9);\n",
    "plt.title('Распределение направления движение цены при RSI выше 70');\n",
    "sn.despine(top=True, right=True)\n"
   ]
  },
  {
   "cell_type": "code",
   "execution_count": 105,
   "id": "9f969daa-7c42-40b1-b995-5b1cc6de2581",
   "metadata": {},
   "outputs": [
    {
     "data": {
      "image/png": "[encoded data removed]",
      "text/plain": [
       "<Figure size 2200x600 with 2 Axes>"
      ]
     },
     "metadata": {},
     "output_type": "display_data"
    }
   ],
   "source": [
    "plt.figure(figsize=(22,6))\n",
    "plt.subplot(121);\n",
    "sn.histplot(data=sol_data[sol_data['rsi'] < 20], x='rsi', hue='target', multiple='stack', alpha=0.9);\n",
    "sn.despine(top=True, right=True)\n",
    "plt.title('Распределение направления движение цены при RSI ниже 20');\n",
    "\n",
    "plt.subplot(122);\n",
    "sn.histplot(data=sol_data[sol_data['rsi'] > 80], x='rsi', hue='target', multiple='stack', alpha=0.9);\n",
    "sn.despine(top=True, right=True)\n",
    "plt.title('Распределение направления движение цены при RSI выше 80');"
   ]
  },
  {
   "cell_type": "markdown",
   "id": "b5235565-f289-420b-80bd-a7d0daa9cf7b",
   "metadata": {},
   "source": [
    "**ВЫВОД ПОСЛЕ АНАЛИЗА RSI**\n",
    "\n",
    "* **Разбор направлений движения цены после достижения каких либо критических значений RSI вообще не гарантирует предсказания направления цены**"
   ]
  },
  {
   "cell_type": "markdown",
   "id": "9ee1809a-68a1-4e2f-aeb5-c768cff066cb",
   "metadata": {},
   "source": [
    "### Пересечение линий MACD"
   ]
  },
  {
   "cell_type": "markdown",
   "id": "487087e0-f512-4ed2-979b-7dc17282e7ed",
   "metadata": {},
   "source": [
    "**Для того, чтобы добавить признак пересечения линий MACD вверх\\вниз и для простоты кода, чтобы не передавать в функцию весь датафрейм, а использовать быстрые стандартные функции, выполним работу в 2 шага. Шифт+эплай**"
   ]
  },
  {
   "cell_type": "code",
   "execution_count": 109,
   "id": "4443a8f5-69ca-4cc2-9ff9-ed3461734d31",
   "metadata": {},
   "outputs": [],
   "source": [
    "sol_data['macd_hist_prev'] = sol_data['macd_hist'].shift(1)"
   ]
  },
  {
   "cell_type": "code",
   "execution_count": 110,
   "id": "425c110e-d8fe-4ca9-9dff-f80ddb0eb52c",
   "metadata": {},
   "outputs": [],
   "source": [
    "def macd_cross(data):\n",
    "    if data['macd_hist_prev'] < 0 and data['macd_hist'] >= 0:\n",
    "        return('пересечение вверх')\n",
    "    if data['macd_hist_prev'] > 0 and data['macd_hist'] <= 0:\n",
    "        return('пересечение вниз')\n",
    "    else:\n",
    "        return('пересечение отсутствует')"
   ]
  },
  {
   "cell_type": "code",
   "execution_count": 111,
   "id": "55e031f4-954c-4811-b4c8-df3dc63f926f",
   "metadata": {},
   "outputs": [],
   "source": [
    "sol_data['is_macd_crossing'] = sol_data.apply(lambda row: macd_cross(row), axis=1)"
   ]
  },
  {
   "cell_type": "code",
   "execution_count": 112,
   "id": "e767cdc1-b256-498a-9d7e-a2a4b4a34eee",
   "metadata": {},
   "outputs": [
    {
     "data": {
      "text/plain": [
       "is_macd_crossing\n",
       "пересечение отсутствует    44808\n",
       "пересечение вниз            2589\n",
       "пересечение вверх           2588\n",
       "Name: count, dtype: int64"
      ]
     },
     "execution_count": 112,
     "metadata": {},
     "output_type": "execute_result"
    }
   ],
   "source": [
    "sol_data['is_macd_crossing'].value_counts()"
   ]
  },
  {
   "cell_type": "code",
   "execution_count": 113,
   "id": "32a9f53a-3ee9-4e59-ab10-281c8dd97a7a",
   "metadata": {},
   "outputs": [
    {
     "data": {
      "image/png": "[encoded data removed]",
      "text/plain": [
       "<Figure size 1000x500 with 1 Axes>"
      ]
     },
     "metadata": {},
     "output_type": "display_data"
    }
   ],
   "source": [
    "plt.subplots(figsize=(10,5));\n",
    "sn.histplot(data=sol_data, x='is_macd_crossing', hue='target', multiple='stack');\n",
    "plt.title('Гистограмма пересечений линий MACD');"
   ]
  },
  {
   "cell_type": "markdown",
   "id": "04f6af5d-9a34-44c7-b04a-fad048ca7a6a",
   "metadata": {},
   "source": [
    "**WHAT!? wait a minute**"
   ]
  },
  {
   "cell_type": "code",
   "execution_count": 115,
   "id": "c39dbd9f-c409-4a51-bbfa-5817b39de819",
   "metadata": {},
   "outputs": [
    {
     "data": {
      "text/plain": [
       "target\n",
       "0    1354\n",
       "1    1234\n",
       "Name: count, dtype: int64"
      ]
     },
     "execution_count": 115,
     "metadata": {},
     "output_type": "execute_result"
    }
   ],
   "source": [
    "sol_data[sol_data['is_macd_crossing']=='пересечение вверх']['target'].value_counts()"
   ]
  },
  {
   "cell_type": "code",
   "execution_count": 116,
   "id": "44c84fcf-a6e7-421b-ac14-d09b05c6892e",
   "metadata": {},
   "outputs": [
    {
     "data": {
      "text/plain": [
       "target\n",
       "0    0.523184\n",
       "1    0.476816\n",
       "Name: proportion, dtype: float64"
      ]
     },
     "execution_count": 116,
     "metadata": {},
     "output_type": "execute_result"
    }
   ],
   "source": [
    "sol_data[sol_data['is_macd_crossing']=='пересечение вверх']['target'].value_counts(normalize=True)"
   ]
  },
  {
   "cell_type": "markdown",
   "id": "ca9d07a0-29ca-409f-96a5-57383bbcb14a",
   "metadata": {},
   "source": [
    "**Более того в 52% случаев, после пересечения линии MACD вверх, цена падает:)**"
   ]
  },
  {
   "cell_type": "markdown",
   "id": "764d2f03-45b2-483a-87ac-2c251659a1e8",
   "metadata": {},
   "source": [
    "**Я в ахуе, популярная страта торговли от пересечений линий MACD просто ни о чем**"
   ]
  },
  {
   "cell_type": "code",
   "execution_count": 119,
   "id": "62cbf73d-bcd0-402a-a494-ee7bdc4b155c",
   "metadata": {},
   "outputs": [
    {
     "data": {
      "text/plain": [
       "target\n",
       "0    0.509463\n",
       "1    0.490537\n",
       "Name: proportion, dtype: float64"
      ]
     },
     "execution_count": 119,
     "metadata": {},
     "output_type": "execute_result"
    }
   ],
   "source": [
    "sol_data[sol_data['is_macd_crossing']=='пересечение вниз']['target'].value_counts(normalize=True)"
   ]
  },
  {
   "cell_type": "markdown",
   "id": "dd047492-e1ee-4d6d-b425-0882c7bea3af",
   "metadata": {},
   "source": [
    "**Более того, при пересечении линий MACD и вниз, тоже, цена чаще падает**"
   ]
  },
  {
   "cell_type": "markdown",
   "id": "820363a0-55c8-41a5-9cfd-2bfa0338c373",
   "metadata": {},
   "source": [
    "**Возможно минутный таймфрейм дает много ложный сигналов**"
   ]
  },
  {
   "cell_type": "markdown",
   "id": "fd423559-2ccd-4c28-b1f5-b9ab3d0de5bf",
   "metadata": {},
   "source": [
    "### Линии стохастика"
   ]
  },
  {
   "cell_type": "markdown",
   "id": "2255e8b0-d82a-4b57-8798-9fef24518063",
   "metadata": {},
   "source": [
    "**Так же добавим признак факта пересечения, хоть он и не основной. Вспомним, что основной наблюдаемый факт стохастика это пересечение медленной или медленной+быстрой (что лучше) уровней 20 и 80, в то время как пересечение линий стохастика аналогично линиям MACD на этих уровнях является дополнительным сигналом**"
   ]
  },
  {
   "cell_type": "markdown",
   "id": "a6ab280b-4a75-4cbe-bbcd-0601539d2c7a",
   "metadata": {},
   "source": [
    "Для проверки факта пересечения добавим hist"
   ]
  },
  {
   "cell_type": "code",
   "execution_count": 125,
   "id": "ca8fe8cb-1d45-4b62-af1a-c2647a17b8de",
   "metadata": {},
   "outputs": [],
   "source": [
    "def stoch_hist(row):\n",
    "    return(row['stoch_k'] - row['stoch_d'])"
   ]
  },
  {
   "cell_type": "code",
   "execution_count": 126,
   "id": "42495c91-65b1-4ae7-8f83-2dc7ba44d3c9",
   "metadata": {},
   "outputs": [],
   "source": [
    "sol_data['stoch_hist'] = sol_data.apply(lambda row: stoch_hist(row), axis=1)"
   ]
  },
  {
   "cell_type": "markdown",
   "id": "8690997b-b515-4de0-a9f4-ef41f5a08d4f",
   "metadata": {},
   "source": [
    "**Теперь добавим проверку на пересечение**"
   ]
  },
  {
   "cell_type": "code",
   "execution_count": 128,
   "id": "abca19ce-0d6c-4b83-ad76-04e7067d37d1",
   "metadata": {},
   "outputs": [],
   "source": [
    "sol_data['stoch_hist_prev'] = sol_data['stoch_hist'].shift(1)"
   ]
  },
  {
   "cell_type": "code",
   "execution_count": 129,
   "id": "a63929e1-46ba-4490-aeed-f2b154538a02",
   "metadata": {},
   "outputs": [],
   "source": [
    "def stoch_cross(data):\n",
    "    if data['stoch_hist_prev'] < 0 and data['stoch_hist'] >= 0:\n",
    "        return('пересечение вверх')\n",
    "    if data['stoch_hist_prev'] > 0 and data['stoch_hist'] <= 0:\n",
    "        return('пересечение вниз')\n",
    "    else:\n",
    "        return('пересечение отсутствует')"
   ]
  },
  {
   "cell_type": "code",
   "execution_count": 130,
   "id": "e8b7a37a-4646-4897-ab56-d39bd7367669",
   "metadata": {},
   "outputs": [],
   "source": [
    "sol_data['is_stoch_crossing'] = sol_data.apply(lambda row: stoch_cross(row), axis=1)"
   ]
  },
  {
   "cell_type": "code",
   "execution_count": 131,
   "id": "b8ee5222-fb1f-4fa0-b657-1cfee8ba7933",
   "metadata": {},
   "outputs": [
    {
     "data": {
      "text/html": [
       "<div>\n",
       "<style scoped>\n",
       "    .dataframe tbody tr th:only-of-type {\n",
       "        vertical-align: middle;\n",
       "    }\n",
       "\n",
       "    .dataframe tbody tr th {\n",
       "        vertical-align: top;\n",
       "    }\n",
       "\n",
       "    .dataframe thead th {\n",
       "        text-align: right;\n",
       "    }\n",
       "</style>\n",
       "<table border=\"1\" class=\"dataframe\">\n",
       "  <thead>\n",
       "    <tr style=\"text-align: right;\">\n",
       "      <th></th>\n",
       "      <th>open_price</th>\n",
       "      <th>high_price</th>\n",
       "      <th>low_price</th>\n",
       "      <th>close_price</th>\n",
       "      <th>trade_volume</th>\n",
       "      <th>next_close_price</th>\n",
       "      <th>next_high_price</th>\n",
       "      <th>target</th>\n",
       "      <th>ema_50</th>\n",
       "      <th>ema_100</th>\n",
       "      <th>ema_200</th>\n",
       "      <th>delta_ema_50</th>\n",
       "      <th>delta_ema_100</th>\n",
       "      <th>delta_ema_200</th>\n",
       "      <th>rsi</th>\n",
       "      <th>macd_line</th>\n",
       "      <th>signal_line</th>\n",
       "      <th>macd_hist</th>\n",
       "      <th>stoch_k</th>\n",
       "      <th>stoch_d</th>\n",
       "      <th>rsi_lvl</th>\n",
       "      <th>macd_hist_prev</th>\n",
       "      <th>is_macd_crossing</th>\n",
       "      <th>stoch_hist</th>\n",
       "      <th>stoch_hist_prev</th>\n",
       "      <th>is_stoch_crossing</th>\n",
       "    </tr>\n",
       "    <tr>\n",
       "      <th>date_time</th>\n",
       "      <th></th>\n",
       "      <th></th>\n",
       "      <th></th>\n",
       "      <th></th>\n",
       "      <th></th>\n",
       "      <th></th>\n",
       "      <th></th>\n",
       "      <th></th>\n",
       "      <th></th>\n",
       "      <th></th>\n",
       "      <th></th>\n",
       "      <th></th>\n",
       "      <th></th>\n",
       "      <th></th>\n",
       "      <th></th>\n",
       "      <th></th>\n",
       "      <th></th>\n",
       "      <th></th>\n",
       "      <th></th>\n",
       "      <th></th>\n",
       "      <th></th>\n",
       "      <th></th>\n",
       "      <th></th>\n",
       "      <th></th>\n",
       "      <th></th>\n",
       "      <th></th>\n",
       "    </tr>\n",
       "  </thead>\n",
       "  <tbody>\n",
       "    <tr>\n",
       "      <th>2024-05-16 05:10:00</th>\n",
       "      <td>160.690</td>\n",
       "      <td>161.390</td>\n",
       "      <td>160.570</td>\n",
       "      <td>161.320</td>\n",
       "      <td>18429.7</td>\n",
       "      <td>161.020</td>\n",
       "      <td>161.470</td>\n",
       "      <td>0</td>\n",
       "      <td>159.074196</td>\n",
       "      <td>157.065236</td>\n",
       "      <td>153.943649</td>\n",
       "      <td>2.245804</td>\n",
       "      <td>4.254764</td>\n",
       "      <td>7.376351</td>\n",
       "      <td>64.513302</td>\n",
       "      <td>0.193313</td>\n",
       "      <td>0.219209</td>\n",
       "      <td>-0.025896</td>\n",
       "      <td>85.561497</td>\n",
       "      <td>60.675381</td>\n",
       "      <td>средние значения</td>\n",
       "      <td>-0.110155</td>\n",
       "      <td>пересечение отсутствует</td>\n",
       "      <td>24.886116</td>\n",
       "      <td>7.239057</td>\n",
       "      <td>пересечение отсутствует</td>\n",
       "    </tr>\n",
       "    <tr>\n",
       "      <th>2024-02-19 20:40:00</th>\n",
       "      <td>113.294</td>\n",
       "      <td>113.568</td>\n",
       "      <td>113.277</td>\n",
       "      <td>113.552</td>\n",
       "      <td>12306.0</td>\n",
       "      <td>113.322</td>\n",
       "      <td>113.815</td>\n",
       "      <td>0</td>\n",
       "      <td>113.355649</td>\n",
       "      <td>113.137684</td>\n",
       "      <td>112.796048</td>\n",
       "      <td>0.196351</td>\n",
       "      <td>0.414316</td>\n",
       "      <td>0.755952</td>\n",
       "      <td>52.844969</td>\n",
       "      <td>-0.041398</td>\n",
       "      <td>-0.130276</td>\n",
       "      <td>0.088877</td>\n",
       "      <td>78.109798</td>\n",
       "      <td>65.409853</td>\n",
       "      <td>средние значения</td>\n",
       "      <td>0.061721</td>\n",
       "      <td>пересечение отсутствует</td>\n",
       "      <td>12.699945</td>\n",
       "      <td>1.740684</td>\n",
       "      <td>пересечение отсутствует</td>\n",
       "    </tr>\n",
       "    <tr>\n",
       "      <th>2024-03-21 03:40:00</th>\n",
       "      <td>192.093</td>\n",
       "      <td>194.800</td>\n",
       "      <td>191.868</td>\n",
       "      <td>193.653</td>\n",
       "      <td>124465.3</td>\n",
       "      <td>195.122</td>\n",
       "      <td>195.691</td>\n",
       "      <td>1</td>\n",
       "      <td>189.105714</td>\n",
       "      <td>185.227033</td>\n",
       "      <td>180.972101</td>\n",
       "      <td>4.547286</td>\n",
       "      <td>8.425967</td>\n",
       "      <td>12.680899</td>\n",
       "      <td>63.702684</td>\n",
       "      <td>0.331779</td>\n",
       "      <td>0.138297</td>\n",
       "      <td>0.193482</td>\n",
       "      <td>78.872721</td>\n",
       "      <td>55.600654</td>\n",
       "      <td>средние значения</td>\n",
       "      <td>-0.053548</td>\n",
       "      <td>пересечение вверх</td>\n",
       "      <td>23.272067</td>\n",
       "      <td>30.662504</td>\n",
       "      <td>пересечение отсутствует</td>\n",
       "    </tr>\n",
       "    <tr>\n",
       "      <th>2024-05-14 13:50:00</th>\n",
       "      <td>146.200</td>\n",
       "      <td>146.250</td>\n",
       "      <td>145.850</td>\n",
       "      <td>145.900</td>\n",
       "      <td>6367.8</td>\n",
       "      <td>145.980</td>\n",
       "      <td>146.270</td>\n",
       "      <td>1</td>\n",
       "      <td>146.272013</td>\n",
       "      <td>146.496766</td>\n",
       "      <td>146.538993</td>\n",
       "      <td>-0.372013</td>\n",
       "      <td>-0.596766</td>\n",
       "      <td>-0.638993</td>\n",
       "      <td>46.579262</td>\n",
       "      <td>-0.064518</td>\n",
       "      <td>-0.043569</td>\n",
       "      <td>-0.020949</td>\n",
       "      <td>40.540541</td>\n",
       "      <td>42.342342</td>\n",
       "      <td>средние значения</td>\n",
       "      <td>-0.009124</td>\n",
       "      <td>пересечение отсутствует</td>\n",
       "      <td>-1.801802</td>\n",
       "      <td>13.288288</td>\n",
       "      <td>пересечение вниз</td>\n",
       "    </tr>\n",
       "    <tr>\n",
       "      <th>2024-06-20 16:25:00</th>\n",
       "      <td>135.890</td>\n",
       "      <td>135.990</td>\n",
       "      <td>134.710</td>\n",
       "      <td>135.470</td>\n",
       "      <td>115945.6</td>\n",
       "      <td>134.910</td>\n",
       "      <td>135.470</td>\n",
       "      <td>0</td>\n",
       "      <td>137.925238</td>\n",
       "      <td>137.368611</td>\n",
       "      <td>136.856826</td>\n",
       "      <td>-2.455238</td>\n",
       "      <td>-1.898611</td>\n",
       "      <td>-1.386826</td>\n",
       "      <td>22.881892</td>\n",
       "      <td>-0.821227</td>\n",
       "      <td>-0.468236</td>\n",
       "      <td>-0.352990</td>\n",
       "      <td>15.767635</td>\n",
       "      <td>12.341555</td>\n",
       "      <td>перепроданнсть_30</td>\n",
       "      <td>-0.337583</td>\n",
       "      <td>пересечение отсутствует</td>\n",
       "      <td>3.426080</td>\n",
       "      <td>4.612671</td>\n",
       "      <td>пересечение отсутствует</td>\n",
       "    </tr>\n",
       "  </tbody>\n",
       "</table>\n",
       "</div>"
      ],
      "text/plain": [
       "                     open_price  high_price  low_price  close_price  \\\n",
       "date_time                                                             \n",
       "2024-05-16 05:10:00     160.690     161.390    160.570      161.320   \n",
       "2024-02-19 20:40:00     113.294     113.568    113.277      113.552   \n",
       "2024-03-21 03:40:00     192.093     194.800    191.868      193.653   \n",
       "2024-05-14 13:50:00     146.200     146.250    145.850      145.900   \n",
       "2024-06-20 16:25:00     135.890     135.990    134.710      135.470   \n",
       "\n",
       "                     trade_volume  next_close_price  next_high_price  target  \\\n",
       "date_time                                                                      \n",
       "2024-05-16 05:10:00       18429.7           161.020          161.470       0   \n",
       "2024-02-19 20:40:00       12306.0           113.322          113.815       0   \n",
       "2024-03-21 03:40:00      124465.3           195.122          195.691       1   \n",
       "2024-05-14 13:50:00        6367.8           145.980          146.270       1   \n",
       "2024-06-20 16:25:00      115945.6           134.910          135.470       0   \n",
       "\n",
       "                         ema_50     ema_100     ema_200  delta_ema_50  \\\n",
       "date_time                                                               \n",
       "2024-05-16 05:10:00  159.074196  157.065236  153.943649      2.245804   \n",
       "2024-02-19 20:40:00  113.355649  113.137684  112.796048      0.196351   \n",
       "2024-03-21 03:40:00  189.105714  185.227033  180.972101      4.547286   \n",
       "2024-05-14 13:50:00  146.272013  146.496766  146.538993     -0.372013   \n",
       "2024-06-20 16:25:00  137.925238  137.368611  136.856826     -2.455238   \n",
       "\n",
       "                     delta_ema_100  delta_ema_200        rsi  macd_line  \\\n",
       "date_time                                                                 \n",
       "2024-05-16 05:10:00       4.254764       7.376351  64.513302   0.193313   \n",
       "2024-02-19 20:40:00       0.414316       0.755952  52.844969  -0.041398   \n",
       "2024-03-21 03:40:00       8.425967      12.680899  63.702684   0.331779   \n",
       "2024-05-14 13:50:00      -0.596766      -0.638993  46.579262  -0.064518   \n",
       "2024-06-20 16:25:00      -1.898611      -1.386826  22.881892  -0.821227   \n",
       "\n",
       "                     signal_line  macd_hist    stoch_k    stoch_d  \\\n",
       "date_time                                                           \n",
       "2024-05-16 05:10:00     0.219209  -0.025896  85.561497  60.675381   \n",
       "2024-02-19 20:40:00    -0.130276   0.088877  78.109798  65.409853   \n",
       "2024-03-21 03:40:00     0.138297   0.193482  78.872721  55.600654   \n",
       "2024-05-14 13:50:00    -0.043569  -0.020949  40.540541  42.342342   \n",
       "2024-06-20 16:25:00    -0.468236  -0.352990  15.767635  12.341555   \n",
       "\n",
       "                               rsi_lvl  macd_hist_prev  \\\n",
       "date_time                                                \n",
       "2024-05-16 05:10:00   средние значения       -0.110155   \n",
       "2024-02-19 20:40:00   средние значения        0.061721   \n",
       "2024-03-21 03:40:00   средние значения       -0.053548   \n",
       "2024-05-14 13:50:00   средние значения       -0.009124   \n",
       "2024-06-20 16:25:00  перепроданнсть_30       -0.337583   \n",
       "\n",
       "                            is_macd_crossing  stoch_hist  stoch_hist_prev  \\\n",
       "date_time                                                                   \n",
       "2024-05-16 05:10:00  пересечение отсутствует   24.886116         7.239057   \n",
       "2024-02-19 20:40:00  пересечение отсутствует   12.699945         1.740684   \n",
       "2024-03-21 03:40:00        пересечение вверх   23.272067        30.662504   \n",
       "2024-05-14 13:50:00  пересечение отсутствует   -1.801802        13.288288   \n",
       "2024-06-20 16:25:00  пересечение отсутствует    3.426080         4.612671   \n",
       "\n",
       "                           is_stoch_crossing  \n",
       "date_time                                     \n",
       "2024-05-16 05:10:00  пересечение отсутствует  \n",
       "2024-02-19 20:40:00  пересечение отсутствует  \n",
       "2024-03-21 03:40:00  пересечение отсутствует  \n",
       "2024-05-14 13:50:00         пересечение вниз  \n",
       "2024-06-20 16:25:00  пересечение отсутствует  "
      ]
     },
     "execution_count": 131,
     "metadata": {},
     "output_type": "execute_result"
    }
   ],
   "source": [
    "sol_data.sample(5)"
   ]
  },
  {
   "cell_type": "markdown",
   "id": "1d40a2fe-71f0-465a-8f3b-fb8150bec8bd",
   "metadata": {},
   "source": [
    "**Для наглядности переставим столбы датафрейма тематически друг за другом**"
   ]
  },
  {
   "cell_type": "code",
   "execution_count": 133,
   "id": "05826ad7-9b24-4400-8033-e8600823875a",
   "metadata": {},
   "outputs": [
    {
     "data": {
      "text/plain": [
       "Index(['open_price', 'high_price', 'low_price', 'close_price', 'trade_volume',\n",
       "       'next_close_price', 'next_high_price', 'target', 'ema_50', 'ema_100',\n",
       "       'ema_200', 'delta_ema_50', 'delta_ema_100', 'delta_ema_200', 'rsi',\n",
       "       'macd_line', 'signal_line', 'macd_hist', 'stoch_k', 'stoch_d',\n",
       "       'rsi_lvl', 'macd_hist_prev', 'is_macd_crossing', 'stoch_hist',\n",
       "       'stoch_hist_prev', 'is_stoch_crossing'],\n",
       "      dtype='object')"
      ]
     },
     "execution_count": 133,
     "metadata": {},
     "output_type": "execute_result"
    }
   ],
   "source": [
    "sol_data.columns"
   ]
  },
  {
   "cell_type": "code",
   "execution_count": 134,
   "id": "34ddb294-bccc-45ee-943c-ced9a2a34919",
   "metadata": {},
   "outputs": [],
   "source": [
    "sol_data = sol_data.reindex(columns=['open_price', 'high_price', 'low_price', 'close_price', 'trade_volume','next_close_price', 'target',\n",
    "                                     'ema_50', 'ema_100', 'ema_200',\n",
    "                                     'delta_ema_50', 'delta_ema_100', 'delta_ema_200',\n",
    "                                     'rsi', 'rsi_lvl',\n",
    "                                     'macd_line','signal_line', 'macd_hist','macd_hist_prev', 'is_macd_crossing',\n",
    "                                     'stoch_k', 'stoch_d','stoch_hist', 'stoch_hist_prev','is_stoch_crossing'])"
   ]
  },
  {
   "cell_type": "markdown",
   "id": "00f7f6b4-03d7-45f2-a1de-f2543ab97f47",
   "metadata": {},
   "source": [
    "**Добавим еще 2 признака:**\n",
    "\n",
    "* Факт пересечения **медленной** линии стохастика уровня 80 вниз или уровня 20 вверх\n",
    "* Факт пересечения **быстрой** линии стохастика уровня 80 вниз или уровня 20 вверх"
   ]
  },
  {
   "cell_type": "code",
   "execution_count": 136,
   "id": "b5657c8d-383e-4a79-aa59-ebb36b4486f6",
   "metadata": {},
   "outputs": [],
   "source": [
    "sol_data['stoch_k_prev'] = sol_data['stoch_k'].shift(1)"
   ]
  },
  {
   "cell_type": "code",
   "execution_count": 137,
   "id": "5aa6fe72-341e-4add-9dfd-157f9525ab9f",
   "metadata": {},
   "outputs": [],
   "source": [
    "sol_data['stoch_d_prev'] = sol_data['stoch_d'].shift(1)"
   ]
  },
  {
   "cell_type": "code",
   "execution_count": 138,
   "id": "8d15120f-e501-47ad-80c0-f881ebe2597a",
   "metadata": {},
   "outputs": [],
   "source": [
    "def stoch_lvl(row, char):\n",
    "    if char == 'k':\n",
    "        if row['stoch_k_prev'] > 80 and row['stoch_k'] < 80:\n",
    "            return('падение под 80')\n",
    "        if row['stoch_k_prev'] < 20 and row['stoch_k'] > 20:\n",
    "            return('рост выше 20')\n",
    "        else:\n",
    "            return('сигнал отсутствует')\n",
    "    if char == 'd':\n",
    "        if row['stoch_d_prev'] > 80 and row['stoch_d'] < 80:\n",
    "            return('падение под 80')\n",
    "        if row['stoch_d_prev'] < 20 and row['stoch_d'] > 20:\n",
    "            return('рост выше 20')\n",
    "        else:\n",
    "            return('сигнал отсутствует')"
   ]
  },
  {
   "cell_type": "code",
   "execution_count": 139,
   "id": "56e47da5-7a5d-4911-b9d0-577e3bcb4d40",
   "metadata": {},
   "outputs": [],
   "source": [
    "sol_data['stoch_k_lvl'] = sol_data.apply(lambda row: stoch_lvl(row,'k'), axis=1)"
   ]
  },
  {
   "cell_type": "code",
   "execution_count": 140,
   "id": "9bffa0e3-4fce-4e10-8714-62112fd20b0b",
   "metadata": {},
   "outputs": [],
   "source": [
    "sol_data['stoch_d_lvl'] = sol_data.apply(lambda row: stoch_lvl(row,'d'), axis=1)"
   ]
  },
  {
   "cell_type": "code",
   "execution_count": 141,
   "id": "01b334f4-b4b3-4991-8267-a15c2e19279e",
   "metadata": {},
   "outputs": [
    {
     "data": {
      "text/html": [
       "<div>\n",
       "<style scoped>\n",
       "    .dataframe tbody tr th:only-of-type {\n",
       "        vertical-align: middle;\n",
       "    }\n",
       "\n",
       "    .dataframe tbody tr th {\n",
       "        vertical-align: top;\n",
       "    }\n",
       "\n",
       "    .dataframe thead th {\n",
       "        text-align: right;\n",
       "    }\n",
       "</style>\n",
       "<table border=\"1\" class=\"dataframe\">\n",
       "  <thead>\n",
       "    <tr style=\"text-align: right;\">\n",
       "      <th></th>\n",
       "      <th>open_price</th>\n",
       "      <th>high_price</th>\n",
       "      <th>low_price</th>\n",
       "      <th>close_price</th>\n",
       "      <th>trade_volume</th>\n",
       "      <th>next_close_price</th>\n",
       "      <th>target</th>\n",
       "      <th>ema_50</th>\n",
       "      <th>ema_100</th>\n",
       "      <th>ema_200</th>\n",
       "      <th>delta_ema_50</th>\n",
       "      <th>delta_ema_100</th>\n",
       "      <th>delta_ema_200</th>\n",
       "      <th>rsi</th>\n",
       "      <th>rsi_lvl</th>\n",
       "      <th>macd_line</th>\n",
       "      <th>signal_line</th>\n",
       "      <th>macd_hist</th>\n",
       "      <th>macd_hist_prev</th>\n",
       "      <th>is_macd_crossing</th>\n",
       "      <th>stoch_k</th>\n",
       "      <th>stoch_d</th>\n",
       "      <th>stoch_hist</th>\n",
       "      <th>stoch_hist_prev</th>\n",
       "      <th>is_stoch_crossing</th>\n",
       "      <th>stoch_k_prev</th>\n",
       "      <th>stoch_d_prev</th>\n",
       "      <th>stoch_k_lvl</th>\n",
       "      <th>stoch_d_lvl</th>\n",
       "    </tr>\n",
       "    <tr>\n",
       "      <th>date_time</th>\n",
       "      <th></th>\n",
       "      <th></th>\n",
       "      <th></th>\n",
       "      <th></th>\n",
       "      <th></th>\n",
       "      <th></th>\n",
       "      <th></th>\n",
       "      <th></th>\n",
       "      <th></th>\n",
       "      <th></th>\n",
       "      <th></th>\n",
       "      <th></th>\n",
       "      <th></th>\n",
       "      <th></th>\n",
       "      <th></th>\n",
       "      <th></th>\n",
       "      <th></th>\n",
       "      <th></th>\n",
       "      <th></th>\n",
       "      <th></th>\n",
       "      <th></th>\n",
       "      <th></th>\n",
       "      <th></th>\n",
       "      <th></th>\n",
       "      <th></th>\n",
       "      <th></th>\n",
       "      <th></th>\n",
       "      <th></th>\n",
       "      <th></th>\n",
       "    </tr>\n",
       "  </thead>\n",
       "  <tbody>\n",
       "    <tr>\n",
       "      <th>2024-01-01 16:35:00</th>\n",
       "      <td>105.924</td>\n",
       "      <td>105.941</td>\n",
       "      <td>105.382</td>\n",
       "      <td>105.466</td>\n",
       "      <td>20102.4</td>\n",
       "      <td>105.806</td>\n",
       "      <td>1</td>\n",
       "      <td>104.525660</td>\n",
       "      <td>103.956305</td>\n",
       "      <td>103.248935</td>\n",
       "      <td>0.940340</td>\n",
       "      <td>1.509695</td>\n",
       "      <td>2.217065</td>\n",
       "      <td>57.250350</td>\n",
       "      <td>средние значения</td>\n",
       "      <td>0.261742</td>\n",
       "      <td>0.239885</td>\n",
       "      <td>0.021857</td>\n",
       "      <td>NaN</td>\n",
       "      <td>пересечение отсутствует</td>\n",
       "      <td>59.250474</td>\n",
       "      <td>70.192916</td>\n",
       "      <td>-10.942441</td>\n",
       "      <td>NaN</td>\n",
       "      <td>пересечение отсутствует</td>\n",
       "      <td>NaN</td>\n",
       "      <td>NaN</td>\n",
       "      <td>сигнал отсутствует</td>\n",
       "      <td>сигнал отсутствует</td>\n",
       "    </tr>\n",
       "    <tr>\n",
       "      <th>2024-01-01 16:40:00</th>\n",
       "      <td>105.466</td>\n",
       "      <td>105.859</td>\n",
       "      <td>105.350</td>\n",
       "      <td>105.806</td>\n",
       "      <td>10822.2</td>\n",
       "      <td>105.724</td>\n",
       "      <td>0</td>\n",
       "      <td>104.575869</td>\n",
       "      <td>103.992933</td>\n",
       "      <td>103.274378</td>\n",
       "      <td>1.230131</td>\n",
       "      <td>1.813067</td>\n",
       "      <td>2.531622</td>\n",
       "      <td>61.038870</td>\n",
       "      <td>средние значения</td>\n",
       "      <td>0.271645</td>\n",
       "      <td>0.246237</td>\n",
       "      <td>0.025408</td>\n",
       "      <td>0.021857</td>\n",
       "      <td>пересечение отсутствует</td>\n",
       "      <td>75.379507</td>\n",
       "      <td>71.869070</td>\n",
       "      <td>3.510436</td>\n",
       "      <td>-10.942441</td>\n",
       "      <td>пересечение вверх</td>\n",
       "      <td>59.250474</td>\n",
       "      <td>70.192916</td>\n",
       "      <td>сигнал отсутствует</td>\n",
       "      <td>сигнал отсутствует</td>\n",
       "    </tr>\n",
       "    <tr>\n",
       "      <th>2024-01-01 16:45:00</th>\n",
       "      <td>105.806</td>\n",
       "      <td>105.833</td>\n",
       "      <td>105.619</td>\n",
       "      <td>105.724</td>\n",
       "      <td>13272.1</td>\n",
       "      <td>105.732</td>\n",
       "      <td>1</td>\n",
       "      <td>104.620894</td>\n",
       "      <td>104.027212</td>\n",
       "      <td>103.298753</td>\n",
       "      <td>1.103106</td>\n",
       "      <td>1.696788</td>\n",
       "      <td>2.425247</td>\n",
       "      <td>59.665524</td>\n",
       "      <td>средние значения</td>\n",
       "      <td>0.262673</td>\n",
       "      <td>0.249524</td>\n",
       "      <td>0.013149</td>\n",
       "      <td>0.025408</td>\n",
       "      <td>пересечение отсутствует</td>\n",
       "      <td>67.247956</td>\n",
       "      <td>67.292646</td>\n",
       "      <td>-0.044689</td>\n",
       "      <td>3.510436</td>\n",
       "      <td>пересечение вниз</td>\n",
       "      <td>75.379507</td>\n",
       "      <td>71.869070</td>\n",
       "      <td>сигнал отсутствует</td>\n",
       "      <td>сигнал отсутствует</td>\n",
       "    </tr>\n",
       "    <tr>\n",
       "      <th>2024-01-01 16:50:00</th>\n",
       "      <td>105.724</td>\n",
       "      <td>105.759</td>\n",
       "      <td>105.517</td>\n",
       "      <td>105.732</td>\n",
       "      <td>8156.6</td>\n",
       "      <td>105.445</td>\n",
       "      <td>0</td>\n",
       "      <td>104.664467</td>\n",
       "      <td>104.060970</td>\n",
       "      <td>103.322964</td>\n",
       "      <td>1.067533</td>\n",
       "      <td>1.671030</td>\n",
       "      <td>2.409036</td>\n",
       "      <td>59.760647</td>\n",
       "      <td>средние значения</td>\n",
       "      <td>0.250873</td>\n",
       "      <td>0.249794</td>\n",
       "      <td>0.001079</td>\n",
       "      <td>0.013149</td>\n",
       "      <td>пересечение отсутствует</td>\n",
       "      <td>67.683924</td>\n",
       "      <td>70.103796</td>\n",
       "      <td>-2.419872</td>\n",
       "      <td>-0.044689</td>\n",
       "      <td>пересечение отсутствует</td>\n",
       "      <td>67.247956</td>\n",
       "      <td>67.292646</td>\n",
       "      <td>сигнал отсутствует</td>\n",
       "      <td>сигнал отсутствует</td>\n",
       "    </tr>\n",
       "    <tr>\n",
       "      <th>2024-01-01 16:55:00</th>\n",
       "      <td>105.732</td>\n",
       "      <td>105.795</td>\n",
       "      <td>105.445</td>\n",
       "      <td>105.445</td>\n",
       "      <td>11218.1</td>\n",
       "      <td>104.756</td>\n",
       "      <td>0</td>\n",
       "      <td>104.695076</td>\n",
       "      <td>104.088376</td>\n",
       "      <td>103.344079</td>\n",
       "      <td>0.749924</td>\n",
       "      <td>1.356624</td>\n",
       "      <td>2.100921</td>\n",
       "      <td>54.770300</td>\n",
       "      <td>средние значения</td>\n",
       "      <td>0.204632</td>\n",
       "      <td>0.240762</td>\n",
       "      <td>-0.036129</td>\n",
       "      <td>0.001079</td>\n",
       "      <td>пересечение вниз</td>\n",
       "      <td>52.043597</td>\n",
       "      <td>62.325159</td>\n",
       "      <td>-10.281562</td>\n",
       "      <td>-2.419872</td>\n",
       "      <td>пересечение отсутствует</td>\n",
       "      <td>67.683924</td>\n",
       "      <td>70.103796</td>\n",
       "      <td>сигнал отсутствует</td>\n",
       "      <td>сигнал отсутствует</td>\n",
       "    </tr>\n",
       "  </tbody>\n",
       "</table>\n",
       "</div>"
      ],
      "text/plain": [
       "                     open_price  high_price  low_price  close_price  \\\n",
       "date_time                                                             \n",
       "2024-01-01 16:35:00     105.924     105.941    105.382      105.466   \n",
       "2024-01-01 16:40:00     105.466     105.859    105.350      105.806   \n",
       "2024-01-01 16:45:00     105.806     105.833    105.619      105.724   \n",
       "2024-01-01 16:50:00     105.724     105.759    105.517      105.732   \n",
       "2024-01-01 16:55:00     105.732     105.795    105.445      105.445   \n",
       "\n",
       "                     trade_volume  next_close_price  target      ema_50  \\\n",
       "date_time                                                                 \n",
       "2024-01-01 16:35:00       20102.4           105.806       1  104.525660   \n",
       "2024-01-01 16:40:00       10822.2           105.724       0  104.575869   \n",
       "2024-01-01 16:45:00       13272.1           105.732       1  104.620894   \n",
       "2024-01-01 16:50:00        8156.6           105.445       0  104.664467   \n",
       "2024-01-01 16:55:00       11218.1           104.756       0  104.695076   \n",
       "\n",
       "                        ema_100     ema_200  delta_ema_50  delta_ema_100  \\\n",
       "date_time                                                                  \n",
       "2024-01-01 16:35:00  103.956305  103.248935      0.940340       1.509695   \n",
       "2024-01-01 16:40:00  103.992933  103.274378      1.230131       1.813067   \n",
       "2024-01-01 16:45:00  104.027212  103.298753      1.103106       1.696788   \n",
       "2024-01-01 16:50:00  104.060970  103.322964      1.067533       1.671030   \n",
       "2024-01-01 16:55:00  104.088376  103.344079      0.749924       1.356624   \n",
       "\n",
       "                     delta_ema_200        rsi           rsi_lvl  macd_line  \\\n",
       "date_time                                                                    \n",
       "2024-01-01 16:35:00       2.217065  57.250350  средние значения   0.261742   \n",
       "2024-01-01 16:40:00       2.531622  61.038870  средние значения   0.271645   \n",
       "2024-01-01 16:45:00       2.425247  59.665524  средние значения   0.262673   \n",
       "2024-01-01 16:50:00       2.409036  59.760647  средние значения   0.250873   \n",
       "2024-01-01 16:55:00       2.100921  54.770300  средние значения   0.204632   \n",
       "\n",
       "                     signal_line  macd_hist  macd_hist_prev  \\\n",
       "date_time                                                     \n",
       "2024-01-01 16:35:00     0.239885   0.021857             NaN   \n",
       "2024-01-01 16:40:00     0.246237   0.025408        0.021857   \n",
       "2024-01-01 16:45:00     0.249524   0.013149        0.025408   \n",
       "2024-01-01 16:50:00     0.249794   0.001079        0.013149   \n",
       "2024-01-01 16:55:00     0.240762  -0.036129        0.001079   \n",
       "\n",
       "                            is_macd_crossing    stoch_k    stoch_d  \\\n",
       "date_time                                                            \n",
       "2024-01-01 16:35:00  пересечение отсутствует  59.250474  70.192916   \n",
       "2024-01-01 16:40:00  пересечение отсутствует  75.379507  71.869070   \n",
       "2024-01-01 16:45:00  пересечение отсутствует  67.247956  67.292646   \n",
       "2024-01-01 16:50:00  пересечение отсутствует  67.683924  70.103796   \n",
       "2024-01-01 16:55:00         пересечение вниз  52.043597  62.325159   \n",
       "\n",
       "                     stoch_hist  stoch_hist_prev        is_stoch_crossing  \\\n",
       "date_time                                                                   \n",
       "2024-01-01 16:35:00  -10.942441              NaN  пересечение отсутствует   \n",
       "2024-01-01 16:40:00    3.510436       -10.942441        пересечение вверх   \n",
       "2024-01-01 16:45:00   -0.044689         3.510436         пересечение вниз   \n",
       "2024-01-01 16:50:00   -2.419872        -0.044689  пересечение отсутствует   \n",
       "2024-01-01 16:55:00  -10.281562        -2.419872  пересечение отсутствует   \n",
       "\n",
       "                     stoch_k_prev  stoch_d_prev         stoch_k_lvl  \\\n",
       "date_time                                                             \n",
       "2024-01-01 16:35:00           NaN           NaN  сигнал отсутствует   \n",
       "2024-01-01 16:40:00     59.250474     70.192916  сигнал отсутствует   \n",
       "2024-01-01 16:45:00     75.379507     71.869070  сигнал отсутствует   \n",
       "2024-01-01 16:50:00     67.247956     67.292646  сигнал отсутствует   \n",
       "2024-01-01 16:55:00     67.683924     70.103796  сигнал отсутствует   \n",
       "\n",
       "                            stoch_d_lvl  \n",
       "date_time                                \n",
       "2024-01-01 16:35:00  сигнал отсутствует  \n",
       "2024-01-01 16:40:00  сигнал отсутствует  \n",
       "2024-01-01 16:45:00  сигнал отсутствует  \n",
       "2024-01-01 16:50:00  сигнал отсутствует  \n",
       "2024-01-01 16:55:00  сигнал отсутствует  "
      ]
     },
     "execution_count": 141,
     "metadata": {},
     "output_type": "execute_result"
    }
   ],
   "source": [
    "sol_data.head(5)"
   ]
  },
  {
   "cell_type": "markdown",
   "id": "5bf35671-8a8a-4f22-9e6f-b63e01a105e4",
   "metadata": {},
   "source": [
    "Из-за функции шифт выше, получились пропуски в новых столбцах в 0 строке датафрейма. Удалим ее чтобы не было пропусков."
   ]
  },
  {
   "cell_type": "code",
   "execution_count": 143,
   "id": "26821162-db9d-432b-842f-60194e55e5f8",
   "metadata": {},
   "outputs": [],
   "source": [
    "sol_data = sol_data.drop(sol_data.index[0])"
   ]
  },
  {
   "cell_type": "code",
   "execution_count": 144,
   "id": "a9f6ea82-e7ec-49dc-8988-a457720a0d90",
   "metadata": {},
   "outputs": [
    {
     "data": {
      "image/png": "[encoded data removed]",
      "text/plain": [
       "<Figure size 2000x500 with 3 Axes>"
      ]
     },
     "metadata": {},
     "output_type": "display_data"
    }
   ],
   "source": [
    "plt.figure(figsize=(20,5));\n",
    "\n",
    "plt.subplot(131);\n",
    "sn.histplot(data=sol_data[sol_data['stoch_k_lvl']=='рост выше 20'], x='target', hue='target', multiple='stack', alpha=0.9, stat='percent');\n",
    "plt.title('Направление движение цены при сигнале \\nстохастика K пересечение уровня 20 вверх');\n",
    "\n",
    "plt.subplot(132);\n",
    "sn.histplot(data=sol_data[sol_data['stoch_d_lvl']=='рост выше 20'], x='target', hue='target', multiple='stack', alpha=0.9, stat='percent');\n",
    "plt.title('Направление движение цены при сигнале \\nстохастика D пересечение уровня 20 вверх');\n",
    "\n",
    "plt.subplot(133);\n",
    "sn.histplot(data=sol_data[(sol_data['stoch_d_lvl']=='рост выше 20') & (sol_data['stoch_k_lvl']=='рост выше 20')], x='target', hue='target', multiple='stack', alpha=0.9, stat='percent');\n",
    "plt.title('Направление движение цены при синхронном сигнале \\nстохастика K and D пересечение уровня 20 вверх');"
   ]
  },
  {
   "cell_type": "markdown",
   "id": "281fcd71-cf14-462c-9ec6-056f52a5d924",
   "metadata": {},
   "source": [
    "**Опять сигналы стохастика также не дают никаких определенных сигналов**"
   ]
  },
  {
   "cell_type": "code",
   "execution_count": 146,
   "id": "aaea0d1b-5933-4ab2-8b2c-6d024975027a",
   "metadata": {},
   "outputs": [
    {
     "data": {
      "text/html": [
       "<div>\n",
       "<style scoped>\n",
       "    .dataframe tbody tr th:only-of-type {\n",
       "        vertical-align: middle;\n",
       "    }\n",
       "\n",
       "    .dataframe tbody tr th {\n",
       "        vertical-align: top;\n",
       "    }\n",
       "\n",
       "    .dataframe thead th {\n",
       "        text-align: right;\n",
       "    }\n",
       "</style>\n",
       "<table border=\"1\" class=\"dataframe\">\n",
       "  <thead>\n",
       "    <tr style=\"text-align: right;\">\n",
       "      <th></th>\n",
       "      <th>next_close_price</th>\n",
       "      <th>target</th>\n",
       "      <th>rsi</th>\n",
       "      <th>rsi_lvl</th>\n",
       "      <th>macd_line</th>\n",
       "      <th>signal_line</th>\n",
       "      <th>macd_hist</th>\n",
       "      <th>macd_hist_prev</th>\n",
       "      <th>is_macd_crossing</th>\n",
       "      <th>stoch_k</th>\n",
       "      <th>stoch_d</th>\n",
       "      <th>stoch_hist</th>\n",
       "      <th>stoch_hist_prev</th>\n",
       "      <th>is_stoch_crossing</th>\n",
       "      <th>stoch_k_prev</th>\n",
       "      <th>stoch_d_prev</th>\n",
       "      <th>stoch_k_lvl</th>\n",
       "      <th>stoch_d_lvl</th>\n",
       "    </tr>\n",
       "    <tr>\n",
       "      <th>date_time</th>\n",
       "      <th></th>\n",
       "      <th></th>\n",
       "      <th></th>\n",
       "      <th></th>\n",
       "      <th></th>\n",
       "      <th></th>\n",
       "      <th></th>\n",
       "      <th></th>\n",
       "      <th></th>\n",
       "      <th></th>\n",
       "      <th></th>\n",
       "      <th></th>\n",
       "      <th></th>\n",
       "      <th></th>\n",
       "      <th></th>\n",
       "      <th></th>\n",
       "      <th></th>\n",
       "      <th></th>\n",
       "    </tr>\n",
       "  </thead>\n",
       "  <tbody>\n",
       "    <tr>\n",
       "      <th>2024-07-22 03:15:00</th>\n",
       "      <td>183.54</td>\n",
       "      <td>0</td>\n",
       "      <td>49.880547</td>\n",
       "      <td>средние значения</td>\n",
       "      <td>0.048805</td>\n",
       "      <td>0.149939</td>\n",
       "      <td>-0.101134</td>\n",
       "      <td>-0.066095</td>\n",
       "      <td>пересечение отсутствует</td>\n",
       "      <td>14.084507</td>\n",
       "      <td>23.768910</td>\n",
       "      <td>-9.684403</td>\n",
       "      <td>-10.185185</td>\n",
       "      <td>пересечение отсутствует</td>\n",
       "      <td>27.777778</td>\n",
       "      <td>37.962963</td>\n",
       "      <td>сигнал отсутствует</td>\n",
       "      <td>сигнал отсутствует</td>\n",
       "    </tr>\n",
       "    <tr>\n",
       "      <th>2024-07-22 03:20:00</th>\n",
       "      <td>183.79</td>\n",
       "      <td>1</td>\n",
       "      <td>46.953770</td>\n",
       "      <td>средние значения</td>\n",
       "      <td>-0.017438</td>\n",
       "      <td>0.116463</td>\n",
       "      <td>-0.133902</td>\n",
       "      <td>-0.101134</td>\n",
       "      <td>пересечение отсутствует</td>\n",
       "      <td>12.269939</td>\n",
       "      <td>18.044074</td>\n",
       "      <td>-5.774136</td>\n",
       "      <td>-9.684403</td>\n",
       "      <td>пересечение отсутствует</td>\n",
       "      <td>14.084507</td>\n",
       "      <td>23.768910</td>\n",
       "      <td>сигнал отсутствует</td>\n",
       "      <td>сигнал отсутствует</td>\n",
       "    </tr>\n",
       "    <tr>\n",
       "      <th>2024-07-22 03:25:00</th>\n",
       "      <td>184.13</td>\n",
       "      <td>1</td>\n",
       "      <td>50.665009</td>\n",
       "      <td>средние значения</td>\n",
       "      <td>-0.035028</td>\n",
       "      <td>0.086165</td>\n",
       "      <td>-0.121193</td>\n",
       "      <td>-0.133902</td>\n",
       "      <td>пересечение отсутствует</td>\n",
       "      <td>27.607362</td>\n",
       "      <td>17.987269</td>\n",
       "      <td>9.620093</td>\n",
       "      <td>-5.774136</td>\n",
       "      <td>пересечение вверх</td>\n",
       "      <td>12.269939</td>\n",
       "      <td>18.044074</td>\n",
       "      <td>рост выше 20</td>\n",
       "      <td>сигнал отсутствует</td>\n",
       "    </tr>\n",
       "    <tr>\n",
       "      <th>2024-07-22 03:30:00</th>\n",
       "      <td>183.69</td>\n",
       "      <td>0</td>\n",
       "      <td>55.250406</td>\n",
       "      <td>средние значения</td>\n",
       "      <td>-0.008545</td>\n",
       "      <td>0.067223</td>\n",
       "      <td>-0.075768</td>\n",
       "      <td>-0.121193</td>\n",
       "      <td>пересечение отсутствует</td>\n",
       "      <td>48.466258</td>\n",
       "      <td>29.447853</td>\n",
       "      <td>19.018405</td>\n",
       "      <td>9.620093</td>\n",
       "      <td>пересечение отсутствует</td>\n",
       "      <td>27.607362</td>\n",
       "      <td>17.987269</td>\n",
       "      <td>сигнал отсутствует</td>\n",
       "      <td>рост выше 20</td>\n",
       "    </tr>\n",
       "    <tr>\n",
       "      <th>2024-07-22 03:35:00</th>\n",
       "      <td>183.60</td>\n",
       "      <td>0</td>\n",
       "      <td>48.914380</td>\n",
       "      <td>средние значения</td>\n",
       "      <td>-0.038915</td>\n",
       "      <td>0.045995</td>\n",
       "      <td>-0.084910</td>\n",
       "      <td>-0.075768</td>\n",
       "      <td>пересечение отсутствует</td>\n",
       "      <td>21.472393</td>\n",
       "      <td>32.515337</td>\n",
       "      <td>-11.042945</td>\n",
       "      <td>19.018405</td>\n",
       "      <td>пересечение вниз</td>\n",
       "      <td>48.466258</td>\n",
       "      <td>29.447853</td>\n",
       "      <td>сигнал отсутствует</td>\n",
       "      <td>сигнал отсутствует</td>\n",
       "    </tr>\n",
       "    <tr>\n",
       "      <th>2024-07-22 03:40:00</th>\n",
       "      <td>183.57</td>\n",
       "      <td>0</td>\n",
       "      <td>47.709183</td>\n",
       "      <td>средние значения</td>\n",
       "      <td>-0.068950</td>\n",
       "      <td>0.023006</td>\n",
       "      <td>-0.091956</td>\n",
       "      <td>-0.084910</td>\n",
       "      <td>пересечение отсутствует</td>\n",
       "      <td>15.950920</td>\n",
       "      <td>28.629857</td>\n",
       "      <td>-12.678937</td>\n",
       "      <td>-11.042945</td>\n",
       "      <td>пересечение отсутствует</td>\n",
       "      <td>21.472393</td>\n",
       "      <td>32.515337</td>\n",
       "      <td>сигнал отсутствует</td>\n",
       "      <td>сигнал отсутствует</td>\n",
       "    </tr>\n",
       "    <tr>\n",
       "      <th>2024-07-22 03:45:00</th>\n",
       "      <td>183.35</td>\n",
       "      <td>0</td>\n",
       "      <td>47.290908</td>\n",
       "      <td>средние значения</td>\n",
       "      <td>-0.091346</td>\n",
       "      <td>0.000136</td>\n",
       "      <td>-0.091482</td>\n",
       "      <td>-0.091956</td>\n",
       "      <td>пересечение отсутствует</td>\n",
       "      <td>14.110429</td>\n",
       "      <td>17.177914</td>\n",
       "      <td>-3.067485</td>\n",
       "      <td>-12.678937</td>\n",
       "      <td>пересечение отсутствует</td>\n",
       "      <td>15.950920</td>\n",
       "      <td>28.629857</td>\n",
       "      <td>сигнал отсутствует</td>\n",
       "      <td>сигнал отсутствует</td>\n",
       "    </tr>\n",
       "    <tr>\n",
       "      <th>2024-07-22 03:50:00</th>\n",
       "      <td>182.98</td>\n",
       "      <td>0</td>\n",
       "      <td>44.228593</td>\n",
       "      <td>средние значения</td>\n",
       "      <td>-0.129018</td>\n",
       "      <td>-0.025695</td>\n",
       "      <td>-0.103323</td>\n",
       "      <td>-0.091482</td>\n",
       "      <td>пересечение отсутствует</td>\n",
       "      <td>1.219512</td>\n",
       "      <td>10.426954</td>\n",
       "      <td>-9.207442</td>\n",
       "      <td>-3.067485</td>\n",
       "      <td>пересечение отсутствует</td>\n",
       "      <td>14.110429</td>\n",
       "      <td>17.177914</td>\n",
       "      <td>сигнал отсутствует</td>\n",
       "      <td>сигнал отсутствует</td>\n",
       "    </tr>\n",
       "    <tr>\n",
       "      <th>2024-07-22 03:55:00</th>\n",
       "      <td>182.67</td>\n",
       "      <td>0</td>\n",
       "      <td>39.585839</td>\n",
       "      <td>средние значения</td>\n",
       "      <td>-0.192989</td>\n",
       "      <td>-0.059154</td>\n",
       "      <td>-0.133835</td>\n",
       "      <td>-0.103323</td>\n",
       "      <td>пересечение отсутствует</td>\n",
       "      <td>10.762332</td>\n",
       "      <td>8.697424</td>\n",
       "      <td>2.064907</td>\n",
       "      <td>-9.207442</td>\n",
       "      <td>пересечение вверх</td>\n",
       "      <td>1.219512</td>\n",
       "      <td>10.426954</td>\n",
       "      <td>сигнал отсутствует</td>\n",
       "      <td>сигнал отсутствует</td>\n",
       "    </tr>\n",
       "    <tr>\n",
       "      <th>2024-07-22 04:00:00</th>\n",
       "      <td>182.85</td>\n",
       "      <td>1</td>\n",
       "      <td>36.160874</td>\n",
       "      <td>средние значения</td>\n",
       "      <td>-0.266895</td>\n",
       "      <td>-0.100702</td>\n",
       "      <td>-0.166193</td>\n",
       "      <td>-0.133835</td>\n",
       "      <td>пересечение отсутствует</td>\n",
       "      <td>4.564315</td>\n",
       "      <td>5.515386</td>\n",
       "      <td>-0.951071</td>\n",
       "      <td>2.064907</td>\n",
       "      <td>пересечение вниз</td>\n",
       "      <td>10.762332</td>\n",
       "      <td>8.697424</td>\n",
       "      <td>сигнал отсутствует</td>\n",
       "      <td>сигнал отсутствует</td>\n",
       "    </tr>\n",
       "    <tr>\n",
       "      <th>2024-07-22 04:05:00</th>\n",
       "      <td>182.61</td>\n",
       "      <td>0</td>\n",
       "      <td>39.437419</td>\n",
       "      <td>средние значения</td>\n",
       "      <td>-0.291400</td>\n",
       "      <td>-0.138842</td>\n",
       "      <td>-0.152559</td>\n",
       "      <td>-0.166193</td>\n",
       "      <td>пересечение отсутствует</td>\n",
       "      <td>18.461538</td>\n",
       "      <td>11.262729</td>\n",
       "      <td>7.198810</td>\n",
       "      <td>-0.951071</td>\n",
       "      <td>пересечение вверх</td>\n",
       "      <td>4.564315</td>\n",
       "      <td>5.515386</td>\n",
       "      <td>сигнал отсутствует</td>\n",
       "      <td>сигнал отсутствует</td>\n",
       "    </tr>\n",
       "    <tr>\n",
       "      <th>2024-07-22 04:10:00</th>\n",
       "      <td>182.51</td>\n",
       "      <td>0</td>\n",
       "      <td>36.730476</td>\n",
       "      <td>средние значения</td>\n",
       "      <td>-0.327814</td>\n",
       "      <td>-0.176636</td>\n",
       "      <td>-0.151178</td>\n",
       "      <td>-0.152559</td>\n",
       "      <td>пересечение отсутствует</td>\n",
       "      <td>9.230769</td>\n",
       "      <td>10.752208</td>\n",
       "      <td>-1.521438</td>\n",
       "      <td>7.198810</td>\n",
       "      <td>пересечение вниз</td>\n",
       "      <td>18.461538</td>\n",
       "      <td>11.262729</td>\n",
       "      <td>сигнал отсутствует</td>\n",
       "      <td>сигнал отсутствует</td>\n",
       "    </tr>\n",
       "    <tr>\n",
       "      <th>2024-07-22 04:15:00</th>\n",
       "      <td>182.83</td>\n",
       "      <td>1</td>\n",
       "      <td>35.632996</td>\n",
       "      <td>средние значения</td>\n",
       "      <td>-0.356006</td>\n",
       "      <td>-0.212510</td>\n",
       "      <td>-0.143496</td>\n",
       "      <td>-0.151178</td>\n",
       "      <td>пересечение отсутствует</td>\n",
       "      <td>14.468085</td>\n",
       "      <td>14.053464</td>\n",
       "      <td>0.414621</td>\n",
       "      <td>-1.521438</td>\n",
       "      <td>пересечение вверх</td>\n",
       "      <td>9.230769</td>\n",
       "      <td>10.752208</td>\n",
       "      <td>сигнал отсутствует</td>\n",
       "      <td>сигнал отсутствует</td>\n",
       "    </tr>\n",
       "    <tr>\n",
       "      <th>2024-07-22 04:20:00</th>\n",
       "      <td>182.85</td>\n",
       "      <td>1</td>\n",
       "      <td>41.642032</td>\n",
       "      <td>средние значения</td>\n",
       "      <td>-0.331151</td>\n",
       "      <td>-0.236238</td>\n",
       "      <td>-0.094912</td>\n",
       "      <td>-0.143496</td>\n",
       "      <td>пересечение отсутствует</td>\n",
       "      <td>29.464286</td>\n",
       "      <td>17.721047</td>\n",
       "      <td>11.743239</td>\n",
       "      <td>0.414621</td>\n",
       "      <td>пересечение отсутствует</td>\n",
       "      <td>14.468085</td>\n",
       "      <td>14.053464</td>\n",
       "      <td>рост выше 20</td>\n",
       "      <td>сигнал отсутствует</td>\n",
       "    </tr>\n",
       "  </tbody>\n",
       "</table>\n",
       "</div>"
      ],
      "text/plain": [
       "                     next_close_price  target        rsi           rsi_lvl  \\\n",
       "date_time                                                                    \n",
       "2024-07-22 03:15:00            183.54       0  49.880547  средние значения   \n",
       "2024-07-22 03:20:00            183.79       1  46.953770  средние значения   \n",
       "2024-07-22 03:25:00            184.13       1  50.665009  средние значения   \n",
       "2024-07-22 03:30:00            183.69       0  55.250406  средние значения   \n",
       "2024-07-22 03:35:00            183.60       0  48.914380  средние значения   \n",
       "2024-07-22 03:40:00            183.57       0  47.709183  средние значения   \n",
       "2024-07-22 03:45:00            183.35       0  47.290908  средние значения   \n",
       "2024-07-22 03:50:00            182.98       0  44.228593  средние значения   \n",
       "2024-07-22 03:55:00            182.67       0  39.585839  средние значения   \n",
       "2024-07-22 04:00:00            182.85       1  36.160874  средние значения   \n",
       "2024-07-22 04:05:00            182.61       0  39.437419  средние значения   \n",
       "2024-07-22 04:10:00            182.51       0  36.730476  средние значения   \n",
       "2024-07-22 04:15:00            182.83       1  35.632996  средние значения   \n",
       "2024-07-22 04:20:00            182.85       1  41.642032  средние значения   \n",
       "\n",
       "                     macd_line  signal_line  macd_hist  macd_hist_prev  \\\n",
       "date_time                                                                \n",
       "2024-07-22 03:15:00   0.048805     0.149939  -0.101134       -0.066095   \n",
       "2024-07-22 03:20:00  -0.017438     0.116463  -0.133902       -0.101134   \n",
       "2024-07-22 03:25:00  -0.035028     0.086165  -0.121193       -0.133902   \n",
       "2024-07-22 03:30:00  -0.008545     0.067223  -0.075768       -0.121193   \n",
       "2024-07-22 03:35:00  -0.038915     0.045995  -0.084910       -0.075768   \n",
       "2024-07-22 03:40:00  -0.068950     0.023006  -0.091956       -0.084910   \n",
       "2024-07-22 03:45:00  -0.091346     0.000136  -0.091482       -0.091956   \n",
       "2024-07-22 03:50:00  -0.129018    -0.025695  -0.103323       -0.091482   \n",
       "2024-07-22 03:55:00  -0.192989    -0.059154  -0.133835       -0.103323   \n",
       "2024-07-22 04:00:00  -0.266895    -0.100702  -0.166193       -0.133835   \n",
       "2024-07-22 04:05:00  -0.291400    -0.138842  -0.152559       -0.166193   \n",
       "2024-07-22 04:10:00  -0.327814    -0.176636  -0.151178       -0.152559   \n",
       "2024-07-22 04:15:00  -0.356006    -0.212510  -0.143496       -0.151178   \n",
       "2024-07-22 04:20:00  -0.331151    -0.236238  -0.094912       -0.143496   \n",
       "\n",
       "                            is_macd_crossing    stoch_k    stoch_d  \\\n",
       "date_time                                                            \n",
       "2024-07-22 03:15:00  пересечение отсутствует  14.084507  23.768910   \n",
       "2024-07-22 03:20:00  пересечение отсутствует  12.269939  18.044074   \n",
       "2024-07-22 03:25:00  пересечение отсутствует  27.607362  17.987269   \n",
       "2024-07-22 03:30:00  пересечение отсутствует  48.466258  29.447853   \n",
       "2024-07-22 03:35:00  пересечение отсутствует  21.472393  32.515337   \n",
       "2024-07-22 03:40:00  пересечение отсутствует  15.950920  28.629857   \n",
       "2024-07-22 03:45:00  пересечение отсутствует  14.110429  17.177914   \n",
       "2024-07-22 03:50:00  пересечение отсутствует   1.219512  10.426954   \n",
       "2024-07-22 03:55:00  пересечение отсутствует  10.762332   8.697424   \n",
       "2024-07-22 04:00:00  пересечение отсутствует   4.564315   5.515386   \n",
       "2024-07-22 04:05:00  пересечение отсутствует  18.461538  11.262729   \n",
       "2024-07-22 04:10:00  пересечение отсутствует   9.230769  10.752208   \n",
       "2024-07-22 04:15:00  пересечение отсутствует  14.468085  14.053464   \n",
       "2024-07-22 04:20:00  пересечение отсутствует  29.464286  17.721047   \n",
       "\n",
       "                     stoch_hist  stoch_hist_prev        is_stoch_crossing  \\\n",
       "date_time                                                                   \n",
       "2024-07-22 03:15:00   -9.684403       -10.185185  пересечение отсутствует   \n",
       "2024-07-22 03:20:00   -5.774136        -9.684403  пересечение отсутствует   \n",
       "2024-07-22 03:25:00    9.620093        -5.774136        пересечение вверх   \n",
       "2024-07-22 03:30:00   19.018405         9.620093  пересечение отсутствует   \n",
       "2024-07-22 03:35:00  -11.042945        19.018405         пересечение вниз   \n",
       "2024-07-22 03:40:00  -12.678937       -11.042945  пересечение отсутствует   \n",
       "2024-07-22 03:45:00   -3.067485       -12.678937  пересечение отсутствует   \n",
       "2024-07-22 03:50:00   -9.207442        -3.067485  пересечение отсутствует   \n",
       "2024-07-22 03:55:00    2.064907        -9.207442        пересечение вверх   \n",
       "2024-07-22 04:00:00   -0.951071         2.064907         пересечение вниз   \n",
       "2024-07-22 04:05:00    7.198810        -0.951071        пересечение вверх   \n",
       "2024-07-22 04:10:00   -1.521438         7.198810         пересечение вниз   \n",
       "2024-07-22 04:15:00    0.414621        -1.521438        пересечение вверх   \n",
       "2024-07-22 04:20:00   11.743239         0.414621  пересечение отсутствует   \n",
       "\n",
       "                     stoch_k_prev  stoch_d_prev         stoch_k_lvl  \\\n",
       "date_time                                                             \n",
       "2024-07-22 03:15:00     27.777778     37.962963  сигнал отсутствует   \n",
       "2024-07-22 03:20:00     14.084507     23.768910  сигнал отсутствует   \n",
       "2024-07-22 03:25:00     12.269939     18.044074        рост выше 20   \n",
       "2024-07-22 03:30:00     27.607362     17.987269  сигнал отсутствует   \n",
       "2024-07-22 03:35:00     48.466258     29.447853  сигнал отсутствует   \n",
       "2024-07-22 03:40:00     21.472393     32.515337  сигнал отсутствует   \n",
       "2024-07-22 03:45:00     15.950920     28.629857  сигнал отсутствует   \n",
       "2024-07-22 03:50:00     14.110429     17.177914  сигнал отсутствует   \n",
       "2024-07-22 03:55:00      1.219512     10.426954  сигнал отсутствует   \n",
       "2024-07-22 04:00:00     10.762332      8.697424  сигнал отсутствует   \n",
       "2024-07-22 04:05:00      4.564315      5.515386  сигнал отсутствует   \n",
       "2024-07-22 04:10:00     18.461538     11.262729  сигнал отсутствует   \n",
       "2024-07-22 04:15:00      9.230769     10.752208  сигнал отсутствует   \n",
       "2024-07-22 04:20:00     14.468085     14.053464        рост выше 20   \n",
       "\n",
       "                            stoch_d_lvl  \n",
       "date_time                                \n",
       "2024-07-22 03:15:00  сигнал отсутствует  \n",
       "2024-07-22 03:20:00  сигнал отсутствует  \n",
       "2024-07-22 03:25:00  сигнал отсутствует  \n",
       "2024-07-22 03:30:00        рост выше 20  \n",
       "2024-07-22 03:35:00  сигнал отсутствует  \n",
       "2024-07-22 03:40:00  сигнал отсутствует  \n",
       "2024-07-22 03:45:00  сигнал отсутствует  \n",
       "2024-07-22 03:50:00  сигнал отсутствует  \n",
       "2024-07-22 03:55:00  сигнал отсутствует  \n",
       "2024-07-22 04:00:00  сигнал отсутствует  \n",
       "2024-07-22 04:05:00  сигнал отсутствует  \n",
       "2024-07-22 04:10:00  сигнал отсутствует  \n",
       "2024-07-22 04:15:00  сигнал отсутствует  \n",
       "2024-07-22 04:20:00  сигнал отсутствует  "
      ]
     },
     "execution_count": 146,
     "metadata": {},
     "output_type": "execute_result"
    }
   ],
   "source": [
    "sol_data.drop(['open_price','high_price','low_price','close_price','trade_volume','ema_50','ema_100','ema_200','delta_ema_50','delta_ema_100','delta_ema_200'],axis=1).tail(14)"
   ]
  },
  {
   "cell_type": "code",
   "execution_count": 147,
   "id": "a82c6abf-3da3-4fb3-8a7a-4cac2d66713d",
   "metadata": {},
   "outputs": [],
   "source": [
    "sol_data.to_csv('H:\\sol_data.csv', index=True)"
   ]
  },
  {
   "cell_type": "markdown",
   "id": "2d5a118c-e2f6-4f59-81c2-932b791354e3",
   "metadata": {},
   "source": [
    "**------------------------------------------**"
   ]
  },
  {
   "cell_type": "markdown",
   "id": "e44ed87e-8a4c-4178-957c-b9ea19a321fe",
   "metadata": {},
   "source": [
    "**------------------------------------------**"
   ]
  },
  {
   "cell_type": "markdown",
   "id": "807bf69a-759a-45dd-83be-6e5d64823964",
   "metadata": {},
   "source": [
    "## Подготовка данных для ML"
   ]
  },
  {
   "cell_type": "markdown",
   "id": "ddaf4fe6-f8c5-4105-86d2-ed67ea170007",
   "metadata": {},
   "source": [
    "**Изучим корреляцию**"
   ]
  },
  {
   "cell_type": "code",
   "execution_count": 177,
   "id": "344c4013-ec95-4354-90da-86dbbb8ef481",
   "metadata": {},
   "outputs": [],
   "source": [
    "phik_col = sol_data.drop(['open_price','high_price','low_price','close_price','trade_volume', 'next_close_price'], axis=1)"
   ]
  },
  {
   "cell_type": "code",
   "execution_count": 179,
   "id": "b389dc98-4d0f-49c1-8a9a-eaad6491b5b0",
   "metadata": {},
   "outputs": [],
   "source": [
    "phik_col_interval = phik_col.select_dtypes(include=['number']).columns"
   ]
  },
  {
   "cell_type": "code",
   "execution_count": 181,
   "id": "dc82aefa-9a69-4e58-a0b5-6bf432655fe2",
   "metadata": {},
   "outputs": [
    {
     "data": {
      "text/plain": [
       "Index(['target', 'ema_50', 'ema_100', 'ema_200', 'delta_ema_50',\n",
       "       'delta_ema_100', 'delta_ema_200', 'rsi', 'macd_line', 'signal_line',\n",
       "       'macd_hist', 'macd_hist_prev', 'stoch_k', 'stoch_d', 'stoch_hist',\n",
       "       'stoch_hist_prev', 'stoch_k_prev', 'stoch_d_prev'],\n",
       "      dtype='object')"
      ]
     },
     "execution_count": 181,
     "metadata": {},
     "output_type": "execute_result"
    }
   ],
   "source": [
    "phik_col_interval"
   ]
  },
  {
   "cell_type": "code",
   "execution_count": 183,
   "id": "66bd2281-ce06-49b7-a024-aaf28e2b2ef6",
   "metadata": {},
   "outputs": [
    {
     "data": {
      "image/png": "[encoded data removed]",
      "text/plain": [
       "<Figure size 1600x1600 with 2 Axes>"
      ]
     },
     "metadata": {},
     "output_type": "display_data"
    }
   ],
   "source": [
    "plt.subplots(figsize=(16, 16));\n",
    "sn.heatmap(phik_col.phik_matrix(interval_cols=phik_col_interval),\n",
    "           annot=True,\n",
    "           annot_kws={\"size\": 10},\n",
    "           fmt='.2f',\n",
    "           cmap='coolwarm');"
   ]
  },
  {
   "cell_type": "markdown",
   "id": "db2a1880-e690-429a-8d6e-8731d0353718",
   "metadata": {},
   "source": [
    "**Наблюдаем высочайшую (что не удивительно) мультиколинеарность между всеми признаками вида ema_ и delta_ema_, для обучения моделей уберем их из обучающего датасета**\n",
    "\n",
    "\n",
    "**Спойлер:** обучение проводилось и с полным сетом и с очищенным от мультиколинеарности, логическая регерессия чуть-чуть подтянулась, а бустовые модели показали теже результаты"
   ]
  },
  {
   "cell_type": "code",
   "execution_count": null,
   "id": "dc30a6c2-6e54-47fc-948b-b933157552a2",
   "metadata": {},
   "outputs": [],
   "source": [
    "sol_data.isna().sum()"
   ]
  },
  {
   "cell_type": "markdown",
   "id": "bcce2248-be6c-4a47-851a-3fcca2ded543",
   "metadata": {},
   "source": [
    "В датасете появились пропуски связанные с тем, что для некоторых столбоцов перед появлением в них первой информации, требовался сбор с N-го количества предшествующих строк. Для того чтобы в данных не было пропусков, мы просто удалим первые 200 строк, что уберет все пропуски, и не потребуется заполнять их недействительными данными."
   ]
  },
  {
   "cell_type": "code",
   "execution_count": null,
   "id": "dedb7681-1bf5-4106-862b-3537fd20f865",
   "metadata": {},
   "outputs": [],
   "source": [
    "sol_data = sol_data.drop(sol_data.index[:200])"
   ]
  },
  {
   "cell_type": "code",
   "execution_count": null,
   "id": "5c345915-12a8-4b36-a797-9d7e32fcf079",
   "metadata": {},
   "outputs": [],
   "source": [
    "sol_data.isna().sum()"
   ]
  },
  {
   "cell_type": "markdown",
   "id": "db6385c7-95ec-42f9-8fb5-1987c0773929",
   "metadata": {},
   "source": [
    "### Выбор признаков участвующих в модели"
   ]
  },
  {
   "cell_type": "code",
   "execution_count": null,
   "id": "50cd2976-bcf4-47f4-b45a-3adeb814c935",
   "metadata": {},
   "outputs": [],
   "source": [
    "sol_data.columns"
   ]
  },
  {
   "cell_type": "code",
   "execution_count": null,
   "id": "f53503a2-a10c-4cae-98e2-e8e4751fcf64",
   "metadata": {},
   "outputs": [],
   "source": [
    "model_columns = ['target','rsi','signal_line', 'macd_hist', 'stoch_rsi_k', 'stoch_rsi_d','macd_line']"
   ]
  },
  {
   "cell_type": "code",
   "execution_count": null,
   "id": "db47cfdb-12f6-491b-adde-d15ba41e3225",
   "metadata": {},
   "outputs": [],
   "source": [
    "plt.subplots(figsize=(6, 6));\n",
    "sn.heatmap(sol_data[model_columns].drop('target', axis=1).phik_matrix(interval_cols=sol_data[model_columns].drop('target', axis=1)),\n",
    "           annot=True,\n",
    "           annot_kws={\"size\": 13},\n",
    "           fmt='.2f',\n",
    "           cmap='coolwarm');"
   ]
  },
  {
   "cell_type": "code",
   "execution_count": null,
   "id": "d9c3839c-da38-4e91-ae39-007fd8cd6bf0",
   "metadata": {},
   "outputs": [],
   "source": [
    "train, test = train_test_split(sol_data[model_columns], shuffle=False, test_size=0.1)"
   ]
  },
  {
   "cell_type": "code",
   "execution_count": null,
   "id": "66e0bdd7-6e6a-4f02-ad37-357cf3337806",
   "metadata": {},
   "outputs": [],
   "source": [
    "X_train = train.drop('target', axis=1)"
   ]
  },
  {
   "cell_type": "code",
   "execution_count": null,
   "id": "1098dac2-6ba1-4743-8a49-b0bbd196a562",
   "metadata": {},
   "outputs": [],
   "source": [
    "y_train = train['target']"
   ]
  },
  {
   "cell_type": "code",
   "execution_count": null,
   "id": "d284db87-0a17-4d4f-a116-3647586fc04b",
   "metadata": {},
   "outputs": [],
   "source": [
    "X_test = test.drop('target', axis=1)"
   ]
  },
  {
   "cell_type": "code",
   "execution_count": null,
   "id": "bd6f3627-a94b-4125-91db-6733548b0ae0",
   "metadata": {},
   "outputs": [],
   "source": [
    "y_test = test['target']"
   ]
  },
  {
   "cell_type": "code",
   "execution_count": null,
   "id": "6d606b3c-dc86-4881-9190-ac69ed66f57c",
   "metadata": {},
   "outputs": [],
   "source": [
    "tscv = TimeSeriesSplit(n_splits=2)"
   ]
  },
  {
   "cell_type": "code",
   "execution_count": null,
   "id": "9b8f3531-ff1e-4b93-bde4-75f115392270",
   "metadata": {},
   "outputs": [],
   "source": [
    "*stop"
   ]
  },
  {
   "cell_type": "markdown",
   "id": "cae32559-e7e5-495f-92c4-4e4aec41914a",
   "metadata": {},
   "source": [
    "## Обучение моделей"
   ]
  },
  {
   "cell_type": "markdown",
   "id": "f2851c06-2714-424c-a037-0cb3197cced7",
   "metadata": {},
   "source": [
    "### LogisticRegression"
   ]
  },
  {
   "cell_type": "code",
   "execution_count": null,
   "id": "f2f2de99-b02f-4414-9be6-8042de9d23b2",
   "metadata": {},
   "outputs": [],
   "source": [
    "num_columns = X_train.select_dtypes(include=['number']).columns"
   ]
  },
  {
   "cell_type": "code",
   "execution_count": null,
   "id": "992dbb8d-003a-41a3-b627-31a9bf6875f6",
   "metadata": {},
   "outputs": [],
   "source": [
    "ohe_columns = X_train.select_dtypes(exclude=['number']).columns"
   ]
  },
  {
   "cell_type": "code",
   "execution_count": null,
   "id": "f62e7152-4244-4222-94a4-0f7bf3507f2c",
   "metadata": {},
   "outputs": [],
   "source": [
    "num_columns"
   ]
  },
  {
   "cell_type": "code",
   "execution_count": null,
   "id": "a2b1e032-76a1-487b-9bf6-a3b8318591a6",
   "metadata": {},
   "outputs": [],
   "source": [
    "ohe_columns"
   ]
  },
  {
   "cell_type": "code",
   "execution_count": null,
   "id": "26c698cc-81c3-4a4c-b647-c6017dd81695",
   "metadata": {},
   "outputs": [],
   "source": [
    "ohe_pipe = Pipeline(\n",
    "    [\n",
    "        (\n",
    "            'ohe', OneHotEncoder(handle_unknown='ignore', drop='first')\n",
    "        )\n",
    "    ]\n",
    ")"
   ]
  },
  {
   "cell_type": "code",
   "execution_count": null,
   "id": "6a9237dd-f2ab-4432-a2d6-db4ed3b0a486",
   "metadata": {},
   "outputs": [],
   "source": [
    "data_preprocessor = ColumnTransformer(\n",
    "    [\n",
    "        ('ohe', ohe_pipe, ohe_columns),\n",
    "        ('num', StandardScaler(), num_columns)\n",
    "    ],\n",
    "    remainder='passthrough'\n",
    ")"
   ]
  },
  {
   "cell_type": "code",
   "execution_count": null,
   "id": "fa82a3eb-cc01-4047-be72-2ff9fe59f7ce",
   "metadata": {},
   "outputs": [],
   "source": [
    "pipe_final = Pipeline(\n",
    "    [\n",
    "        ('preprocessor', data_preprocessor),\n",
    "        ('models', None)\n",
    "    ]\n",
    ") "
   ]
  },
  {
   "cell_type": "code",
   "execution_count": null,
   "id": "284328d1-f7ee-4f18-8311-3a1a519e3f24",
   "metadata": {},
   "outputs": [],
   "source": [
    "param_grid = [\n",
    "    {\n",
    "        'models': [LogisticRegression()],\n",
    "        'preprocessor__num': [StandardScaler(), MinMaxScaler(), 'passthrough']\n",
    "    }\n",
    "]"
   ]
  },
  {
   "cell_type": "code",
   "execution_count": null,
   "id": "bfce555b-7e19-4532-9ecf-0b42d2cdfd41",
   "metadata": {},
   "outputs": [],
   "source": [
    "lr_gs = GridSearchCV(\n",
    "    pipe_final, \n",
    "    param_grid,\n",
    "    cv=tscv,\n",
    "    scoring = 'accuracy',\n",
    "    n_jobs=-1,\n",
    "    verbose=2\n",
    ")"
   ]
  },
  {
   "cell_type": "code",
   "execution_count": null,
   "id": "687f76c4-0cb2-4b0a-99b8-5f2cd5364f51",
   "metadata": {},
   "outputs": [],
   "source": [
    "lr_gs.fit(X_train, y_train)"
   ]
  },
  {
   "cell_type": "code",
   "execution_count": null,
   "id": "927dab1b-c014-4693-a6cf-8510fecd8f90",
   "metadata": {},
   "outputs": [],
   "source": [
    "lr_score = lr_gs.best_score_"
   ]
  },
  {
   "cell_type": "code",
   "execution_count": null,
   "id": "808ac97b-318e-4988-8089-0849e25a1d1a",
   "metadata": {},
   "outputs": [],
   "source": [
    "print ('Метрика лучшей модели на кроссвалидации:', lr_score)"
   ]
  },
  {
   "cell_type": "code",
   "execution_count": null,
   "id": "411aab87-1d2d-4b39-aa2d-80473ac5438a",
   "metadata": {},
   "outputs": [],
   "source": [
    "lr_prediction = lr_gs.best_estimator_.predict(X_test)"
   ]
  },
  {
   "cell_type": "code",
   "execution_count": null,
   "id": "79a01f7f-5d58-4e31-a78e-d92e99e2258c",
   "metadata": {},
   "outputs": [],
   "source": [
    "lr_accuracy = accuracy_score(y_test, lr_prediction)"
   ]
  },
  {
   "cell_type": "code",
   "execution_count": null,
   "id": "597e0513-8432-40f7-ac83-0bba97c6a81e",
   "metadata": {},
   "outputs": [],
   "source": [
    "ConfusionMatrixDisplay.from_estimator(lr_gs.best_estimator_, X_test, y_test);"
   ]
  },
  {
   "cell_type": "code",
   "execution_count": null,
   "id": "5e350f79-2d7b-42b4-bdf3-c91f851a1df3",
   "metadata": {},
   "outputs": [],
   "source": [
    "print(\"Accuracy Score:\", lr_accuracy)"
   ]
  },
  {
   "cell_type": "markdown",
   "id": "8d3c119a-b877-4a29-a0ae-e811db068dfe",
   "metadata": {},
   "source": [
    "### Catboost"
   ]
  },
  {
   "cell_type": "code",
   "execution_count": null,
   "id": "617d0e6a-ce61-4023-a092-244e943b46c5",
   "metadata": {},
   "outputs": [],
   "source": [
    "model = CatBoostClassifier(max_depth=4, random_state=RANDOM_STATE, verbose=False)"
   ]
  },
  {
   "cell_type": "code",
   "execution_count": null,
   "id": "997b6794-6bf1-46b7-85cb-35b07d508235",
   "metadata": {},
   "outputs": [],
   "source": [
    "param_grid_cat = [\n",
    "\n",
    "    {\n",
    "        'learning_rate':[0.1, 0.3]\n",
    "    }\n",
    "]"
   ]
  },
  {
   "cell_type": "code",
   "execution_count": null,
   "id": "fbc279c0-efa3-40e3-9a9d-cb2fb58abe17",
   "metadata": {},
   "outputs": [],
   "source": [
    "catboost_gs = GridSearchCV(\n",
    "    model, \n",
    "    param_grid_cat,\n",
    "    cv=tscv,\n",
    "    scoring = 'accuracy',  \n",
    "    n_jobs=-1,\n",
    "    verbose=2\n",
    ")"
   ]
  },
  {
   "cell_type": "code",
   "execution_count": null,
   "id": "dc00173b-578f-4ac1-84a4-d0385e44f5a2",
   "metadata": {},
   "outputs": [],
   "source": [
    "catboost_gs.fit(X_train, y_train)"
   ]
  },
  {
   "cell_type": "code",
   "execution_count": null,
   "id": "862ade4c-d7bd-4d3c-a2c5-349de2c70e90",
   "metadata": {},
   "outputs": [],
   "source": [
    "catboost_score = round((catboost_gs.best_score_), 4)"
   ]
  },
  {
   "cell_type": "code",
   "execution_count": null,
   "id": "b6b16275-eba5-47a1-8141-16e84407bcc6",
   "metadata": {},
   "outputs": [],
   "source": [
    "print(f'Метрика на кросс-валидационной выборке: {catboost_score}')"
   ]
  },
  {
   "cell_type": "code",
   "execution_count": null,
   "id": "e4049b5f-9f9b-4fd1-bf7e-87d959f20c02",
   "metadata": {},
   "outputs": [],
   "source": [
    "catboost_prediction = catboost_gs.best_estimator_.predict(X_test)"
   ]
  },
  {
   "cell_type": "code",
   "execution_count": null,
   "id": "005c70dc-5783-4fed-b25c-d0c93a19d9d1",
   "metadata": {},
   "outputs": [],
   "source": [
    "catboost_accuracy = accuracy_score(y_test, catboost_prediction)"
   ]
  },
  {
   "cell_type": "code",
   "execution_count": null,
   "id": "6d113872-d4ab-4f27-8a25-0e4dc0cb764f",
   "metadata": {},
   "outputs": [],
   "source": [
    "print(\"Accuracy Score:\", catboost_accuracy)"
   ]
  },
  {
   "cell_type": "code",
   "execution_count": null,
   "id": "930c5c50-4044-44c4-8f88-ae917eeb5a1f",
   "metadata": {},
   "outputs": [],
   "source": [
    "ConfusionMatrixDisplay.from_estimator(catboost_gs.best_estimator_, X_test, y_test);"
   ]
  },
  {
   "cell_type": "markdown",
   "id": "befe3560-b881-468a-a8ba-80ede27a357e",
   "metadata": {},
   "source": [
    "### LGB"
   ]
  },
  {
   "cell_type": "code",
   "execution_count": null,
   "id": "65424203-15a7-4196-9a41-61c50cb6c7a5",
   "metadata": {},
   "outputs": [],
   "source": [
    "model_lgb = lgb.LGBMClassifier(random_state=RANDOM_STATE,  force_col_wise=True)"
   ]
  },
  {
   "cell_type": "code",
   "execution_count": null,
   "id": "adadcc7c-7d27-4202-88d7-035f90d97f1f",
   "metadata": {},
   "outputs": [],
   "source": [
    "param_grid_gbm = {\n",
    " 'learning_rate': [0.1, 0.05],\n",
    " 'n_estimators': [150 ,100],\n",
    " 'max_depth': [5,7],\n",
    " 'num_leaves':[3,5,7]\n",
    "}"
   ]
  },
  {
   "cell_type": "code",
   "execution_count": null,
   "id": "1c5ba0a8-803f-4da4-97fb-8db93ddc9e38",
   "metadata": {},
   "outputs": [],
   "source": [
    "lgbm_gs = GridSearchCV(model_lgb, param_grid_gbm, cv=tscv, scoring='accuracy', n_jobs=-1, verbose=2)"
   ]
  },
  {
   "cell_type": "code",
   "execution_count": null,
   "id": "6ab4468d-9397-4430-bf8e-1bdea7a41bf7",
   "metadata": {},
   "outputs": [],
   "source": [
    "lgbm_gs.fit(X_train, y_train)"
   ]
  },
  {
   "cell_type": "code",
   "execution_count": null,
   "id": "2601e4f6-cb51-417d-b85b-7a132ca62c51",
   "metadata": {},
   "outputs": [],
   "source": [
    "lgbm_score = round((lgbm_gs.best_score_),4)"
   ]
  },
  {
   "cell_type": "code",
   "execution_count": null,
   "id": "4d9e82f0-9783-4d45-bcc2-6d74b7c48d2e",
   "metadata": {},
   "outputs": [],
   "source": [
    "print(f'Метрика accuracy_score для лучшей модели c градиентным бустингом на кроссвалидации равна {lgbm_score}')"
   ]
  },
  {
   "cell_type": "code",
   "execution_count": null,
   "id": "e22d4ec9-f986-4f70-b6e7-ddada154b08e",
   "metadata": {},
   "outputs": [],
   "source": [
    "lgbm_prediction = lgbm_gs.best_estimator_.predict(X_test)"
   ]
  },
  {
   "cell_type": "code",
   "execution_count": null,
   "id": "20a3332c-003a-409c-aeae-b6f764ca6712",
   "metadata": {},
   "outputs": [],
   "source": [
    "lgbm_accuracy = accuracy_score(y_test, lgbm_prediction)"
   ]
  },
  {
   "cell_type": "code",
   "execution_count": null,
   "id": "b06bf5db-152c-4a4d-bc27-dd8ea5684bf4",
   "metadata": {},
   "outputs": [],
   "source": [
    "print(\"Accuracy Score:\", lgbm_accuracy)"
   ]
  },
  {
   "cell_type": "code",
   "execution_count": null,
   "id": "4bf09169-54d2-42eb-8275-3acb8527c841",
   "metadata": {},
   "outputs": [],
   "source": [
    "ConfusionMatrixDisplay.from_estimator(lgbm_gs.best_estimator_, X_test, y_test);"
   ]
  },
  {
   "cell_type": "markdown",
   "id": "f5f87a72-91f3-4c8d-801e-ed82967b9144",
   "metadata": {},
   "source": [
    "## Оценка и анализ результатов моделей"
   ]
  },
  {
   "cell_type": "markdown",
   "id": "78a21d2a-b736-4bf0-99b2-ae80bfe72602",
   "metadata": {},
   "source": [
    "### Суммирование оценок моделей"
   ]
  },
  {
   "cell_type": "code",
   "execution_count": null,
   "id": "99e7d92e-30c5-4a1b-9ebc-4d3ca807362c",
   "metadata": {},
   "outputs": [],
   "source": [
    "cross_val_scores = lr_score, catboost_score, lgbm_score\n",
    "test_scores = lr_accuracy, catboost_accuracy, lgbm_accuracy"
   ]
  },
  {
   "cell_type": "code",
   "execution_count": null,
   "id": "53697970-972e-4d6e-a1e4-a106b2145387",
   "metadata": {},
   "outputs": [],
   "source": [
    "models = ['Logistic_regression','Catboost','LGBM']"
   ]
  },
  {
   "cell_type": "code",
   "execution_count": null,
   "id": "42288869-8a9a-4dab-abac-80ca57295b83",
   "metadata": {},
   "outputs": [],
   "source": [
    "results_df = pd.DataFrame({\n",
    "    'Models': models,\n",
    "    'Cross_val_score': cross_val_scores,\n",
    "    'Test_score': test_scores\n",
    "                          })"
   ]
  },
  {
   "cell_type": "code",
   "execution_count": null,
   "id": "448d366a-ea36-4060-a841-243671a44307",
   "metadata": {},
   "outputs": [],
   "source": [
    "results_df = results_df.sort_values('Cross_val_score', ascending=False)"
   ]
  },
  {
   "cell_type": "code",
   "execution_count": null,
   "id": "04e74241-e382-4c0d-82e6-bf31b9a552b1",
   "metadata": {},
   "outputs": [],
   "source": [
    "results_df = results_df.set_index('Models')"
   ]
  },
  {
   "cell_type": "code",
   "execution_count": null,
   "id": "c08b6755-542b-46f9-aba3-542755129fb4",
   "metadata": {},
   "outputs": [],
   "source": [
    "results_df"
   ]
  },
  {
   "cell_type": "markdown",
   "id": "dbd06aaf-5306-4745-9616-9ad23bb9c061",
   "metadata": {},
   "source": [
    "#### Матрицы ошибок"
   ]
  },
  {
   "cell_type": "code",
   "execution_count": null,
   "id": "e074d0b7-9802-419d-b2d0-cf4df249a5e3",
   "metadata": {},
   "outputs": [],
   "source": [
    "ConfusionMatrixDisplay.from_estimator(lr_gs.best_estimator_, X_test, y_test);"
   ]
  },
  {
   "cell_type": "code",
   "execution_count": null,
   "id": "0d13425f-87ae-447d-8813-4c7c19e466a4",
   "metadata": {},
   "outputs": [],
   "source": [
    "ConfusionMatrixDisplay.from_estimator(catboost_gs.best_estimator_, X_test, y_test);"
   ]
  },
  {
   "cell_type": "code",
   "execution_count": null,
   "id": "a3d325dc-bcca-4ac8-9dd3-8597c39a3897",
   "metadata": {},
   "outputs": [],
   "source": [
    "ConfusionMatrixDisplay.from_estimator(lgbm_gs.best_estimator_, X_test, y_test);"
   ]
  },
  {
   "cell_type": "markdown",
   "id": "3a1b5f9f-54ff-4e1e-ab89-6accf60acfee",
   "metadata": {},
   "source": [
    "## Анализ важности признаков моделей"
   ]
  },
  {
   "cell_type": "markdown",
   "id": "ec143ae4-e55c-4fb3-834e-e2ce5c550e76",
   "metadata": {},
   "source": [
    "### Логистическая регрессия"
   ]
  },
  {
   "cell_type": "code",
   "execution_count": null,
   "id": "33a90c66-6651-4d65-b592-6c9dd3dc37a5",
   "metadata": {},
   "outputs": [],
   "source": [
    "lr_shap = lr_gs.best_estimator_.named_steps['preprocessor'].transform(X_test)"
   ]
  },
  {
   "cell_type": "code",
   "execution_count": null,
   "id": "0d1a6278-6365-496e-aada-15fe9eb16cb2",
   "metadata": {},
   "outputs": [],
   "source": [
    "explainer = shap.LinearExplainer(lr_gs.best_estimator_['models'], lr_shap)"
   ]
  },
  {
   "cell_type": "code",
   "execution_count": null,
   "id": "5f2af2c2-9924-4b98-9480-9b41e3bcb071",
   "metadata": {},
   "outputs": [],
   "source": [
    "num_names = lr_gs.best_estimator_.named_steps['preprocessor'].transformers_[1][1].get_feature_names_out()"
   ]
  },
  {
   "cell_type": "code",
   "execution_count": null,
   "id": "90f316bb-3646-4682-b5fd-6bb9c4de7f62",
   "metadata": {},
   "outputs": [],
   "source": [
    "explainer.feature_names = num_names"
   ]
  },
  {
   "cell_type": "code",
   "execution_count": null,
   "id": "8a3d830b-4396-443c-b2d2-2ec78bd065a5",
   "metadata": {},
   "outputs": [],
   "source": [
    "shap_values = explainer(lr_shap)"
   ]
  },
  {
   "cell_type": "code",
   "execution_count": null,
   "id": "210828ac-2799-4dc2-aaac-f23e5df568ab",
   "metadata": {},
   "outputs": [],
   "source": [
    "plt.subplots(figsize=(12, 6))\n",
    "plt.title(label='График значимости признаков' , fontsize=15)\n",
    "plt.xlabel('shap_value или значимость', fontsize=15)\n",
    "plt.ylabel('Имя признака', fontsize=15)\n",
    "shap.plots.bar(shap_values, max_display=20)\n",
    "plt.show()"
   ]
  },
  {
   "cell_type": "markdown",
   "id": "ef668126-cb93-4883-bd60-1169989d09ce",
   "metadata": {},
   "source": [
    "### Анализ важности признаков catboost"
   ]
  },
  {
   "cell_type": "code",
   "execution_count": null,
   "id": "8afbc842-373d-40e2-88dd-f3258c4f769f",
   "metadata": {},
   "outputs": [],
   "source": [
    "importances = catboost_gs.best_estimator_.get_feature_importance()"
   ]
  },
  {
   "cell_type": "code",
   "execution_count": null,
   "id": "cac44c4c-c7b7-493d-b1ce-56155172810e",
   "metadata": {},
   "outputs": [],
   "source": [
    "importances_df = pd.DataFrame({'Feature': X_train.columns, 'Importance': importances})"
   ]
  },
  {
   "cell_type": "code",
   "execution_count": null,
   "id": "1f1d65c0-1cfa-4cd8-bafa-798f0e215210",
   "metadata": {},
   "outputs": [],
   "source": [
    "importances_df = importances_df.sort_values('Importance', ascending=False)"
   ]
  },
  {
   "cell_type": "code",
   "execution_count": null,
   "id": "c31bcb9c-1821-4413-aea8-b4c9b4b123c9",
   "metadata": {},
   "outputs": [],
   "source": [
    "plt.figure(figsize=(10, 8))\n",
    "sn.barplot(x='Importance', y='Feature', data=importances_df, palette='Blues_d')\n",
    "plt.title('Важность признаков CatBoost')\n",
    "plt.xlabel('Важность')\n",
    "plt.ylabel('Признаки')\n",
    "plt.show()"
   ]
  },
  {
   "cell_type": "markdown",
   "id": "a652318c-3bde-401a-b16c-3282d986a1c1",
   "metadata": {},
   "source": [
    "### Анализ важности признаков LGBM"
   ]
  },
  {
   "cell_type": "code",
   "execution_count": null,
   "id": "bbcda418-ccff-49d7-84f3-ab54b1a0d09d",
   "metadata": {},
   "outputs": [],
   "source": [
    "importances_lgbm = lgbm_gs.best_estimator_.feature_importances_"
   ]
  },
  {
   "cell_type": "code",
   "execution_count": null,
   "id": "a5ba4cba-51c9-461c-b39a-82341d3300fd",
   "metadata": {},
   "outputs": [],
   "source": [
    "importances_df_lgbm = pd.DataFrame({'Feature': X_train.columns, 'Importance': importances_lgbm})"
   ]
  },
  {
   "cell_type": "code",
   "execution_count": null,
   "id": "251d8708-16b6-4e7d-9805-3093812ba59a",
   "metadata": {},
   "outputs": [],
   "source": [
    "importances_df_lgbm = importances_df_lgbm.sort_values('Importance', ascending=False)"
   ]
  },
  {
   "cell_type": "code",
   "execution_count": null,
   "id": "416f2f6f-cca9-41b6-adda-3f3858cbecf0",
   "metadata": {},
   "outputs": [],
   "source": [
    "plt.figure(figsize=(10, 8))\n",
    "sn.barplot(x='Importance', y='Feature', data=importances_df_lgbm, palette='Blues_d')\n",
    "plt.title('Важность признаков LGBM')\n",
    "plt.xlabel('Важность')\n",
    "plt.ylabel('Признаки')\n",
    "plt.show()"
   ]
  },
  {
   "cell_type": "code",
   "execution_count": null,
   "id": "36585d25-2b67-460c-b1d9-3bfd7c63f53a",
   "metadata": {},
   "outputs": [],
   "source": [
    "explainer_lgbm = shap.Explainer(lgbm_gs.best_estimator_)"
   ]
  },
  {
   "cell_type": "code",
   "execution_count": null,
   "id": "3193788c-f00f-4845-bf78-a081509cb3e2",
   "metadata": {},
   "outputs": [],
   "source": [
    "shap_values = explainer_lgbm(X_train)"
   ]
  },
  {
   "cell_type": "code",
   "execution_count": null,
   "id": "c956f64b-9d45-40ed-b9e4-6e761b87d852",
   "metadata": {},
   "outputs": [],
   "source": [
    "shap.summary_plot(shap_values, X_train)"
   ]
  },
  {
   "cell_type": "markdown",
   "id": "d0c23843-12fe-4818-bc98-1baa923fecdc",
   "metadata": {},
   "source": [
    "## Настройка лучшей модели"
   ]
  },
  {
   "cell_type": "markdown",
   "id": "154eed25-2220-41f1-8a46-a62c94d9cfa4",
   "metadata": {},
   "source": [
    "Кроссвалидация и метрика тоночсти показала небольшое, но преимущество LGBM модели над остальными\n",
    "\n",
    "Что более важно, матрица ошибок LGBM модели показала, что у LGBM модели самая высокая **специфичность**, т.е она заметно лучше остальных моделей предсказывает **падение цены**"
   ]
  },
  {
   "cell_type": "markdown",
   "id": "d175161c-6183-4c7b-8992-99fc4e4eb17d",
   "metadata": {},
   "source": [
    "**Отталкиваясь от данного факта, попробуем улучшить эту модель**"
   ]
  },
  {
   "cell_type": "code",
   "execution_count": null,
   "id": "c7674108-95ab-451f-b871-ed3757fc4891",
   "metadata": {},
   "outputs": [],
   "source": [
    "sol_data.columns"
   ]
  },
  {
   "cell_type": "markdown",
   "id": "7193ee02-d41b-4bdf-bb1b-9cb13af7a02b",
   "metadata": {},
   "source": [
    "### Попытка обучения LGBM №2"
   ]
  },
  {
   "cell_type": "code",
   "execution_count": null,
   "id": "e55920a1-24db-4e31-8660-3e05e90b5b88",
   "metadata": {},
   "outputs": [],
   "source": [
    "model_lgbm_columns = ['target', 'ema_50', 'ema_100', 'ema_200', 'rsi', 'macd_line',\n",
    "       'signal_line', 'macd_hist', 'stoch_rsi_k', 'stoch_rsi_d',\n",
    "       'delta_ema_50', 'delta_ema_100', 'delta_ema_200']"
   ]
  },
  {
   "cell_type": "code",
   "execution_count": null,
   "id": "bfb33b6f-6a9c-49d1-bf5d-0e7a49c9a1a7",
   "metadata": {},
   "outputs": [],
   "source": [
    "train_lgbm, test_lgbm = train_test_split(sol_data[model_lgbm_columns], shuffle=False, test_size=0.1)"
   ]
  },
  {
   "cell_type": "code",
   "execution_count": null,
   "id": "606616d1-a53d-49fd-8557-71c2137ecbc2",
   "metadata": {},
   "outputs": [],
   "source": [
    "X_train_lgbm = train_lgbm.drop('target', axis=1)"
   ]
  },
  {
   "cell_type": "code",
   "execution_count": null,
   "id": "a46743a7-b7df-44ad-b89d-b2fa1b6421a0",
   "metadata": {},
   "outputs": [],
   "source": [
    "y_train_lgbm = train_lgbm['target']"
   ]
  },
  {
   "cell_type": "code",
   "execution_count": null,
   "id": "58670615-c017-4f69-a23b-e78e5d455e76",
   "metadata": {},
   "outputs": [],
   "source": [
    "X_test_lgbm = test_lgbm.drop('target', axis=1)"
   ]
  },
  {
   "cell_type": "code",
   "execution_count": null,
   "id": "d11e9938-3ca1-4f0d-8b8d-821416278031",
   "metadata": {},
   "outputs": [],
   "source": [
    "y_test_lgbm = test_lgbm['target']"
   ]
  },
  {
   "cell_type": "code",
   "execution_count": null,
   "id": "2f92325c-393f-4c2a-ab5e-f809b4783930",
   "metadata": {},
   "outputs": [],
   "source": [
    "model_lgbm_2 = lgb.LGBMClassifier(random_state=RANDOM_STATE,  force_col_wise=True)"
   ]
  },
  {
   "cell_type": "code",
   "execution_count": null,
   "id": "e4bb4cf4-2426-4218-b085-b4ec3995ceba",
   "metadata": {},
   "outputs": [],
   "source": [
    "param_grid_gbm = {\n",
    " 'learning_rate': [0.01],\n",
    " 'n_estimators': [250, 500, 1000],\n",
    " 'max_depth': range(2,10),\n",
    " 'num_leaves': range(2,10)\n",
    "}"
   ]
  },
  {
   "cell_type": "code",
   "execution_count": null,
   "id": "9c9ca9ac-858c-46e9-a39f-0e69b9a32304",
   "metadata": {},
   "outputs": [],
   "source": [
    "lgbm_gs_2 = GridSearchCV(model_lgbm_2, param_grid_gbm, cv=tscv, scoring='accuracy', n_jobs=-1, verbose=2)"
   ]
  },
  {
   "cell_type": "code",
   "execution_count": null,
   "id": "18f591e4-743b-46d2-9580-a0b69f0318ba",
   "metadata": {},
   "outputs": [],
   "source": [
    "lgbm_gs_2.fit(X_train_lgbm, y_train_lgbm)"
   ]
  },
  {
   "cell_type": "code",
   "execution_count": null,
   "id": "8f67c7d6-ff14-40e6-97d8-f66c14eca7ce",
   "metadata": {},
   "outputs": [],
   "source": [
    "lgbm_score_2 = round((lgbm_gs_2.best_score_),4)"
   ]
  },
  {
   "cell_type": "code",
   "execution_count": null,
   "id": "79889c46-a991-4a5c-aea6-e0e1dba91d4b",
   "metadata": {},
   "outputs": [],
   "source": [
    "print(f'Метрика accuracy_score на кроссвалидации для модели LGBM_2 равна {lgbm_score_2}')"
   ]
  },
  {
   "cell_type": "code",
   "execution_count": null,
   "id": "71146c15-916f-4b06-9b8e-ea3447974cf2",
   "metadata": {},
   "outputs": [],
   "source": [
    "lgbm_prediction_2 = lgbm_gs_2.best_estimator_.predict(X_test_lgbm)"
   ]
  },
  {
   "cell_type": "code",
   "execution_count": null,
   "id": "36986124-c57e-4580-9081-b3ec127c81ac",
   "metadata": {},
   "outputs": [],
   "source": [
    "lgbm_accuracy_2 = accuracy_score(y_test_lgbm, lgbm_prediction_2)"
   ]
  },
  {
   "cell_type": "code",
   "execution_count": null,
   "id": "3990f194-ee93-412c-a107-e2d4984b3b93",
   "metadata": {},
   "outputs": [],
   "source": [
    "print(\"Accuracy Score:\", lgbm_accuracy_2)"
   ]
  },
  {
   "cell_type": "code",
   "execution_count": null,
   "id": "2281c649-997c-4730-a3d2-4d682cdc0c67",
   "metadata": {},
   "outputs": [],
   "source": [
    "ConfusionMatrixDisplay.from_estimator(lgbm_gs_2.best_estimator_, X_test_lgbm, y_test_lgbm);"
   ]
  },
  {
   "cell_type": "code",
   "execution_count": null,
   "id": "36e7440a-61ae-4867-bdb0-aa83152d9e38",
   "metadata": {},
   "outputs": [],
   "source": [
    "importances_lgbm_2 = lgbm_gs_2.best_estimator_.feature_importances_"
   ]
  },
  {
   "cell_type": "code",
   "execution_count": null,
   "id": "41c1199f-34d8-41c9-9fbc-a88d195020c7",
   "metadata": {},
   "outputs": [],
   "source": [
    "importances_df_lgbm_2 = pd.DataFrame({'Feature': X_train_lgbm.columns, 'Importance': importances_lgbm_2})"
   ]
  },
  {
   "cell_type": "code",
   "execution_count": null,
   "id": "8a611ce8-e7e6-4c8c-b285-270bb6df2195",
   "metadata": {},
   "outputs": [],
   "source": [
    "importances_df_lgbm_2 = importances_df_lgbm_2.sort_values('Importance', ascending=False)"
   ]
  },
  {
   "cell_type": "code",
   "execution_count": null,
   "id": "d551050b-fb3e-4e5b-a00b-ce38d37cbc53",
   "metadata": {},
   "outputs": [],
   "source": [
    "plt.figure(figsize=(10, 8))\n",
    "sn.barplot(x='Importance', y='Feature', data=importances_df_lgbm_2, palette='Blues_d')\n",
    "plt.title('Важность признаков LGBM')\n",
    "plt.xlabel('Важность')\n",
    "plt.ylabel('Признаки')\n",
    "plt.show()"
   ]
  },
  {
   "cell_type": "markdown",
   "id": "f9a02f68-ee6d-430d-a35e-d4c88e0b5c9d",
   "metadata": {},
   "source": [
    "### Попытка обучения №3"
   ]
  },
  {
   "cell_type": "code",
   "execution_count": null,
   "id": "59fc7cc1-cf5e-4d63-9761-69bd57c7562b",
   "metadata": {},
   "outputs": [],
   "source": [
    "m_col_3 = ['target',  'rsi', 'macd_line',\n",
    "       'signal_line', 'macd_hist', 'stoch_rsi_k', 'stoch_rsi_d',\n",
    "       'delta_ema_50', 'delta_ema_100', 'delta_ema_200']"
   ]
  },
  {
   "cell_type": "code",
   "execution_count": null,
   "id": "34881f9c-42d4-4b49-8349-8b04296d4f38",
   "metadata": {},
   "outputs": [],
   "source": [
    "train_lgbm_3, test_lgbm_3 = train_test_split(sol_data[m_col_3], shuffle=False, test_size=0.1)"
   ]
  },
  {
   "cell_type": "code",
   "execution_count": null,
   "id": "712bf922-ff82-44fc-a038-6f615b70c5f3",
   "metadata": {},
   "outputs": [],
   "source": [
    "X_train_lgbm_3 = train_lgbm_3.drop('target', axis=1)"
   ]
  },
  {
   "cell_type": "code",
   "execution_count": null,
   "id": "856b33f2-790f-4275-bd41-f8f375818692",
   "metadata": {},
   "outputs": [],
   "source": [
    "y_train_lgbm_3 = train_lgbm_3['target']"
   ]
  },
  {
   "cell_type": "code",
   "execution_count": null,
   "id": "41a9f44a-5346-4150-bfc7-3700ed7e3dd6",
   "metadata": {},
   "outputs": [],
   "source": [
    "X_test_lgbm_3 = test_lgbm_3.drop('target', axis=1)"
   ]
  },
  {
   "cell_type": "code",
   "execution_count": null,
   "id": "3fc2f45d-f512-4d11-b241-0ce5d7af89db",
   "metadata": {},
   "outputs": [],
   "source": [
    "y_test_lgbm_3 = test_lgbm_3['target']"
   ]
  },
  {
   "cell_type": "code",
   "execution_count": null,
   "id": "cd1173d7-f001-4551-b153-fc862bed368a",
   "metadata": {},
   "outputs": [],
   "source": [
    "model_lgbm_3 = lgb.LGBMClassifier(random_state=RANDOM_STATE,  force_col_wise=True)"
   ]
  },
  {
   "cell_type": "code",
   "execution_count": null,
   "id": "57c5b2ae-f4cf-4d03-bc1a-7805ebba7903",
   "metadata": {},
   "outputs": [],
   "source": [
    "param_grid_gbm = {\n",
    " 'learning_rate': [0.01],\n",
    " 'n_estimators': [250, 500, 1000],\n",
    " 'max_depth': range(2,10),\n",
    " 'num_leaves': range(2,10)\n",
    "}"
   ]
  },
  {
   "cell_type": "code",
   "execution_count": null,
   "id": "5df763f2-5343-4be5-8ecf-a75986b89bf0",
   "metadata": {},
   "outputs": [],
   "source": [
    "lgbm_gs_3 = GridSearchCV(model_lgbm_3, param_grid_gbm, cv=tscv, scoring='accuracy', n_jobs=-1, verbose=2)"
   ]
  },
  {
   "cell_type": "code",
   "execution_count": null,
   "id": "09c0f6a2-2276-4aab-84a0-a8f14f63875d",
   "metadata": {},
   "outputs": [],
   "source": [
    "lgbm_gs_3.fit(X_train_lgbm_3, y_train_lgbm_3)"
   ]
  },
  {
   "cell_type": "code",
   "execution_count": null,
   "id": "db27662b-4207-44db-ab0c-fabe0c40c69a",
   "metadata": {},
   "outputs": [],
   "source": [
    "lgbm_score_3 = round((lgbm_gs_3.best_score_),4)"
   ]
  },
  {
   "cell_type": "code",
   "execution_count": null,
   "id": "8d202cec-9771-4910-b4df-0d152c04cda3",
   "metadata": {},
   "outputs": [],
   "source": [
    "print(f'Метрика accuracy_score на кроссвалидации для модели LGBM_3 равна {lgbm_score_3}')"
   ]
  },
  {
   "cell_type": "code",
   "execution_count": null,
   "id": "863023a5-b4f8-4081-a73e-2b725a9027d1",
   "metadata": {},
   "outputs": [],
   "source": [
    "lgbm_prediction_3 = lgbm_gs_3.best_estimator_.predict(X_test_lgbm_3)"
   ]
  },
  {
   "cell_type": "code",
   "execution_count": null,
   "id": "da570254-637f-44bf-b3ae-f39ac07cde2c",
   "metadata": {},
   "outputs": [],
   "source": [
    "lgbm_accuracy_3 = accuracy_score(y_test_lgbm_3, lgbm_prediction_3)"
   ]
  },
  {
   "cell_type": "code",
   "execution_count": null,
   "id": "09080ea1-bf7c-42e5-b85c-ba18efe1f381",
   "metadata": {},
   "outputs": [],
   "source": [
    "print(\"Accuracy Score:\", lgbm_accuracy_3)"
   ]
  },
  {
   "cell_type": "code",
   "execution_count": null,
   "id": "e8b0e723-fe3a-4c14-94cf-1c02ef86aa8a",
   "metadata": {},
   "outputs": [],
   "source": [
    "ConfusionMatrixDisplay.from_estimator(lgbm_gs_3.best_estimator_, X_test_lgbm_3, y_test_lgbm_3);"
   ]
  },
  {
   "cell_type": "code",
   "execution_count": null,
   "id": "4c52d6e7-c137-485c-bb95-6a527ffb3a4c",
   "metadata": {},
   "outputs": [],
   "source": [
    "importances_lgbm_3 = lgbm_gs_3.best_estimator_.feature_importances_\n",
    "importances_df_lgbm_3 = pd.DataFrame({'Feature': X_train_lgbm_3.columns, 'Importance': importances_lgbm_3})\n",
    "importances_df_lgbm_3 = importances_df_lgbm_3.sort_values('Importance', ascending=False)"
   ]
  },
  {
   "cell_type": "code",
   "execution_count": null,
   "id": "b4d00f2a-2f60-402b-b5b9-4ae7809ae6b8",
   "metadata": {},
   "outputs": [],
   "source": [
    "plt.figure(figsize=(10, 8))\n",
    "sn.barplot(x='Importance', y='Feature', data=importances_df_lgbm_3, palette='Blues_d')\n",
    "plt.title('Важность признаков LGBM')\n",
    "plt.xlabel('Важность')\n",
    "plt.ylabel('Признаки')\n",
    "plt.show()"
   ]
  },
  {
   "cell_type": "markdown",
   "id": "6e9ab6dc-b86e-4a22-a5d7-2cae4cc26b60",
   "metadata": {},
   "source": [
    "### Попытка обучения №4"
   ]
  },
  {
   "cell_type": "code",
   "execution_count": null,
   "id": "358ae2e8-4654-4ed9-bc22-a79bb3c503fb",
   "metadata": {},
   "outputs": [],
   "source": [
    "m_col_4 = ['target',  'rsi',\n",
    "       'signal_line', 'macd_hist', 'stoch_rsi_k', 'stoch_rsi_d',\n",
    "       'delta_ema_50', 'delta_ema_100', 'delta_ema_200']"
   ]
  },
  {
   "cell_type": "code",
   "execution_count": null,
   "id": "bef757e7-d514-41c5-876b-fbb5e92c6ca3",
   "metadata": {},
   "outputs": [],
   "source": [
    "train_lgbm, test_lgbm = train_test_split(sol_data[m_col_4], shuffle=False, test_size=0.1)"
   ]
  },
  {
   "cell_type": "code",
   "execution_count": null,
   "id": "73fe4930-c0fa-4921-abb1-ff925c4c46b1",
   "metadata": {},
   "outputs": [],
   "source": [
    "X_train_lgbm_4 = train_lgbm.drop('target', axis=1)"
   ]
  },
  {
   "cell_type": "code",
   "execution_count": null,
   "id": "82a90792-17f8-4500-9b40-535575b32c1b",
   "metadata": {},
   "outputs": [],
   "source": [
    "y_train_lgbm_4 = train_lgbm['target']"
   ]
  },
  {
   "cell_type": "code",
   "execution_count": null,
   "id": "45f3a6de-1a72-4a96-a420-e251c45aa7bc",
   "metadata": {},
   "outputs": [],
   "source": [
    "X_test_lgbm_4 = test_lgbm.drop('target', axis=1)"
   ]
  },
  {
   "cell_type": "code",
   "execution_count": null,
   "id": "b34ed5ea-2004-4769-96fe-696a610ffe52",
   "metadata": {},
   "outputs": [],
   "source": [
    "y_test_lgbm_4 = test_lgbm['target']"
   ]
  },
  {
   "cell_type": "code",
   "execution_count": null,
   "id": "eba08282-6b1d-47e1-9fe5-c4e6e33ce70b",
   "metadata": {},
   "outputs": [],
   "source": [
    "model_lgbm_4 = lgb.LGBMClassifier(random_state=RANDOM_STATE,  force_col_wise=True)"
   ]
  },
  {
   "cell_type": "code",
   "execution_count": null,
   "id": "4dc73cdd-a8ca-42bb-9eb7-9aab44874a3b",
   "metadata": {},
   "outputs": [],
   "source": [
    "param_grid_gbm = {\n",
    " 'learning_rate': [0.01],\n",
    " 'n_estimators': [250, 500, 1000],\n",
    " 'max_depth': range(2,10),\n",
    " 'num_leaves': range(2,10)\n",
    "}"
   ]
  },
  {
   "cell_type": "code",
   "execution_count": null,
   "id": "33ef8196-09ed-4f0c-9f90-6b9d23cb60d9",
   "metadata": {},
   "outputs": [],
   "source": [
    "lgbm_gs_4 = GridSearchCV(model_lgbm_4, param_grid_gbm, cv=tscv, scoring='accuracy', n_jobs=-1, verbose=2)"
   ]
  },
  {
   "cell_type": "code",
   "execution_count": null,
   "id": "a1f802e1-074b-421a-a081-78a1dd290147",
   "metadata": {},
   "outputs": [],
   "source": [
    "lgbm_gs_4.fit(X_train_lgbm_4, y_train_lgbm_4)"
   ]
  },
  {
   "cell_type": "code",
   "execution_count": null,
   "id": "8b1404af-f2c7-4744-b705-007011c809d4",
   "metadata": {},
   "outputs": [],
   "source": [
    "lgbm_score_4 = round((lgbm_gs_4.best_score_),4)"
   ]
  },
  {
   "cell_type": "code",
   "execution_count": null,
   "id": "d9a4b9bc-2a10-42e4-8c30-88cbab9bc677",
   "metadata": {},
   "outputs": [],
   "source": [
    "print(f'Метрика accuracy_score на кроссвалидации для модели LGBM_4 равна {lgbm_score_4}')"
   ]
  },
  {
   "cell_type": "code",
   "execution_count": null,
   "id": "57aa83b8-1cde-4cd1-9a69-de3aa08ae220",
   "metadata": {},
   "outputs": [],
   "source": [
    "lgbm_prediction_4 = lgbm_gs_4.best_estimator_.predict(X_test_lgbm_4)\n",
    "lgbm_accuracy_4 = accuracy_score(y_test_lgbm_4, lgbm_prediction_4)\n",
    "print(\"Accuracy Score:\", lgbm_accuracy_4)"
   ]
  },
  {
   "cell_type": "code",
   "execution_count": null,
   "id": "3b0ef89c-be04-49cd-a6e6-973389c620a4",
   "metadata": {},
   "outputs": [],
   "source": [
    "ConfusionMatrixDisplay.from_estimator(lgbm_gs_4.best_estimator_, X_test_lgbm_4, y_test_lgbm_4);"
   ]
  },
  {
   "cell_type": "code",
   "execution_count": null,
   "id": "0c94d85c-bb38-415a-8788-0c406ad23c4a",
   "metadata": {},
   "outputs": [],
   "source": [
    "importances_lgbm_4 = lgbm_gs_4.best_estimator_.feature_importances_\n",
    "importances_df_lgbm_4 = pd.DataFrame({'Feature': X_train_lgbm_4.columns, 'Importance': importances_lgbm_4})\n",
    "importances_df_lgbm_4 = importances_df_lgbm_4.sort_values('Importance', ascending=False)"
   ]
  },
  {
   "cell_type": "code",
   "execution_count": null,
   "id": "d10343fd-5bf2-4ad3-877c-3cfa225dc525",
   "metadata": {},
   "outputs": [],
   "source": [
    "plt.figure(figsize=(10, 8))\n",
    "sn.barplot(x='Importance', y='Feature', data=importances_df_lgbm_4, palette='Blues_d')\n",
    "plt.title('Важность признаков LGBM')\n",
    "plt.xlabel('Важность')\n",
    "plt.ylabel('Признаки')\n",
    "plt.show()"
   ]
  },
  {
   "cell_type": "markdown",
   "id": "5c22438c-59d3-4ffe-b9b6-14c6fb39a464",
   "metadata": {},
   "source": [
    "### Попытка обучения №5"
   ]
  },
  {
   "cell_type": "code",
   "execution_count": null,
   "id": "92aafa46-b1b3-40e1-baef-92fcf22b5796",
   "metadata": {},
   "outputs": [],
   "source": [
    "m_col_5 = ['target',  'rsi', 'macd_hist', 'stoch_rsi_k', 'stoch_rsi_d',\n",
    "       'delta_ema_50', 'delta_ema_100', 'delta_ema_200']"
   ]
  },
  {
   "cell_type": "code",
   "execution_count": null,
   "id": "14bb930f-e728-4233-ad34-9ff863c7eed8",
   "metadata": {},
   "outputs": [],
   "source": [
    "train_lgbm, test_lgbm = train_test_split(sol_data[m_col_5], shuffle=False, test_size=0.1)\n",
    "X_train_lgbm = train_lgbm.drop('target', axis=1)\n",
    "y_train_lgbm = train_lgbm['target']\n",
    "X_test_lgbm = test_lgbm.drop('target', axis=1)\n",
    "y_test_lgbm = test_lgbm['target']"
   ]
  },
  {
   "cell_type": "code",
   "execution_count": null,
   "id": "d56902da-57da-4789-8c90-6faeec755dc9",
   "metadata": {},
   "outputs": [],
   "source": [
    "model_lgbm_5 = lgb.LGBMClassifier(random_state=RANDOM_STATE,  force_col_wise=True)"
   ]
  },
  {
   "cell_type": "code",
   "execution_count": null,
   "id": "f09aec0c-2df0-44ac-82fa-b3aa96746b68",
   "metadata": {},
   "outputs": [],
   "source": [
    "param_grid_gbm = {\n",
    " 'learning_rate': [0.01],\n",
    " 'n_estimators': [250, 500, 1000],\n",
    " 'max_depth': range(2,10),\n",
    " 'num_leaves': range(2,10)\n",
    "}"
   ]
  },
  {
   "cell_type": "code",
   "execution_count": null,
   "id": "c7f9a56c-5080-49c2-8f3a-adf5de67d82e",
   "metadata": {},
   "outputs": [],
   "source": [
    "lgbm_gs_5 = GridSearchCV(model_lgbm_5, param_grid_gbm, cv=tscv, scoring='accuracy', n_jobs=-1, verbose=2)"
   ]
  },
  {
   "cell_type": "code",
   "execution_count": null,
   "id": "c1d3fddc-6e12-44db-94b4-c54d312f8d7a",
   "metadata": {},
   "outputs": [],
   "source": [
    "lgbm_gs_5.fit(X_train_lgbm, y_train_lgbm)"
   ]
  },
  {
   "cell_type": "code",
   "execution_count": null,
   "id": "c3ea6228-2642-41d6-aa84-01a3c8f8019c",
   "metadata": {},
   "outputs": [],
   "source": [
    "lgbm_score_5 = round((lgbm_gs_5.best_score_),4)\n",
    "print(f'Метрика accuracy_score на кроссвалидации для модели LGBM_5 равна {lgbm_score_5}')"
   ]
  },
  {
   "cell_type": "code",
   "execution_count": null,
   "id": "62c43cb2-10f1-47b5-95ba-621bd6045c81",
   "metadata": {},
   "outputs": [],
   "source": [
    "lgbm_prediction_5 = lgbm_gs_5.best_estimator_.predict(X_test_lgbm)\n",
    "lgbm_accuracy_5 = accuracy_score(y_test_lgbm, lgbm_prediction_5)\n",
    "print(\"Accuracy Score:\", lgbm_accuracy_5)"
   ]
  },
  {
   "cell_type": "code",
   "execution_count": null,
   "id": "363d45e2-b653-4917-b783-33f9912ac321",
   "metadata": {},
   "outputs": [],
   "source": [
    "ConfusionMatrixDisplay.from_estimator(lgbm_gs_5.best_estimator_, X_test_lgbm, y_test_lgbm);"
   ]
  },
  {
   "cell_type": "markdown",
   "id": "017c4ef6-04cc-4fad-90d5-a70592e28fa5",
   "metadata": {},
   "source": [
    "### Промежуточный итог 5 моделей LGBM"
   ]
  },
  {
   "cell_type": "code",
   "execution_count": null,
   "id": "c22e678d-fa30-4e62-9352-74b2da76af32",
   "metadata": {},
   "outputs": [],
   "source": [
    "cross_val_scores = lgbm_score, lgbm_score_2, lgbm_score_3, lgbm_score_4, lgbm_score_5\n",
    "test_scores = lgbm_accuracy, lgbm_accuracy_2, lgbm_accuracy_3, lgbm_accuracy_4, lgbm_accuracy_5"
   ]
  },
  {
   "cell_type": "code",
   "execution_count": null,
   "id": "65d20a45-9196-4d2a-89d4-2f9740f077f7",
   "metadata": {},
   "outputs": [],
   "source": [
    "models = ['LGBM','LGBM_2','LGBM_3','LGBM_4','LGBM_5']"
   ]
  },
  {
   "cell_type": "code",
   "execution_count": null,
   "id": "a36f10cf-c999-4ae5-85fc-c55b15f7aef1",
   "metadata": {},
   "outputs": [],
   "source": [
    "results_lgbm = pd.DataFrame({\n",
    "    'Models': models,\n",
    "    'Cross_val_score': cross_val_scores,\n",
    "    'Test_score': test_scores\n",
    "                          })"
   ]
  },
  {
   "cell_type": "code",
   "execution_count": null,
   "id": "94273022-9df0-4882-8f39-854df1e89f76",
   "metadata": {},
   "outputs": [],
   "source": [
    "results_lgbm = results_lgbm.sort_values('Cross_val_score', ascending=False)"
   ]
  },
  {
   "cell_type": "code",
   "execution_count": null,
   "id": "ddedde0c-59f3-4f25-9b71-da76d359db42",
   "metadata": {},
   "outputs": [],
   "source": [
    "results_lgbm = results_lgbm.set_index('Models')"
   ]
  },
  {
   "cell_type": "code",
   "execution_count": null,
   "id": "9311e3a6-7fc4-45a6-a2e6-fb99059dd032",
   "metadata": {},
   "outputs": [],
   "source": [
    "results_lgbm"
   ]
  }
 ],
 "metadata": {
  "kernelspec": {
   "display_name": "Python 3 (ipykernel)",
   "language": "python",
   "name": "python3"
  },
  "language_info": {
   "codemirror_mode": {
    "name": "ipython",
    "version": 3
   },
   "file_extension": ".py",
   "mimetype": "text/x-python",
   "name": "python",
   "nbconvert_exporter": "python",
   "pygments_lexer": "ipython3",
   "version": "3.11.7"
  }
 },
 "nbformat": 4,
 "nbformat_minor": 5
}
